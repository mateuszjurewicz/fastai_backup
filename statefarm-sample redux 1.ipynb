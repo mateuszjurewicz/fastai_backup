{
 "cells": [
  {
   "cell_type": "markdown",
   "metadata": {},
   "source": [
    "# Statefarm Sample - redux 1\n",
    "First, we need to create a validation set so that drivers from train don't appear in valid."
   ]
  },
  {
   "cell_type": "markdown",
   "metadata": {},
   "source": [
    "## 1. Create valid set for sample\n",
    "Let's do this for sample first."
   ]
  },
  {
   "cell_type": "code",
   "execution_count": 2,
   "metadata": {
    "collapsed": true
   },
   "outputs": [],
   "source": [
    "# we'll be doing this in kaggle_data/state-farm-redux\n",
    "path_to_data = \"/home/ubuntu/courses/deeplearning1/nbs/kaggle_data/state-farm-redux\"\n",
    "path_to_sample = path_to_data + \"/sample\"\n",
    "driver_list = path_to_data + \"/driver_imgs_list.csv\""
   ]
  },
  {
   "cell_type": "code",
   "execution_count": 3,
   "metadata": {
    "collapsed": true
   },
   "outputs": [],
   "source": [
    "import csv\n",
    "import glob\n",
    "import os"
   ]
  },
  {
   "cell_type": "code",
   "execution_count": 20,
   "metadata": {
    "collapsed": false
   },
   "outputs": [
    {
     "name": "stdout",
     "output_type": "stream",
     "text": [
      "725\n"
     ]
    }
   ],
   "source": [
    "# read in all images belonging to one person\n",
    "columns = [\"subject\", \"classname\", \"img\"]\n",
    "same_guy_imgs = []\n",
    "\n",
    "with open (driver_list, \"r\") as f:\n",
    "    csv_dict = csv.DictReader(f, fieldnames=columns)\n",
    "    \n",
    "    # skip header\n",
    "    csv_dict.next()\n",
    "    \n",
    "    # find the first driver id\n",
    "    first_data_row = csv_dict.next()\n",
    "    driver_id = first_data_row[\"subject\"]\n",
    "    \n",
    "    # append first row's img to the list\n",
    "    same_guy_imgs.append(first_data_row[\"classname\"] + \"/\" + first_data_row[\"img\"])\n",
    "    \n",
    "    # append the rest of images for this driver\n",
    "    for row in csv_dict:\n",
    "        if row[\"subject\"] == driver_id:\n",
    "            same_guy_imgs.append(row[\"classname\"] + \"/\" + row[\"img\"])\n",
    "    \n",
    "    print(len(same_guy_imgs))\n",
    "        "
   ]
  },
  {
   "cell_type": "code",
   "execution_count": 26,
   "metadata": {
    "collapsed": false
   },
   "outputs": [
    {
     "name": "stdout",
     "output_type": "stream",
     "text": [
      "/home/ubuntu/courses/deeplearning1/nbs/kaggle_data/state-farm-redux\n",
      "/home/ubuntu/courses/deeplearning1/nbs/kaggle_data/state-farm-redux\n"
     ]
    }
   ],
   "source": [
    "# we need to move to our state-farm-redux folder\n",
    "!pwd\n",
    "%cd $path_to_data"
   ]
  },
  {
   "cell_type": "code",
   "execution_count": 32,
   "metadata": {
    "collapsed": false
   },
   "outputs": [],
   "source": [
    "# ok, 725 images is a bit much for the validation set but all of them do need to be removed from train set\n",
    "# so move them from train set (after manually creating the c0 - c9 folders via tmux)\n",
    "for img in same_guy_imgs:\n",
    "    os.rename(path_to_data + \"/train/\" + img, path_to_sample + \"/valid/\" + img)"
   ]
  },
  {
   "cell_type": "code",
   "execution_count": 33,
   "metadata": {
    "collapsed": true
   },
   "outputs": [],
   "source": [
    "# I have inadvertantly moved them from my main train set... \n",
    "# but that's ok"
   ]
  },
  {
   "cell_type": "code",
   "execution_count": 38,
   "metadata": {
    "collapsed": false
   },
   "outputs": [
    {
     "name": "stdout",
     "output_type": "stream",
     "text": [
      "p012\n"
     ]
    }
   ],
   "source": [
    "# now I want to grab say 50 images per category for different people (each of a different person)\n",
    "# and copy them to my sample/train\n",
    "\n",
    "other_guys_imgs_c0 = []\n",
    "\n",
    "with open (driver_list, \"r\") as f:\n",
    "    csv_dict = csv.DictReader(f, fieldnames=columns)\n",
    "    \n",
    "    # skip header\n",
    "    csv_dict.next()\n",
    "    \n",
    "    # find the first driver id\n",
    "    first_data_row = csv_dict.next()\n",
    "    driver_id = first_data_row[\"subject\"]\n",
    "    \n",
    "    # find the first row with the other driver\n",
    "    new_driver_id = None\n",
    "    no_new_found = True\n",
    "    \n",
    "    while no_new_found:\n",
    "        new_driver_id = csv_dict.next()[\"subject\"]\n",
    "        if new_driver_id != driver_id:\n",
    "            no_new_found = False\n",
    "    \n",
    "    # we have now found a new driver\n",
    "    # we want to grab a couple of the images with his/her c0-c9 photos\n",
    "    csv_\n",
    "    \n",
    "    print(new_driver_id)"
   ]
  },
  {
   "cell_type": "code",
   "execution_count": null,
   "metadata": {
    "collapsed": true
   },
   "outputs": [],
   "source": []
  }
 ],
 "metadata": {
  "anaconda-cloud": {},
  "kernelspec": {
   "display_name": "Python [conda root]",
   "language": "python",
   "name": "conda-root-py"
  },
  "language_info": {
   "codemirror_mode": {
    "name": "ipython",
    "version": 2
   },
   "file_extension": ".py",
   "mimetype": "text/x-python",
   "name": "python",
   "nbconvert_exporter": "python",
   "pygments_lexer": "ipython2",
   "version": "2.7.12"
  }
 },
 "nbformat": 4,
 "nbformat_minor": 1
}
