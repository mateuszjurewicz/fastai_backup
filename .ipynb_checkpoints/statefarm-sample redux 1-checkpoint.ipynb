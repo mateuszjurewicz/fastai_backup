{
 "cells": [
  {
   "cell_type": "markdown",
   "metadata": {},
   "source": [
    "# Statefarm Sample - redux 1\n",
    "First, we need to create a validation set so that drivers from train don't appear in valid."
   ]
  },
  {
   "cell_type": "markdown",
   "metadata": {},
   "source": [
    "## 1. Create valid set for sample\n",
    "Let's do this for sample first."
   ]
  },
  {
   "cell_type": "code",
   "execution_count": 1,
   "metadata": {
    "collapsed": true
   },
   "outputs": [],
   "source": [
    "# we'll be doing this in kaggle_data/state-farm-redux\n",
    "path_to_data = \"/home/ubuntu/courses/deeplearning1/nbs/kaggle_data/state-farm-redux\"\n",
    "path_to_sample = path_to_data + \"/sample\"\n",
    "driver_list = path_to_data + \"/driver_imgs_list.csv\""
   ]
  },
  {
   "cell_type": "code",
   "execution_count": 2,
   "metadata": {
    "collapsed": true
   },
   "outputs": [],
   "source": [
    "import csv\n",
    "import glob\n",
    "import os"
   ]
  },
  {
   "cell_type": "code",
   "execution_count": 12,
   "metadata": {
    "collapsed": false
   },
   "outputs": [
    {
     "name": "stdout",
     "output_type": "stream",
     "text": [
      "725\n"
     ]
    }
   ],
   "source": [
    "# read in all images belonging to one person\n",
    "columns = [\"subject\", \"classname\", \"img\"]\n",
    "same_guy_imgs = []\n",
    "\n",
    "with open (driver_list, \"r\") as f:\n",
    "    csv_dict = csv.DictReader(f, fieldnames=columns)\n",
    "    \n",
    "    # skip header\n",
    "    csv_dict.next()\n",
    "    \n",
    "    # find the first driver id\n",
    "    first_data_row = csv_dict.next()\n",
    "    driver_id = first_data_row[\"subject\"]\n",
    "    \n",
    "    # append first row's img to the list\n",
    "    same_guy_imgs.append(first_data_row[\"classname\"] + \"/\" + first_data_row[\"img\"])\n",
    "    \n",
    "    # append the rest of images for this driver\n",
    "    for row in csv_dict:\n",
    "        if row[\"subject\"] == driver_id:\n",
    "            same_guy_imgs.append(row[\"classname\"] + \"/\" + row[\"img\"])\n",
    "    \n",
    "    print(len(same_guy_imgs))\n",
    "        "
   ]
  },
  {
   "cell_type": "code",
   "execution_count": 26,
   "metadata": {
    "collapsed": false
   },
   "outputs": [
    {
     "name": "stdout",
     "output_type": "stream",
     "text": [
      "/home/ubuntu/courses/deeplearning1/nbs/kaggle_data/state-farm-redux\n",
      "/home/ubuntu/courses/deeplearning1/nbs/kaggle_data/state-farm-redux\n"
     ]
    }
   ],
   "source": [
    "# we need to move to our state-farm-redux folder\n",
    "!pwd\n",
    "%cd $path_to_data"
   ]
  },
  {
   "cell_type": "code",
   "execution_count": 32,
   "metadata": {
    "collapsed": false
   },
   "outputs": [],
   "source": [
    "# ok, 725 images is a bit much for the validation set but all of them do need to be removed from train set\n",
    "# so move them from train set (after manually creating the c0 - c9 folders via tmux)\n",
    "for img in same_guy_imgs:\n",
    "    os.rename(path_to_data + \"/train/\" + img, path_to_sample + \"/valid/\" + img)"
   ]
  },
  {
   "cell_type": "code",
   "execution_count": 33,
   "metadata": {
    "collapsed": true
   },
   "outputs": [],
   "source": [
    "# I have inadvertantly moved them from my main train set... \n",
    "# but that's ok"
   ]
  },
  {
   "cell_type": "code",
   "execution_count": 24,
   "metadata": {
    "collapsed": false
   },
   "outputs": [],
   "source": [
    "# now I want to grab say 50 images per category for different people (each of a different person)\n",
    "# and copy them to my sample/train\n",
    "\n",
    "columns = [\"subject\", \"classname\", \"img\"]\n",
    "other_guys_imgs = []\n",
    "\n",
    "with open (driver_list, \"r\") as f:\n",
    "    csv_dict = csv.DictReader(f, fieldnames=columns)\n",
    "    \n",
    "    # skip header\n",
    "    csv_dict.next()\n",
    "    \n",
    "    # find the first driver id\n",
    "    first_data_row = csv_dict.next()\n",
    "    old_driver_id = first_data_row[\"subject\"]\n",
    "    old_classname = None\n",
    "    \n",
    "    for row in csv_dict:\n",
    "        new_driver_id = row[\"subject\"]\n",
    "        new_classname = row[\"classname\"]\n",
    "        \n",
    "        # skip until new driver and new class\n",
    "        if new_driver_id == old_driver_id and new_classname == old_classname:\n",
    "            continue\n",
    "        else:\n",
    "            old_driver_id = new_driver_id\n",
    "            old_classname = new_classname\n",
    "            other_guys_imgs.append(row[\"classname\"] + \"/\" + row[\"img\"])"
   ]
  },
  {
   "cell_type": "code",
   "execution_count": 25,
   "metadata": {
    "collapsed": false
   },
   "outputs": [
    {
     "name": "stdout",
     "output_type": "stream",
     "text": [
      "['c0/img_72999.jpg', 'c1/img_16856.jpg', 'c2/img_42941.jpg', 'c3/img_46464.jpg', 'c4/img_48852.jpg', 'c5/img_78551.jpg', 'c6/img_45361.jpg', 'c7/img_56899.jpg', 'c8/img_99437.jpg', 'c9/img_9877.jpg', 'c0/img_10206.jpg', 'c1/img_45632.jpg', 'c2/img_9873.jpg', 'c3/img_19943.jpg', 'c4/img_92769.jpg', 'c5/img_92514.jpg', 'c6/img_55547.jpg', 'c7/img_100455.jpg', 'c8/img_58933.jpg', 'c9/img_79944.jpg', 'c0/img_72495.jpg', 'c1/img_30433.jpg', 'c2/img_64745.jpg', 'c3/img_98826.jpg', 'c4/img_7875.jpg', 'c5/img_13547.jpg', 'c6/img_94499.jpg', 'c7/img_73378.jpg', 'c8/img_74003.jpg', 'c9/img_58318.jpg', 'c0/img_48693.jpg', 'c1/img_88453.jpg', 'c2/img_6283.jpg', 'c3/img_71831.jpg', 'c4/img_73258.jpg', 'c5/img_16473.jpg', 'c6/img_88240.jpg', 'c7/img_62448.jpg', 'c8/img_67207.jpg', 'c9/img_71334.jpg', 'c0/img_51066.jpg', 'c1/img_22747.jpg', 'c2/img_84591.jpg', 'c3/img_33615.jpg', 'c4/img_18417.jpg', 'c5/img_29372.jpg', 'c6/img_22381.jpg', 'c7/img_10919.jpg', 'c8/img_100735.jpg', 'c9/img_57609.jpg', 'c0/img_58285.jpg', 'c1/img_42876.jpg', 'c2/img_29485.jpg', 'c3/img_28119.jpg', 'c4/img_82324.jpg', 'c5/img_75836.jpg', 'c6/img_3440.jpg', 'c7/img_49477.jpg', 'c8/img_42490.jpg', 'c9/img_47155.jpg', 'c0/img_25778.jpg', 'c1/img_52125.jpg', 'c2/img_48628.jpg', 'c3/img_29731.jpg', 'c4/img_38746.jpg', 'c5/img_90980.jpg', 'c6/img_87915.jpg', 'c7/img_67376.jpg', 'c8/img_97904.jpg', 'c9/img_49831.jpg', 'c0/img_66836.jpg', 'c1/img_149.jpg', 'c2/img_5107.jpg', 'c3/img_32372.jpg', 'c4/img_78163.jpg', 'c5/img_3427.jpg', 'c6/img_74645.jpg', 'c7/img_70481.jpg', 'c8/img_50485.jpg', 'c9/img_56409.jpg', 'c0/img_71021.jpg', 'c1/img_96569.jpg', 'c2/img_75207.jpg', 'c3/img_9498.jpg', 'c4/img_91307.jpg', 'c5/img_17494.jpg', 'c6/img_56673.jpg', 'c7/img_35312.jpg', 'c8/img_56280.jpg', 'c9/img_11964.jpg', 'c0/img_66660.jpg', 'c1/img_26100.jpg', 'c2/img_56457.jpg', 'c3/img_322.jpg', 'c4/img_11773.jpg', 'c5/img_99965.jpg', 'c6/img_85731.jpg', 'c7/img_87980.jpg', 'c8/img_89208.jpg', 'c9/img_86602.jpg', 'c0/img_25317.jpg', 'c1/img_17218.jpg', 'c2/img_35658.jpg', 'c3/img_612.jpg', 'c4/img_57908.jpg', 'c5/img_34182.jpg', 'c6/img_75070.jpg', 'c7/img_59449.jpg', 'c8/img_77167.jpg', 'c9/img_99601.jpg', 'c0/img_15934.jpg', 'c1/img_73836.jpg', 'c2/img_5220.jpg', 'c3/img_86162.jpg', 'c4/img_97844.jpg', 'c5/img_7490.jpg', 'c6/img_86653.jpg', 'c7/img_40399.jpg', 'c8/img_90894.jpg', 'c9/img_82288.jpg', 'c0/img_44073.jpg', 'c1/img_24100.jpg', 'c2/img_69455.jpg', 'c3/img_62420.jpg', 'c4/img_84490.jpg', 'c5/img_78708.jpg', 'c6/img_3359.jpg', 'c7/img_82036.jpg', 'c8/img_36367.jpg', 'c9/img_75215.jpg', 'c0/img_38722.jpg', 'c1/img_33203.jpg', 'c2/img_1803.jpg', 'c3/img_16658.jpg', 'c4/img_40267.jpg', 'c5/img_66778.jpg', 'c6/img_23732.jpg', 'c7/img_58096.jpg', 'c8/img_21113.jpg', 'c9/img_76688.jpg', 'c0/img_35373.jpg', 'c1/img_3358.jpg', 'c2/img_60616.jpg', 'c3/img_51230.jpg', 'c4/img_9170.jpg', 'c5/img_45830.jpg', 'c6/img_77264.jpg', 'c7/img_68244.jpg', 'c8/img_18354.jpg', 'c9/img_73839.jpg', 'c0/img_79134.jpg', 'c1/img_56720.jpg', 'c2/img_34520.jpg', 'c3/img_6265.jpg', 'c4/img_58472.jpg', 'c5/img_49388.jpg', 'c6/img_80274.jpg', 'c7/img_72286.jpg', 'c8/img_52404.jpg', 'c9/img_19376.jpg', 'c0/img_68359.jpg', 'c1/img_56962.jpg', 'c2/img_41516.jpg', 'c3/img_61090.jpg', 'c4/img_5187.jpg', 'c5/img_83539.jpg', 'c6/img_9704.jpg', 'c7/img_93844.jpg', 'c8/img_96461.jpg', 'c9/img_15583.jpg', 'c0/img_94824.jpg', 'c1/img_29506.jpg', 'c2/img_23629.jpg', 'c3/img_244.jpg', 'c4/img_12589.jpg', 'c5/img_74854.jpg', 'c6/img_21981.jpg', 'c7/img_10961.jpg', 'c8/img_82583.jpg', 'c9/img_2476.jpg', 'c0/img_9252.jpg', 'c1/img_32652.jpg', 'c2/img_63626.jpg', 'c3/img_57628.jpg', 'c4/img_94986.jpg', 'c5/img_51627.jpg', 'c6/img_90555.jpg', 'c7/img_47078.jpg', 'c8/img_75893.jpg', 'c9/img_42810.jpg', 'c0/img_32662.jpg', 'c1/img_62771.jpg', 'c2/img_101123.jpg', 'c3/img_87304.jpg', 'c4/img_51590.jpg', 'c5/img_94594.jpg', 'c6/img_101144.jpg', 'c7/img_3382.jpg', 'c8/img_12025.jpg', 'c9/img_39184.jpg', 'c0/img_79017.jpg', 'c1/img_77189.jpg', 'c2/img_11674.jpg', 'c3/img_101625.jpg', 'c4/img_33866.jpg', 'c5/img_60378.jpg', 'c6/img_7620.jpg', 'c7/img_69034.jpg', 'c8/img_22805.jpg', 'c9/img_493.jpg', 'c0/img_19724.jpg', 'c1/img_69267.jpg', 'c2/img_90624.jpg', 'c3/img_2817.jpg', 'c4/img_46858.jpg', 'c5/img_19377.jpg', 'c6/img_1975.jpg', 'c7/img_5715.jpg', 'c8/img_70754.jpg', 'c9/img_15777.jpg', 'c0/img_22403.jpg', 'c1/img_5473.jpg', 'c2/img_10563.jpg', 'c3/img_31873.jpg', 'c4/img_9813.jpg', 'c5/img_13760.jpg', 'c6/img_7685.jpg', 'c7/img_11763.jpg', 'c8/img_28073.jpg', 'c9/img_40319.jpg', 'c0/img_14047.jpg', 'c1/img_64021.jpg', 'c2/img_87176.jpg', 'c3/img_94703.jpg', 'c4/img_41698.jpg', 'c5/img_57007.jpg', 'c6/img_2209.jpg', 'c7/img_44695.jpg', 'c8/img_72641.jpg', 'c9/img_52452.jpg', 'c0/img_31068.jpg', 'c1/img_14298.jpg', 'c2/img_60999.jpg', 'c3/img_97182.jpg', 'c4/img_29986.jpg', 'c5/img_74238.jpg', 'c6/img_48804.jpg', 'c7/img_35473.jpg', 'c8/img_45868.jpg', 'c9/img_3854.jpg', 'c0/img_73734.jpg', 'c1/img_79419.jpg', 'c2/img_24508.jpg', 'c3/img_89165.jpg', 'c4/img_6648.jpg', 'c5/img_75175.jpg', 'c6/img_58448.jpg', 'c7/img_4921.jpg', 'c8/img_80919.jpg', 'c9/img_34622.jpg']\n"
     ]
    }
   ],
   "source": [
    "print(other_guys_imgs)"
   ]
  },
  {
   "cell_type": "code",
   "execution_count": 26,
   "metadata": {
    "collapsed": false
   },
   "outputs": [
    {
     "name": "stdout",
     "output_type": "stream",
     "text": [
      "['c0/img_10206.jpg', 'c1/img_45632.jpg', 'c2/img_9873.jpg', 'c3/img_19943.jpg', 'c4/img_92769.jpg', 'c5/img_92514.jpg', 'c6/img_55547.jpg', 'c7/img_100455.jpg', 'c8/img_58933.jpg', 'c9/img_79944.jpg', 'c0/img_72495.jpg', 'c1/img_30433.jpg', 'c2/img_64745.jpg', 'c3/img_98826.jpg', 'c4/img_7875.jpg', 'c5/img_13547.jpg', 'c6/img_94499.jpg', 'c7/img_73378.jpg', 'c8/img_74003.jpg', 'c9/img_58318.jpg', 'c0/img_48693.jpg', 'c1/img_88453.jpg', 'c2/img_6283.jpg', 'c3/img_71831.jpg', 'c4/img_73258.jpg', 'c5/img_16473.jpg', 'c6/img_88240.jpg', 'c7/img_62448.jpg', 'c8/img_67207.jpg', 'c9/img_71334.jpg', 'c0/img_51066.jpg', 'c1/img_22747.jpg', 'c2/img_84591.jpg', 'c3/img_33615.jpg', 'c4/img_18417.jpg', 'c5/img_29372.jpg', 'c6/img_22381.jpg', 'c7/img_10919.jpg', 'c8/img_100735.jpg', 'c9/img_57609.jpg', 'c0/img_58285.jpg', 'c1/img_42876.jpg', 'c2/img_29485.jpg', 'c3/img_28119.jpg', 'c4/img_82324.jpg', 'c5/img_75836.jpg', 'c6/img_3440.jpg', 'c7/img_49477.jpg', 'c8/img_42490.jpg', 'c9/img_47155.jpg', 'c0/img_25778.jpg', 'c1/img_52125.jpg', 'c2/img_48628.jpg', 'c3/img_29731.jpg', 'c4/img_38746.jpg', 'c5/img_90980.jpg', 'c6/img_87915.jpg', 'c7/img_67376.jpg', 'c8/img_97904.jpg', 'c9/img_49831.jpg', 'c0/img_66836.jpg', 'c1/img_149.jpg', 'c2/img_5107.jpg', 'c3/img_32372.jpg', 'c4/img_78163.jpg', 'c5/img_3427.jpg', 'c6/img_74645.jpg', 'c7/img_70481.jpg', 'c8/img_50485.jpg', 'c9/img_56409.jpg', 'c0/img_71021.jpg', 'c1/img_96569.jpg', 'c2/img_75207.jpg', 'c3/img_9498.jpg', 'c4/img_91307.jpg', 'c5/img_17494.jpg', 'c6/img_56673.jpg', 'c7/img_35312.jpg', 'c8/img_56280.jpg', 'c9/img_11964.jpg', 'c0/img_66660.jpg', 'c1/img_26100.jpg', 'c2/img_56457.jpg', 'c3/img_322.jpg', 'c4/img_11773.jpg', 'c5/img_99965.jpg', 'c6/img_85731.jpg', 'c7/img_87980.jpg', 'c8/img_89208.jpg', 'c9/img_86602.jpg', 'c0/img_25317.jpg', 'c1/img_17218.jpg', 'c2/img_35658.jpg', 'c3/img_612.jpg', 'c4/img_57908.jpg', 'c5/img_34182.jpg', 'c6/img_75070.jpg', 'c7/img_59449.jpg', 'c8/img_77167.jpg', 'c9/img_99601.jpg', 'c0/img_15934.jpg', 'c1/img_73836.jpg', 'c2/img_5220.jpg', 'c3/img_86162.jpg', 'c4/img_97844.jpg', 'c5/img_7490.jpg', 'c6/img_86653.jpg', 'c7/img_40399.jpg', 'c8/img_90894.jpg', 'c9/img_82288.jpg', 'c0/img_44073.jpg', 'c1/img_24100.jpg', 'c2/img_69455.jpg', 'c3/img_62420.jpg', 'c4/img_84490.jpg', 'c5/img_78708.jpg', 'c6/img_3359.jpg', 'c7/img_82036.jpg', 'c8/img_36367.jpg', 'c9/img_75215.jpg', 'c0/img_38722.jpg', 'c1/img_33203.jpg', 'c2/img_1803.jpg', 'c3/img_16658.jpg', 'c4/img_40267.jpg', 'c5/img_66778.jpg', 'c6/img_23732.jpg', 'c7/img_58096.jpg', 'c8/img_21113.jpg', 'c9/img_76688.jpg', 'c0/img_35373.jpg', 'c1/img_3358.jpg', 'c2/img_60616.jpg', 'c3/img_51230.jpg', 'c4/img_9170.jpg', 'c5/img_45830.jpg', 'c6/img_77264.jpg', 'c7/img_68244.jpg', 'c8/img_18354.jpg', 'c9/img_73839.jpg', 'c0/img_79134.jpg', 'c1/img_56720.jpg', 'c2/img_34520.jpg', 'c3/img_6265.jpg', 'c4/img_58472.jpg', 'c5/img_49388.jpg', 'c6/img_80274.jpg', 'c7/img_72286.jpg', 'c8/img_52404.jpg', 'c9/img_19376.jpg', 'c0/img_68359.jpg', 'c1/img_56962.jpg', 'c2/img_41516.jpg', 'c3/img_61090.jpg', 'c4/img_5187.jpg', 'c5/img_83539.jpg', 'c6/img_9704.jpg', 'c7/img_93844.jpg', 'c8/img_96461.jpg', 'c9/img_15583.jpg', 'c0/img_94824.jpg', 'c1/img_29506.jpg', 'c2/img_23629.jpg', 'c3/img_244.jpg', 'c4/img_12589.jpg', 'c5/img_74854.jpg', 'c6/img_21981.jpg', 'c7/img_10961.jpg', 'c8/img_82583.jpg', 'c9/img_2476.jpg', 'c0/img_9252.jpg', 'c1/img_32652.jpg', 'c2/img_63626.jpg', 'c3/img_57628.jpg', 'c4/img_94986.jpg', 'c5/img_51627.jpg', 'c6/img_90555.jpg', 'c7/img_47078.jpg', 'c8/img_75893.jpg', 'c9/img_42810.jpg', 'c0/img_32662.jpg', 'c1/img_62771.jpg', 'c2/img_101123.jpg', 'c3/img_87304.jpg', 'c4/img_51590.jpg', 'c5/img_94594.jpg', 'c6/img_101144.jpg', 'c7/img_3382.jpg', 'c8/img_12025.jpg', 'c9/img_39184.jpg', 'c0/img_79017.jpg', 'c1/img_77189.jpg', 'c2/img_11674.jpg', 'c3/img_101625.jpg', 'c4/img_33866.jpg', 'c5/img_60378.jpg', 'c6/img_7620.jpg', 'c7/img_69034.jpg', 'c8/img_22805.jpg', 'c9/img_493.jpg', 'c0/img_19724.jpg', 'c1/img_69267.jpg', 'c2/img_90624.jpg', 'c3/img_2817.jpg', 'c4/img_46858.jpg', 'c5/img_19377.jpg', 'c6/img_1975.jpg', 'c7/img_5715.jpg', 'c8/img_70754.jpg', 'c9/img_15777.jpg', 'c0/img_22403.jpg', 'c1/img_5473.jpg', 'c2/img_10563.jpg', 'c3/img_31873.jpg', 'c4/img_9813.jpg', 'c5/img_13760.jpg', 'c6/img_7685.jpg', 'c7/img_11763.jpg', 'c8/img_28073.jpg', 'c9/img_40319.jpg', 'c0/img_14047.jpg', 'c1/img_64021.jpg', 'c2/img_87176.jpg', 'c3/img_94703.jpg', 'c4/img_41698.jpg', 'c5/img_57007.jpg', 'c6/img_2209.jpg', 'c7/img_44695.jpg', 'c8/img_72641.jpg', 'c9/img_52452.jpg', 'c0/img_31068.jpg', 'c1/img_14298.jpg', 'c2/img_60999.jpg', 'c3/img_97182.jpg', 'c4/img_29986.jpg', 'c5/img_74238.jpg', 'c6/img_48804.jpg', 'c7/img_35473.jpg', 'c8/img_45868.jpg', 'c9/img_3854.jpg', 'c0/img_73734.jpg', 'c1/img_79419.jpg', 'c2/img_24508.jpg', 'c3/img_89165.jpg', 'c4/img_6648.jpg', 'c5/img_75175.jpg', 'c6/img_58448.jpg', 'c7/img_4921.jpg', 'c8/img_80919.jpg', 'c9/img_34622.jpg']\n"
     ]
    }
   ],
   "source": [
    "# we have to cut out the first c0-c9, cause that belongs to driver 1\n",
    "other_guys_imgs = other_guys_imgs[10:]\n",
    "print(other_guys_imgs)"
   ]
  },
  {
   "cell_type": "code",
   "execution_count": 27,
   "metadata": {
    "collapsed": false
   },
   "outputs": [],
   "source": [
    "# COPY all to sample/train\n",
    "from shutil import copyfile\n",
    "for p in other_guys_imgs:\n",
    "    copyfile(path_to_data + \"/train/\" + p, path_to_sample + \"/train/\" + p)"
   ]
  },
  {
   "cell_type": "code",
   "execution_count": null,
   "metadata": {
    "collapsed": true
   },
   "outputs": [],
   "source": [
    "# now let's grab images belonging to 6 other people (7 * 750 = 20% of entire set)\n",
    "# and MOVE them to main valid"
   ]
  },
  {
   "cell_type": "code",
   "execution_count": 34,
   "metadata": {
    "collapsed": false
   },
   "outputs": [
    {
     "data": {
      "text/plain": [
       "21.0"
      ]
     },
     "execution_count": 34,
     "metadata": {},
     "output_type": "execute_result"
    }
   ],
   "source": [
    "(7 * 750./25000.) * 100"
   ]
  },
  {
   "cell_type": "code",
   "execution_count": 44,
   "metadata": {
    "collapsed": false
   },
   "outputs": [],
   "source": [
    "# first grab all subj ids\n",
    "\n",
    "columns = [\"subject\", \"classname\", \"img\"]\n",
    "all_ids = []\n",
    "\n",
    "with open (driver_list, \"r\") as f:\n",
    "    csv_dict = csv.DictReader(f, fieldnames=columns)\n",
    "    \n",
    "    # skip header\n",
    "    csv_dict.next()\n",
    "    old_driver_id = csv_dict.next()[\"subject\"]\n",
    "    \n",
    "    for row in csv_dict:\n",
    "        new_driver_id = row[\"subject\"]\n",
    "        \n",
    "        # skip until new driver \n",
    "        if new_driver_id == old_driver_id:\n",
    "            continue\n",
    "        else:\n",
    "            old_driver_id = new_driver_id\n",
    "            all_ids.append(row[\"subject\"])"
   ]
  },
  {
   "cell_type": "code",
   "execution_count": 46,
   "metadata": {
    "collapsed": false
   },
   "outputs": [
    {
     "name": "stdout",
     "output_type": "stream",
     "text": [
      "['p012', 'p014', 'p015', 'p016', 'p021', 'p022', 'p024', 'p026', 'p035', 'p039', 'p041', 'p042', 'p045', 'p047', 'p049', 'p050', 'p051', 'p052', 'p056', 'p061', 'p064', 'p066', 'p072', 'p075', 'p081']\n",
      "25\n"
     ]
    }
   ],
   "source": [
    "print(all_ids)\n",
    "print(len(all_ids))"
   ]
  },
  {
   "cell_type": "code",
   "execution_count": 48,
   "metadata": {
    "collapsed": false
   },
   "outputs": [
    {
     "name": "stdout",
     "output_type": "stream",
     "text": [
      "['p056', 'p026', 'p039', 'p081', 'p012', 'p035']\n"
     ]
    }
   ],
   "source": [
    "import numpy as np\n",
    "valid_ids = list(np.random.permutation(all_ids))[:6]\n",
    "print(valid_ids)\n",
    "# ['p056', 'p026', 'p039', 'p081', 'p012', 'p035']"
   ]
  },
  {
   "cell_type": "code",
   "execution_count": 49,
   "metadata": {
    "collapsed": false
   },
   "outputs": [
    {
     "name": "stdout",
     "output_type": "stream",
     "text": [
      "['p056', 'p026', 'p039', 'p081', 'p012', 'p035']\n"
     ]
    }
   ],
   "source": [
    "# now MOVE all imgs for these 6 people to data/valid\n",
    "print(valid_ids)"
   ]
  },
  {
   "cell_type": "code",
   "execution_count": 52,
   "metadata": {
    "collapsed": false
   },
   "outputs": [
    {
     "name": "stdout",
     "output_type": "stream",
     "text": [
      "5135\n",
      "['c0/img_10206.jpg', 'c0/img_27079.jpg', 'c0/img_50749.jpg', 'c0/img_97089.jpg', 'c0/img_37741.jpg', 'c0/img_65697.jpg', 'c0/img_3866.jpg', 'c0/img_19098.jpg', 'c0/img_31885.jpg', 'c0/img_41423.jpg', 'c0/img_26907.jpg', 'c0/img_71304.jpg', 'c0/img_17470.jpg', 'c0/img_88793.jpg', 'c0/img_1367.jpg', 'c0/img_29348.jpg', 'c0/img_20878.jpg', 'c0/img_6461.jpg', 'c0/img_87811.jpg', 'c0/img_47410.jpg', 'c0/img_98046.jpg', 'c0/img_57583.jpg', 'c0/img_27214.jpg', 'c0/img_973.jpg', 'c0/img_9006.jpg', 'c0/img_28357.jpg', 'c0/img_56851.jpg', 'c0/img_62066.jpg', 'c0/img_40209.jpg', 'c0/img_49423.jpg', 'c0/img_71160.jpg', 'c0/img_54924.jpg', 'c0/img_1267.jpg', 'c0/img_17723.jpg', 'c0/img_88538.jpg', 'c0/img_96522.jpg', 'c0/img_31289.jpg', 'c0/img_37288.jpg', 'c0/img_67875.jpg', 'c0/img_2813.jpg', 'c0/img_59570.jpg', 'c0/img_70406.jpg', 'c0/img_20588.jpg', 'c0/img_60168.jpg', 'c0/img_50246.jpg', 'c0/img_65097.jpg', 'c0/img_24419.jpg', 'c0/img_47332.jpg', 'c0/img_89135.jpg', 'c0/img_93208.jpg', 'c0/img_67865.jpg', 'c0/img_31623.jpg', 'c0/img_36574.jpg', 'c0/img_55312.jpg', 'c0/img_35231.jpg', 'c0/img_38321.jpg', 'c0/img_75305.jpg', 'c0/img_40038.jpg', 'c0/img_5957.jpg', 'c0/img_76418.jpg', 'c0/img_31613.jpg', 'c0/img_48334.jpg', 'c0/img_53945.jpg', 'c0/img_10225.jpg', 'c0/img_78131.jpg', 'c0/img_89892.jpg', 'c0/img_87852.jpg', 'c0/img_49775.jpg', 'c0/img_10092.jpg', 'c0/img_72668.jpg', 'c0/img_63634.jpg', 'c0/img_57096.jpg', 'c0/img_7473.jpg', 'c0/img_61373.jpg', 'c0/img_40020.jpg', 'c0/img_64638.jpg', 'c0/img_10609.jpg', 'c0/img_59778.jpg', 'c0/img_26166.jpg', 'c0/img_20350.jpg', 'c0/img_80288.jpg', 'c0/img_15571.jpg', 'c0/img_75168.jpg', 'c0/img_37234.jpg', 'c1/img_45632.jpg', 'c1/img_26825.jpg', 'c1/img_94183.jpg', 'c1/img_19014.jpg', 'c1/img_64769.jpg', 'c1/img_27582.jpg', 'c1/img_65051.jpg', 'c1/img_41920.jpg', 'c1/img_95758.jpg', 'c1/img_25397.jpg', 'c1/img_15121.jpg', 'c1/img_38031.jpg', 'c1/img_74075.jpg', 'c1/img_54160.jpg', 'c1/img_71552.jpg', 'c1/img_9820.jpg', 'c1/img_47530.jpg', 'c1/img_19074.jpg', 'c1/img_62375.jpg', 'c1/img_56505.jpg', 'c1/img_99182.jpg', 'c1/img_80820.jpg', 'c1/img_85075.jpg', 'c1/img_75902.jpg', 'c1/img_86404.jpg', 'c1/img_90710.jpg', 'c1/img_95912.jpg', 'c1/img_27426.jpg', 'c1/img_78079.jpg', 'c1/img_91407.jpg', 'c1/img_70529.jpg', 'c1/img_85694.jpg', 'c1/img_18849.jpg', 'c1/img_20954.jpg', 'c1/img_59930.jpg', 'c1/img_79147.jpg', 'c1/img_37031.jpg', 'c1/img_47618.jpg', 'c1/img_60340.jpg', 'c1/img_47685.jpg', 'c1/img_8663.jpg', 'c1/img_100451.jpg', 'c1/img_10838.jpg', 'c1/img_92008.jpg', 'c1/img_92864.jpg', 'c1/img_69030.jpg', 'c1/img_55468.jpg', 'c1/img_100375.jpg', 'c1/img_20260.jpg', 'c1/img_79864.jpg', 'c1/img_34499.jpg', 'c1/img_74587.jpg', 'c1/img_73259.jpg', 'c1/img_29859.jpg', 'c1/img_30022.jpg', 'c1/img_42487.jpg', 'c1/img_32189.jpg', 'c1/img_72597.jpg', 'c1/img_69608.jpg', 'c1/img_89815.jpg', 'c1/img_69319.jpg', 'c1/img_40608.jpg', 'c1/img_46098.jpg', 'c1/img_35833.jpg', 'c1/img_74607.jpg', 'c1/img_85362.jpg', 'c1/img_27415.jpg', 'c1/img_17460.jpg', 'c1/img_32595.jpg', 'c1/img_44601.jpg', 'c1/img_49250.jpg', 'c1/img_99822.jpg', 'c1/img_17187.jpg', 'c1/img_78552.jpg', 'c1/img_32069.jpg', 'c1/img_51275.jpg', 'c1/img_64734.jpg', 'c1/img_95048.jpg', 'c1/img_100442.jpg', 'c1/img_72445.jpg', 'c1/img_50914.jpg', 'c1/img_4137.jpg', 'c1/img_89034.jpg', 'c1/img_86167.jpg', 'c1/img_84250.jpg', 'c1/img_34316.jpg', 'c1/img_58510.jpg', 'c1/img_38422.jpg', 'c1/img_52146.jpg', 'c1/img_85132.jpg', 'c1/img_69248.jpg', 'c1/img_24650.jpg', 'c1/img_30434.jpg', 'c1/img_89298.jpg', 'c1/img_18467.jpg', 'c2/img_9873.jpg', 'c2/img_36137.jpg', 'c2/img_15758.jpg', 'c2/img_73225.jpg', 'c2/img_29564.jpg', 'c2/img_95029.jpg', 'c2/img_20837.jpg', 'c2/img_68142.jpg', 'c2/img_8535.jpg', 'c2/img_61039.jpg', 'c2/img_99218.jpg', 'c2/img_13514.jpg', 'c2/img_43342.jpg', 'c2/img_36123.jpg', 'c2/img_85485.jpg', 'c2/img_45592.jpg', 'c2/img_15802.jpg', 'c2/img_92109.jpg', 'c2/img_62608.jpg', 'c2/img_26239.jpg', 'c2/img_20118.jpg', 'c2/img_63326.jpg', 'c2/img_94769.jpg', 'c2/img_27678.jpg', 'c2/img_89956.jpg', 'c2/img_1724.jpg', 'c2/img_11414.jpg', 'c2/img_85044.jpg', 'c2/img_10972.jpg', 'c2/img_65101.jpg', 'c2/img_57207.jpg', 'c2/img_9564.jpg', 'c2/img_33882.jpg', 'c2/img_17316.jpg', 'c2/img_25703.jpg', 'c2/img_40814.jpg', 'c2/img_85646.jpg', 'c2/img_29338.jpg', 'c2/img_55166.jpg', 'c2/img_49876.jpg', 'c2/img_56934.jpg', 'c2/img_10048.jpg', 'c2/img_25499.jpg', 'c2/img_101086.jpg', 'c2/img_22592.jpg', 'c2/img_1202.jpg', 'c2/img_59970.jpg', 'c2/img_92269.jpg', 'c2/img_76903.jpg', 'c2/img_45279.jpg', 'c2/img_51435.jpg', 'c2/img_16372.jpg', 'c2/img_102081.jpg', 'c2/img_41946.jpg', 'c2/img_19848.jpg', 'c2/img_39984.jpg', 'c2/img_34841.jpg', 'c2/img_4267.jpg', 'c2/img_37855.jpg', 'c2/img_33461.jpg', 'c2/img_22878.jpg', 'c2/img_100784.jpg', 'c2/img_37738.jpg', 'c2/img_98632.jpg', 'c2/img_51693.jpg', 'c2/img_48277.jpg', 'c2/img_37467.jpg', 'c2/img_48255.jpg', 'c2/img_75209.jpg', 'c2/img_72490.jpg', 'c2/img_60905.jpg', 'c2/img_59206.jpg', 'c2/img_69025.jpg', 'c2/img_56290.jpg', 'c2/img_7061.jpg', 'c2/img_3006.jpg', 'c2/img_62328.jpg', 'c2/img_59557.jpg', 'c2/img_48473.jpg', 'c2/img_56199.jpg', 'c2/img_60040.jpg', 'c2/img_42098.jpg', 'c2/img_36377.jpg', 'c2/img_85037.jpg', 'c2/img_32819.jpg', 'c2/img_46210.jpg', 'c2/img_3547.jpg', 'c2/img_16219.jpg', 'c2/img_76419.jpg', 'c2/img_53507.jpg', 'c2/img_77848.jpg', 'c3/img_19943.jpg', 'c3/img_46050.jpg', 'c3/img_68510.jpg', 'c3/img_48454.jpg', 'c3/img_28902.jpg', 'c3/img_98718.jpg', 'c3/img_22472.jpg', 'c3/img_61846.jpg', 'c3/img_59376.jpg', 'c3/img_91390.jpg', 'c3/img_79569.jpg', 'c3/img_81984.jpg', 'c3/img_58362.jpg', 'c3/img_11248.jpg', 'c3/img_92248.jpg', 'c3/img_50828.jpg', 'c3/img_2585.jpg', 'c3/img_26331.jpg', 'c3/img_27151.jpg', 'c3/img_84465.jpg', 'c3/img_43927.jpg', 'c3/img_89631.jpg', 'c3/img_32179.jpg', 'c3/img_89633.jpg', 'c3/img_14752.jpg', 'c3/img_49375.jpg', 'c3/img_82367.jpg', 'c3/img_52996.jpg', 'c3/img_22772.jpg', 'c3/img_23156.jpg', 'c3/img_73194.jpg', 'c3/img_18670.jpg', 'c3/img_37938.jpg', 'c3/img_15885.jpg', 'c3/img_64045.jpg', 'c3/img_87133.jpg', 'c3/img_40181.jpg', 'c3/img_35790.jpg', 'c3/img_3317.jpg', 'c3/img_73623.jpg', 'c3/img_71525.jpg', 'c3/img_14358.jpg', 'c3/img_56777.jpg', 'c3/img_15926.jpg', 'c3/img_17511.jpg', 'c3/img_91027.jpg', 'c3/img_54642.jpg', 'c3/img_73016.jpg', 'c3/img_3025.jpg', 'c3/img_14879.jpg', 'c3/img_36909.jpg', 'c3/img_92088.jpg', 'c3/img_86411.jpg', 'c3/img_64380.jpg', 'c3/img_96135.jpg', 'c3/img_22859.jpg', 'c3/img_26873.jpg', 'c3/img_35106.jpg', 'c3/img_63420.jpg', 'c3/img_94722.jpg', 'c3/img_34609.jpg', 'c3/img_50087.jpg', 'c3/img_65659.jpg', 'c3/img_85705.jpg', 'c3/img_61627.jpg', 'c3/img_55383.jpg', 'c3/img_592.jpg', 'c3/img_83385.jpg', 'c3/img_54289.jpg', 'c3/img_18429.jpg', 'c3/img_37793.jpg', 'c3/img_14076.jpg', 'c3/img_78092.jpg', 'c3/img_92478.jpg', 'c3/img_11340.jpg', 'c3/img_42365.jpg', 'c3/img_32676.jpg', 'c3/img_12426.jpg', 'c3/img_76472.jpg', 'c3/img_34408.jpg', 'c3/img_83979.jpg', 'c3/img_4842.jpg', 'c3/img_71031.jpg', 'c3/img_21735.jpg', 'c3/img_11920.jpg', 'c3/img_34940.jpg', 'c3/img_65648.jpg', 'c3/img_88598.jpg', 'c3/img_81580.jpg', 'c4/img_92769.jpg', 'c4/img_38427.jpg', 'c4/img_22681.jpg', 'c4/img_39685.jpg', 'c4/img_66357.jpg', 'c4/img_74182.jpg', 'c4/img_61238.jpg', 'c4/img_70257.jpg', 'c4/img_56418.jpg', 'c4/img_23458.jpg', 'c4/img_79188.jpg', 'c4/img_59054.jpg', 'c4/img_97051.jpg', 'c4/img_92019.jpg', 'c4/img_2413.jpg', 'c4/img_5031.jpg', 'c4/img_71127.jpg', 'c4/img_75683.jpg', 'c4/img_49379.jpg', 'c4/img_72542.jpg', 'c4/img_67465.jpg', 'c4/img_56362.jpg', 'c4/img_16158.jpg', 'c4/img_40438.jpg', 'c4/img_85787.jpg', 'c4/img_11607.jpg', 'c4/img_62473.jpg', 'c4/img_47839.jpg', 'c4/img_84945.jpg', 'c4/img_74399.jpg', 'c4/img_41039.jpg', 'c4/img_94181.jpg', 'c4/img_92155.jpg', 'c4/img_7495.jpg', 'c4/img_11090.jpg', 'c4/img_51506.jpg', 'c4/img_14493.jpg', 'c4/img_31509.jpg', 'c4/img_93490.jpg', 'c4/img_77274.jpg', 'c4/img_16762.jpg', 'c4/img_40614.jpg', 'c4/img_13710.jpg', 'c4/img_65846.jpg', 'c4/img_51696.jpg', 'c4/img_29510.jpg', 'c4/img_30078.jpg', 'c4/img_29069.jpg', 'c4/img_38309.jpg', 'c4/img_93410.jpg', 'c4/img_93492.jpg', 'c4/img_24607.jpg', 'c4/img_319.jpg', 'c4/img_24044.jpg', 'c4/img_41322.jpg', 'c4/img_81249.jpg', 'c4/img_26899.jpg', 'c4/img_28424.jpg', 'c4/img_94892.jpg', 'c4/img_10362.jpg', 'c4/img_11263.jpg', 'c4/img_45737.jpg', 'c4/img_85452.jpg', 'c4/img_17718.jpg', 'c4/img_67424.jpg', 'c4/img_61037.jpg', 'c4/img_22219.jpg', 'c4/img_12729.jpg', 'c4/img_37670.jpg', 'c4/img_43975.jpg', 'c4/img_63260.jpg', 'c4/img_14643.jpg', 'c4/img_27831.jpg', 'c4/img_69524.jpg', 'c4/img_86689.jpg', 'c4/img_2641.jpg', 'c4/img_69188.jpg', 'c4/img_12791.jpg', 'c4/img_89153.jpg', 'c4/img_71586.jpg', 'c4/img_53886.jpg', 'c4/img_75773.jpg', 'c4/img_67896.jpg', 'c4/img_20866.jpg', 'c4/img_59172.jpg', 'c4/img_54114.jpg', 'c4/img_81044.jpg', 'c4/img_101810.jpg', 'c4/img_37774.jpg', 'c4/img_92173.jpg', 'c4/img_45006.jpg', 'c4/img_75274.jpg', 'c4/img_29692.jpg', 'c4/img_24482.jpg', 'c4/img_31781.jpg', 'c4/img_81986.jpg', 'c4/img_26683.jpg', 'c5/img_92514.jpg', 'c5/img_23627.jpg', 'c5/img_83420.jpg', 'c5/img_95316.jpg', 'c5/img_82220.jpg', 'c5/img_76575.jpg', 'c5/img_35666.jpg', 'c5/img_20291.jpg', 'c5/img_38692.jpg', 'c5/img_35077.jpg', 'c5/img_100823.jpg', 'c5/img_57600.jpg', 'c5/img_43925.jpg', 'c5/img_91437.jpg', 'c5/img_6816.jpg', 'c5/img_100556.jpg', 'c5/img_79850.jpg', 'c5/img_87216.jpg', 'c5/img_91107.jpg', 'c5/img_33382.jpg', 'c5/img_659.jpg', 'c5/img_68106.jpg', 'c5/img_86703.jpg', 'c5/img_92671.jpg', 'c5/img_76622.jpg', 'c5/img_32871.jpg', 'c5/img_74036.jpg', 'c5/img_2397.jpg', 'c5/img_99528.jpg', 'c5/img_59929.jpg', 'c5/img_23817.jpg', 'c5/img_37311.jpg', 'c5/img_46919.jpg', 'c5/img_8930.jpg', 'c5/img_75976.jpg', 'c5/img_31602.jpg', 'c5/img_41179.jpg', 'c5/img_84926.jpg', 'c5/img_17815.jpg', 'c5/img_25248.jpg', 'c5/img_24999.jpg', 'c5/img_76653.jpg', 'c5/img_55587.jpg', 'c5/img_66960.jpg', 'c5/img_20763.jpg', 'c5/img_91237.jpg', 'c5/img_41565.jpg', 'c5/img_77095.jpg', 'c5/img_75026.jpg', 'c5/img_1651.jpg', 'c5/img_5515.jpg', 'c5/img_19397.jpg', 'c5/img_81274.jpg', 'c5/img_83305.jpg', 'c5/img_58050.jpg', 'c5/img_58859.jpg', 'c5/img_91055.jpg', 'c5/img_89054.jpg', 'c5/img_16680.jpg', 'c5/img_90551.jpg', 'c5/img_33106.jpg', 'c5/img_78059.jpg', 'c5/img_63552.jpg', 'c5/img_45551.jpg', 'c5/img_58763.jpg', 'c5/img_36006.jpg', 'c5/img_73605.jpg', 'c5/img_26228.jpg', 'c5/img_50113.jpg', 'c5/img_2338.jpg', 'c5/img_87031.jpg', 'c5/img_91231.jpg', 'c5/img_91170.jpg', 'c5/img_47643.jpg', 'c5/img_31880.jpg', 'c5/img_61921.jpg', 'c5/img_74420.jpg', 'c5/img_80589.jpg', 'c5/img_76129.jpg', 'c5/img_20139.jpg', 'c5/img_21410.jpg', 'c5/img_84200.jpg', 'c5/img_94080.jpg', 'c5/img_17740.jpg', 'c5/img_31824.jpg', 'c5/img_16280.jpg', 'c5/img_5510.jpg', 'c5/img_65055.jpg', 'c5/img_53162.jpg', 'c5/img_69519.jpg', 'c5/img_79555.jpg', 'c5/img_88607.jpg', 'c5/img_81638.jpg', 'c5/img_53938.jpg', 'c5/img_21382.jpg', 'c5/img_56799.jpg', 'c6/img_55547.jpg', 'c6/img_82468.jpg', 'c6/img_32955.jpg', 'c6/img_22534.jpg', 'c6/img_28165.jpg', 'c6/img_6945.jpg', 'c6/img_44509.jpg', 'c6/img_81807.jpg', 'c6/img_20312.jpg', 'c6/img_35766.jpg', 'c6/img_75045.jpg', 'c6/img_20896.jpg', 'c6/img_28455.jpg', 'c6/img_41741.jpg', 'c6/img_42058.jpg', 'c6/img_44415.jpg', 'c6/img_47609.jpg', 'c6/img_55834.jpg', 'c6/img_3114.jpg', 'c6/img_90661.jpg', 'c6/img_14050.jpg', 'c6/img_83028.jpg', 'c6/img_39802.jpg', 'c6/img_18944.jpg', 'c6/img_45628.jpg', 'c6/img_3027.jpg', 'c6/img_14988.jpg', 'c6/img_73414.jpg', 'c6/img_26326.jpg', 'c6/img_43914.jpg', 'c6/img_36249.jpg', 'c6/img_19126.jpg', 'c6/img_53517.jpg', 'c6/img_101746.jpg', 'c6/img_79991.jpg', 'c6/img_10204.jpg', 'c6/img_54717.jpg', 'c6/img_38703.jpg', 'c6/img_6758.jpg', 'c6/img_53049.jpg', 'c6/img_44080.jpg', 'c6/img_24365.jpg', 'c6/img_19657.jpg', 'c6/img_83066.jpg', 'c6/img_33394.jpg', 'c6/img_40307.jpg', 'c6/img_99697.jpg', 'c6/img_35920.jpg', 'c6/img_92663.jpg', 'c6/img_73509.jpg', 'c6/img_67816.jpg', 'c6/img_25522.jpg', 'c6/img_13709.jpg', 'c6/img_83955.jpg', 'c6/img_72729.jpg', 'c6/img_8143.jpg', 'c6/img_21058.jpg', 'c6/img_102018.jpg', 'c6/img_14664.jpg', 'c6/img_93354.jpg', 'c6/img_73972.jpg', 'c6/img_72261.jpg', 'c6/img_91178.jpg', 'c6/img_86685.jpg', 'c6/img_53931.jpg', 'c6/img_81728.jpg', 'c6/img_24620.jpg', 'c6/img_87902.jpg', 'c6/img_58308.jpg', 'c6/img_98118.jpg', 'c6/img_12448.jpg', 'c6/img_18178.jpg', 'c6/img_38349.jpg', 'c6/img_88578.jpg', 'c6/img_52659.jpg', 'c7/img_100455.jpg', 'c7/img_69996.jpg', 'c7/img_44438.jpg', 'c7/img_12267.jpg', 'c7/img_10252.jpg', 'c7/img_74958.jpg', 'c7/img_82598.jpg', 'c7/img_28516.jpg', 'c7/img_15005.jpg', 'c7/img_22372.jpg', 'c7/img_27529.jpg', 'c7/img_76280.jpg', 'c7/img_69967.jpg', 'c7/img_34377.jpg', 'c7/img_84771.jpg', 'c7/img_30834.jpg', 'c7/img_7107.jpg', 'c7/img_28139.jpg', 'c7/img_53894.jpg', 'c7/img_55823.jpg', 'c7/img_28745.jpg', 'c7/img_82992.jpg', 'c7/img_81881.jpg', 'c7/img_19427.jpg', 'c7/img_54003.jpg', 'c7/img_101869.jpg', 'c7/img_49736.jpg', 'c7/img_82788.jpg', 'c7/img_59800.jpg', 'c7/img_43500.jpg', 'c7/img_19836.jpg', 'c7/img_29217.jpg', 'c7/img_100825.jpg', 'c7/img_83410.jpg', 'c7/img_9043.jpg', 'c7/img_73798.jpg', 'c7/img_6576.jpg', 'c7/img_71887.jpg', 'c7/img_64492.jpg', 'c7/img_95450.jpg', 'c7/img_54386.jpg', 'c7/img_845.jpg', 'c7/img_36913.jpg', 'c7/img_101759.jpg', 'c7/img_83798.jpg', 'c7/img_85922.jpg', 'c7/img_31783.jpg', 'c7/img_78903.jpg', 'c7/img_48156.jpg', 'c7/img_93650.jpg', 'c7/img_26990.jpg', 'c7/img_35322.jpg', 'c7/img_101743.jpg', 'c7/img_97804.jpg', 'c7/img_44321.jpg', 'c7/img_9666.jpg', 'c7/img_44404.jpg', 'c7/img_86572.jpg', 'c7/img_39295.jpg', 'c7/img_62988.jpg', 'c7/img_65354.jpg', 'c7/img_92653.jpg', 'c7/img_91964.jpg', 'c7/img_81697.jpg', 'c7/img_30600.jpg', 'c7/img_30674.jpg', 'c7/img_78220.jpg', 'c7/img_67982.jpg', 'c7/img_89485.jpg', 'c7/img_84555.jpg', 'c7/img_68102.jpg', 'c7/img_54858.jpg', 'c8/img_58933.jpg', 'c8/img_46259.jpg', 'c8/img_72343.jpg', 'c8/img_56891.jpg', 'c8/img_95460.jpg', 'c8/img_41812.jpg', 'c8/img_52606.jpg', 'c8/img_86528.jpg', 'c8/img_11324.jpg', 'c8/img_9499.jpg', 'c8/img_46758.jpg', 'c8/img_75335.jpg', 'c8/img_73146.jpg', 'c8/img_43358.jpg', 'c8/img_91228.jpg', 'c8/img_6272.jpg', 'c8/img_36898.jpg', 'c8/img_35130.jpg', 'c8/img_75654.jpg', 'c8/img_57737.jpg', 'c8/img_41757.jpg', 'c8/img_67458.jpg', 'c8/img_49255.jpg', 'c8/img_35237.jpg', 'c8/img_33633.jpg', 'c8/img_14333.jpg', 'c8/img_83594.jpg', 'c8/img_61587.jpg', 'c8/img_100467.jpg', 'c8/img_70933.jpg', 'c8/img_96819.jpg', 'c8/img_8631.jpg', 'c8/img_54660.jpg', 'c8/img_101973.jpg', 'c8/img_59999.jpg', 'c8/img_922.jpg', 'c8/img_75770.jpg', 'c8/img_76082.jpg', 'c8/img_48621.jpg', 'c8/img_27033.jpg', 'c8/img_64759.jpg', 'c8/img_69730.jpg', 'c8/img_39741.jpg', 'c8/img_27544.jpg', 'c8/img_100791.jpg', 'c8/img_59353.jpg', 'c8/img_19585.jpg', 'c8/img_93459.jpg', 'c8/img_100743.jpg', 'c8/img_22133.jpg', 'c8/img_73618.jpg', 'c8/img_20639.jpg', 'c8/img_93942.jpg', 'c8/img_56616.jpg', 'c8/img_52475.jpg', 'c8/img_6070.jpg', 'c8/img_2464.jpg', 'c8/img_37893.jpg', 'c8/img_15914.jpg', 'c8/img_79024.jpg', 'c8/img_59098.jpg', 'c8/img_11924.jpg', 'c9/img_79944.jpg', 'c9/img_39227.jpg', 'c9/img_21954.jpg', 'c9/img_38106.jpg', 'c9/img_17633.jpg', 'c9/img_7091.jpg', 'c9/img_67001.jpg', 'c9/img_65521.jpg', 'c9/img_99104.jpg', 'c9/img_74547.jpg', 'c9/img_93073.jpg', 'c9/img_15164.jpg', 'c9/img_95900.jpg', 'c9/img_40481.jpg', 'c9/img_60353.jpg', 'c9/img_35647.jpg', 'c9/img_79178.jpg', 'c9/img_26364.jpg', 'c9/img_70303.jpg', 'c9/img_88570.jpg', 'c9/img_34974.jpg', 'c9/img_39031.jpg', 'c9/img_90058.jpg', 'c9/img_60624.jpg', 'c9/img_62766.jpg', 'c9/img_37605.jpg', 'c9/img_20688.jpg', 'c9/img_48683.jpg', 'c9/img_38742.jpg', 'c9/img_19854.jpg', 'c9/img_99569.jpg', 'c9/img_24302.jpg', 'c9/img_51689.jpg', 'c9/img_23612.jpg', 'c9/img_2723.jpg', 'c9/img_89399.jpg', 'c9/img_77820.jpg', 'c9/img_20392.jpg', 'c9/img_29699.jpg', 'c9/img_52806.jpg', 'c9/img_84734.jpg', 'c9/img_34561.jpg', 'c9/img_99949.jpg', 'c9/img_66080.jpg', 'c9/img_24030.jpg', 'c9/img_59747.jpg', 'c9/img_48302.jpg', 'c9/img_79471.jpg', 'c9/img_33942.jpg', 'c9/img_26240.jpg', 'c9/img_24558.jpg', 'c9/img_87154.jpg', 'c9/img_68251.jpg', 'c9/img_96877.jpg', 'c9/img_22446.jpg', 'c9/img_15374.jpg', 'c9/img_68035.jpg', 'c9/img_22266.jpg', 'c9/img_62618.jpg', 'c9/img_58499.jpg', 'c9/img_15313.jpg', 'c9/img_13762.jpg', 'c0/img_71021.jpg', 'c0/img_99696.jpg', 'c0/img_46060.jpg', 'c0/img_11914.jpg', 'c0/img_12642.jpg', 'c0/img_47285.jpg', 'c0/img_40374.jpg', 'c0/img_8571.jpg', 'c0/img_10053.jpg', 'c0/img_18391.jpg', 'c0/img_93757.jpg', 'c0/img_56741.jpg', 'c0/img_57520.jpg', 'c0/img_22029.jpg', 'c0/img_61568.jpg', 'c0/img_42587.jpg', 'c0/img_18409.jpg', 'c0/img_72543.jpg', 'c0/img_44933.jpg', 'c0/img_87801.jpg', 'c0/img_46053.jpg', 'c0/img_68539.jpg', 'c0/img_5342.jpg', 'c0/img_24706.jpg', 'c0/img_54170.jpg', 'c0/img_52476.jpg', 'c0/img_27005.jpg', 'c0/img_41911.jpg', 'c0/img_44820.jpg', 'c0/img_33315.jpg', 'c0/img_18138.jpg', 'c0/img_95572.jpg', 'c0/img_38469.jpg', 'c0/img_97604.jpg', 'c0/img_64681.jpg', 'c0/img_63314.jpg', 'c0/img_5324.jpg', 'c0/img_91730.jpg', 'c0/img_20192.jpg', 'c0/img_59322.jpg', 'c0/img_93759.jpg', 'c0/img_57789.jpg', 'c0/img_42723.jpg', 'c0/img_35669.jpg', 'c0/img_59118.jpg', 'c0/img_14903.jpg', 'c0/img_22820.jpg', 'c0/img_36959.jpg', 'c0/img_60063.jpg', 'c0/img_81940.jpg', 'c0/img_68227.jpg', 'c0/img_59764.jpg', 'c0/img_41847.jpg', 'c0/img_65497.jpg', 'c0/img_1421.jpg', 'c0/img_86052.jpg', 'c0/img_95355.jpg', 'c0/img_53692.jpg', 'c0/img_87355.jpg', 'c0/img_21731.jpg', 'c0/img_73423.jpg', 'c0/img_82314.jpg', 'c0/img_17736.jpg', 'c0/img_61869.jpg', 'c0/img_56466.jpg', 'c0/img_16355.jpg', 'c0/img_16474.jpg', 'c0/img_63812.jpg', 'c0/img_2093.jpg', 'c0/img_14223.jpg', 'c0/img_16345.jpg', 'c0/img_36300.jpg', 'c0/img_101859.jpg', 'c0/img_62129.jpg', 'c0/img_25298.jpg', 'c0/img_87270.jpg', 'c0/img_98505.jpg', 'c0/img_69697.jpg', 'c0/img_24232.jpg', 'c0/img_36330.jpg', 'c0/img_14399.jpg', 'c0/img_75755.jpg', 'c0/img_75564.jpg', 'c0/img_61737.jpg', 'c0/img_73127.jpg', 'c0/img_36206.jpg', 'c0/img_54960.jpg', 'c0/img_87669.jpg', 'c0/img_74751.jpg', 'c0/img_99640.jpg', 'c0/img_82329.jpg', 'c0/img_51729.jpg', 'c0/img_38514.jpg', 'c0/img_90396.jpg', 'c0/img_60925.jpg', 'c0/img_31345.jpg', 'c0/img_15760.jpg', 'c0/img_48161.jpg', 'c0/img_70417.jpg', 'c0/img_32619.jpg', 'c0/img_81332.jpg', 'c0/img_30164.jpg', 'c0/img_40312.jpg', 'c0/img_43734.jpg', 'c0/img_26025.jpg', 'c0/img_12114.jpg', 'c0/img_49872.jpg', 'c0/img_82948.jpg', 'c0/img_53053.jpg', 'c0/img_50007.jpg', 'c0/img_79872.jpg', 'c0/img_77696.jpg', 'c0/img_69702.jpg', 'c0/img_89077.jpg', 'c0/img_92314.jpg', 'c0/img_8717.jpg', 'c0/img_81527.jpg', 'c0/img_71760.jpg', 'c0/img_95698.jpg', 'c0/img_78723.jpg', 'c0/img_71815.jpg', 'c0/img_86976.jpg', 'c0/img_14027.jpg', 'c0/img_75880.jpg', 'c0/img_55291.jpg', 'c0/img_54857.jpg', 'c0/img_7272.jpg', 'c0/img_93133.jpg', 'c0/img_83326.jpg', 'c0/img_34269.jpg', 'c1/img_96569.jpg', 'c1/img_34132.jpg', 'c1/img_47913.jpg', 'c1/img_47233.jpg', 'c1/img_65466.jpg', 'c1/img_22224.jpg', 'c1/img_101762.jpg', 'c1/img_48823.jpg', 'c1/img_54111.jpg', 'c1/img_9733.jpg', 'c1/img_88768.jpg', 'c1/img_42190.jpg', 'c1/img_51862.jpg', 'c1/img_81950.jpg', 'c1/img_95715.jpg', 'c1/img_10481.jpg', 'c1/img_62687.jpg', 'c1/img_70689.jpg', 'c1/img_36103.jpg', 'c1/img_76848.jpg', 'c1/img_68126.jpg', 'c1/img_700.jpg', 'c1/img_5196.jpg', 'c1/img_92285.jpg', 'c1/img_67834.jpg', 'c1/img_93274.jpg', 'c1/img_4581.jpg', 'c1/img_81162.jpg', 'c1/img_40449.jpg', 'c1/img_16379.jpg', 'c1/img_65711.jpg', 'c1/img_28475.jpg', 'c1/img_28897.jpg', 'c1/img_89937.jpg', 'c1/img_19278.jpg', 'c1/img_71532.jpg', 'c1/img_1302.jpg', 'c1/img_46317.jpg', 'c1/img_72491.jpg', 'c1/img_47199.jpg', 'c1/img_5213.jpg', 'c1/img_6738.jpg', 'c1/img_69700.jpg', 'c1/img_100045.jpg', 'c1/img_74523.jpg', 'c1/img_33949.jpg', 'c1/img_46685.jpg', 'c1/img_95335.jpg', 'c1/img_8900.jpg', 'c1/img_11297.jpg', 'c1/img_52495.jpg', 'c1/img_88655.jpg', 'c1/img_99452.jpg', 'c1/img_26950.jpg', 'c1/img_61269.jpg', 'c1/img_47679.jpg', 'c1/img_27538.jpg', 'c1/img_11187.jpg', 'c1/img_86639.jpg', 'c1/img_44201.jpg', 'c1/img_22174.jpg', 'c1/img_46192.jpg', 'c1/img_51681.jpg', 'c1/img_79043.jpg', 'c1/img_44731.jpg', 'c1/img_49336.jpg', 'c1/img_31928.jpg', 'c1/img_24774.jpg', 'c1/img_42274.jpg', 'c1/img_23880.jpg', 'c1/img_67224.jpg', 'c1/img_29976.jpg', 'c1/img_64305.jpg', 'c1/img_32866.jpg', 'c1/img_30715.jpg', 'c1/img_88842.jpg', 'c1/img_89671.jpg', 'c1/img_14933.jpg', 'c1/img_40937.jpg', 'c1/img_64647.jpg', 'c1/img_67983.jpg', 'c1/img_46044.jpg', 'c1/img_96859.jpg', 'c1/img_40429.jpg', 'c1/img_51643.jpg', 'c1/img_14833.jpg', 'c1/img_36846.jpg', 'c1/img_28987.jpg', 'c1/img_32621.jpg', 'c1/img_96654.jpg', 'c1/img_46439.jpg', 'c1/img_61725.jpg', 'c1/img_84436.jpg', 'c1/img_95374.jpg', 'c1/img_49048.jpg', 'c1/img_20817.jpg', 'c1/img_69956.jpg', 'c1/img_34453.jpg', 'c1/img_44361.jpg', 'c1/img_65384.jpg', 'c1/img_32654.jpg', 'c1/img_2314.jpg', 'c1/img_80055.jpg', 'c1/img_15989.jpg', 'c1/img_928.jpg', 'c1/img_94205.jpg', 'c1/img_58694.jpg', 'c1/img_55032.jpg', 'c1/img_76146.jpg', 'c1/img_63880.jpg', 'c1/img_44846.jpg', 'c1/img_93266.jpg', 'c1/img_60117.jpg', 'c1/img_48935.jpg', 'c1/img_60858.jpg', 'c1/img_94448.jpg', 'c1/img_88917.jpg', 'c1/img_63631.jpg', 'c1/img_89835.jpg', 'c1/img_62174.jpg', 'c1/img_59264.jpg', 'c1/img_85394.jpg', 'c1/img_21737.jpg', 'c1/img_11827.jpg', 'c1/img_26993.jpg', 'c1/img_53306.jpg', 'c1/img_28929.jpg', 'c1/img_28759.jpg', 'c1/img_47034.jpg', 'c2/img_75207.jpg', 'c2/img_2403.jpg', 'c2/img_23060.jpg', 'c2/img_38730.jpg', 'c2/img_58205.jpg', 'c2/img_75363.jpg', 'c2/img_26945.jpg', 'c2/img_73183.jpg', 'c2/img_25284.jpg', 'c2/img_46345.jpg', 'c2/img_26822.jpg', 'c2/img_68490.jpg', 'c2/img_74850.jpg', 'c2/img_69691.jpg', 'c2/img_7053.jpg', 'c2/img_68101.jpg', 'c2/img_82746.jpg', 'c2/img_25564.jpg', 'c2/img_48970.jpg', 'c2/img_4500.jpg', 'c2/img_20292.jpg', 'c2/img_36923.jpg', 'c2/img_42701.jpg', 'c2/img_59696.jpg', 'c2/img_95083.jpg', 'c2/img_66940.jpg', 'c2/img_19409.jpg', 'c2/img_37483.jpg', 'c2/img_90774.jpg', 'c2/img_87260.jpg', 'c2/img_52669.jpg', 'c2/img_55444.jpg', 'c2/img_88354.jpg', 'c2/img_63151.jpg', 'c2/img_4221.jpg', 'c2/img_71349.jpg', 'c2/img_6296.jpg', 'c2/img_61397.jpg', 'c2/img_22056.jpg', 'c2/img_88377.jpg', 'c2/img_7649.jpg', 'c2/img_4623.jpg', 'c2/img_81235.jpg', 'c2/img_71634.jpg', 'c2/img_87501.jpg', 'c2/img_80424.jpg', 'c2/img_58701.jpg', 'c2/img_791.jpg', 'c2/img_86569.jpg', 'c2/img_91184.jpg', 'c2/img_69650.jpg', 'c2/img_33242.jpg', 'c2/img_61637.jpg', 'c2/img_20430.jpg', 'c2/img_49305.jpg', 'c2/img_14881.jpg', 'c2/img_53187.jpg', 'c2/img_43024.jpg', 'c2/img_70316.jpg', 'c2/img_5956.jpg', 'c2/img_67967.jpg', 'c2/img_54870.jpg', 'c2/img_5746.jpg', 'c2/img_68179.jpg', 'c2/img_80101.jpg', 'c2/img_12643.jpg', 'c2/img_54312.jpg', 'c2/img_61403.jpg', 'c2/img_77940.jpg', 'c2/img_76662.jpg', 'c2/img_65386.jpg', 'c2/img_101587.jpg', 'c2/img_99494.jpg', 'c2/img_14969.jpg', 'c2/img_70639.jpg', 'c2/img_44748.jpg', 'c2/img_74570.jpg', 'c2/img_11735.jpg', 'c2/img_12105.jpg', 'c2/img_69181.jpg', 'c2/img_60892.jpg', 'c2/img_99236.jpg', 'c2/img_78045.jpg', 'c2/img_34191.jpg', 'c2/img_85211.jpg', 'c2/img_92991.jpg', 'c2/img_50983.jpg', 'c2/img_34682.jpg', 'c2/img_35004.jpg', 'c2/img_2782.jpg', 'c2/img_15130.jpg', 'c2/img_65723.jpg', 'c2/img_49282.jpg', 'c2/img_74241.jpg', 'c2/img_23694.jpg', 'c2/img_55731.jpg', 'c2/img_47780.jpg', 'c2/img_14632.jpg', 'c2/img_84323.jpg', 'c2/img_16693.jpg', 'c2/img_9346.jpg', 'c2/img_74616.jpg', 'c2/img_81706.jpg', 'c2/img_7006.jpg', 'c2/img_39666.jpg', 'c2/img_65657.jpg', 'c2/img_32698.jpg', 'c2/img_80781.jpg', 'c2/img_42273.jpg', 'c2/img_47311.jpg', 'c2/img_76514.jpg', 'c2/img_81284.jpg', 'c2/img_13349.jpg', 'c2/img_95662.jpg', 'c2/img_82236.jpg', 'c2/img_40118.jpg', 'c2/img_10146.jpg', 'c2/img_24193.jpg', 'c2/img_99524.jpg', 'c2/img_30625.jpg', 'c2/img_51127.jpg', 'c2/img_28194.jpg', 'c2/img_54704.jpg', 'c2/img_88192.jpg', 'c2/img_67342.jpg', 'c2/img_88285.jpg', 'c2/img_48614.jpg', 'c2/img_93411.jpg', 'c2/img_35814.jpg', 'c2/img_28156.jpg', 'c3/img_9498.jpg', 'c3/img_14283.jpg', 'c3/img_26244.jpg', 'c3/img_85671.jpg', 'c3/img_83672.jpg', 'c3/img_7552.jpg', 'c3/img_1257.jpg', 'c3/img_74329.jpg', 'c3/img_82705.jpg', 'c3/img_81115.jpg', 'c3/img_77451.jpg', 'c3/img_12070.jpg', 'c3/img_27264.jpg', 'c3/img_98126.jpg', 'c3/img_3950.jpg', 'c3/img_24487.jpg', 'c3/img_23719.jpg', 'c3/img_78082.jpg', 'c3/img_80000.jpg', 'c3/img_99080.jpg', 'c3/img_75567.jpg', 'c3/img_30170.jpg', 'c3/img_13683.jpg', 'c3/img_37584.jpg', 'c3/img_89687.jpg', 'c3/img_36009.jpg', 'c3/img_38391.jpg', 'c3/img_45912.jpg', 'c3/img_32567.jpg', 'c3/img_25445.jpg', 'c3/img_17310.jpg', 'c3/img_87934.jpg', 'c3/img_24974.jpg', 'c3/img_52195.jpg', 'c3/img_16924.jpg', 'c3/img_55298.jpg', 'c3/img_100749.jpg', 'c3/img_99813.jpg', 'c3/img_35956.jpg', 'c3/img_38819.jpg', 'c3/img_42862.jpg', 'c3/img_94726.jpg', 'c3/img_4183.jpg', 'c3/img_54846.jpg', 'c3/img_2609.jpg', 'c3/img_44010.jpg', 'c3/img_78904.jpg', 'c3/img_76564.jpg', 'c3/img_48324.jpg', 'c3/img_71513.jpg', 'c3/img_92644.jpg', 'c3/img_72027.jpg', 'c3/img_37214.jpg', 'c3/img_8235.jpg', 'c3/img_42897.jpg', 'c3/img_25210.jpg', 'c3/img_43186.jpg', 'c3/img_24663.jpg', 'c3/img_72743.jpg', 'c3/img_45874.jpg', 'c3/img_62784.jpg', 'c3/img_79964.jpg', 'c3/img_66775.jpg', 'c3/img_45687.jpg', 'c3/img_35145.jpg', 'c3/img_62463.jpg', 'c3/img_56810.jpg', 'c3/img_72138.jpg', 'c3/img_94118.jpg', 'c3/img_30062.jpg', 'c3/img_616.jpg', 'c3/img_92105.jpg', 'c3/img_77917.jpg', 'c3/img_45921.jpg', 'c3/img_25400.jpg', 'c3/img_101087.jpg', 'c3/img_62732.jpg', 'c3/img_18760.jpg', 'c3/img_65021.jpg', 'c3/img_32128.jpg', 'c3/img_81291.jpg', 'c3/img_65299.jpg', 'c3/img_25231.jpg', 'c3/img_43465.jpg', 'c3/img_19894.jpg', 'c3/img_40342.jpg', 'c3/img_34546.jpg', 'c3/img_12206.jpg', 'c3/img_98752.jpg', 'c3/img_95792.jpg', 'c3/img_22554.jpg', 'c3/img_39800.jpg', 'c3/img_24008.jpg', 'c3/img_47156.jpg', 'c3/img_39992.jpg', 'c3/img_63245.jpg', 'c3/img_94691.jpg', 'c3/img_35548.jpg', 'c3/img_48101.jpg', 'c3/img_40777.jpg', 'c3/img_55862.jpg', 'c3/img_43138.jpg', 'c3/img_60897.jpg', 'c3/img_67771.jpg', 'c3/img_89087.jpg', 'c3/img_76312.jpg', 'c3/img_34896.jpg', 'c3/img_33648.jpg', 'c3/img_13327.jpg', 'c3/img_75312.jpg', 'c3/img_45054.jpg', 'c3/img_99712.jpg', 'c3/img_19992.jpg', 'c3/img_43920.jpg', 'c3/img_15858.jpg', 'c3/img_60419.jpg', 'c3/img_12825.jpg', 'c3/img_101994.jpg', 'c3/img_53310.jpg', 'c3/img_60468.jpg', 'c3/img_89345.jpg', 'c3/img_44305.jpg', 'c3/img_48758.jpg', 'c3/img_16810.jpg', 'c3/img_57086.jpg', 'c3/img_49783.jpg', 'c3/img_70360.jpg', 'c3/img_57834.jpg', 'c3/img_17005.jpg', 'c3/img_87006.jpg', 'c3/img_66557.jpg', 'c4/img_91307.jpg', 'c4/img_7652.jpg', 'c4/img_30679.jpg', 'c4/img_99370.jpg', 'c4/img_54032.jpg', 'c4/img_46388.jpg', 'c4/img_50905.jpg', 'c4/img_87072.jpg', 'c4/img_58593.jpg', 'c4/img_7727.jpg', 'c4/img_101975.jpg', 'c4/img_55249.jpg', 'c4/img_95030.jpg', 'c4/img_2479.jpg', 'c4/img_14473.jpg', 'c4/img_87011.jpg', 'c4/img_64105.jpg', 'c4/img_18713.jpg', 'c4/img_83373.jpg', 'c4/img_27644.jpg', 'c4/img_27178.jpg', 'c4/img_86096.jpg', 'c4/img_51068.jpg', 'c4/img_66620.jpg', 'c4/img_33900.jpg', 'c4/img_100529.jpg', 'c4/img_26631.jpg', 'c4/img_72576.jpg', 'c4/img_33879.jpg', 'c4/img_52380.jpg', 'c4/img_78985.jpg', 'c4/img_79859.jpg', 'c4/img_63113.jpg', 'c4/img_2447.jpg', 'c4/img_10572.jpg', 'c4/img_93018.jpg', 'c4/img_90315.jpg', 'c4/img_45662.jpg', 'c4/img_40784.jpg', 'c4/img_19318.jpg', 'c4/img_75347.jpg', 'c4/img_17118.jpg', 'c4/img_594.jpg', 'c4/img_28788.jpg', 'c4/img_56352.jpg', 'c4/img_34301.jpg', 'c4/img_52614.jpg', 'c4/img_81256.jpg', 'c4/img_86422.jpg', 'c4/img_51790.jpg', 'c4/img_98576.jpg', 'c4/img_99977.jpg', 'c4/img_48398.jpg', 'c4/img_40638.jpg', 'c4/img_81628.jpg', 'c4/img_44751.jpg', 'c4/img_33835.jpg', 'c4/img_10249.jpg', 'c4/img_20286.jpg', 'c4/img_73413.jpg', 'c4/img_19931.jpg', 'c4/img_75992.jpg', 'c4/img_88691.jpg', 'c4/img_63738.jpg', 'c4/img_40343.jpg', 'c4/img_12232.jpg', 'c4/img_66185.jpg', 'c4/img_62033.jpg', 'c4/img_597.jpg', 'c4/img_19130.jpg', 'c4/img_87175.jpg', 'c4/img_51711.jpg', 'c4/img_5704.jpg', 'c4/img_2351.jpg', 'c4/img_75999.jpg', 'c4/img_25700.jpg', 'c4/img_89133.jpg', 'c4/img_26929.jpg', 'c4/img_45024.jpg', 'c4/img_4499.jpg', 'c4/img_17467.jpg', 'c4/img_53646.jpg', 'c4/img_18210.jpg', 'c4/img_64580.jpg', 'c4/img_93755.jpg', 'c4/img_46163.jpg', 'c4/img_49642.jpg', 'c4/img_22912.jpg', 'c4/img_33024.jpg', 'c4/img_75489.jpg', 'c4/img_51813.jpg', 'c4/img_70761.jpg', 'c4/img_41329.jpg', 'c4/img_94186.jpg', 'c4/img_90984.jpg', 'c4/img_90130.jpg', 'c4/img_51783.jpg', 'c4/img_14345.jpg', 'c4/img_82344.jpg', 'c4/img_29622.jpg', 'c4/img_97523.jpg', 'c4/img_65988.jpg', 'c4/img_69063.jpg', 'c4/img_33345.jpg', 'c4/img_82854.jpg', 'c4/img_87294.jpg', 'c4/img_20911.jpg', 'c4/img_21449.jpg', 'c4/img_70652.jpg', 'c4/img_31106.jpg', 'c4/img_21005.jpg', 'c4/img_29762.jpg', 'c4/img_79497.jpg', 'c4/img_48735.jpg', 'c4/img_96014.jpg', 'c4/img_42583.jpg', 'c4/img_24149.jpg', 'c4/img_91039.jpg', 'c4/img_48336.jpg', 'c4/img_7410.jpg', 'c4/img_48337.jpg', 'c4/img_46174.jpg', 'c4/img_21842.jpg', 'c4/img_71416.jpg', 'c4/img_86426.jpg', 'c4/img_89667.jpg', 'c5/img_17494.jpg', 'c5/img_69983.jpg', 'c5/img_58460.jpg', 'c5/img_51344.jpg', 'c5/img_63591.jpg', 'c5/img_3234.jpg', 'c5/img_90762.jpg', 'c5/img_14750.jpg', 'c5/img_72058.jpg', 'c5/img_70809.jpg', 'c5/img_44397.jpg', 'c5/img_5564.jpg', 'c5/img_82966.jpg', 'c5/img_7374.jpg', 'c5/img_101544.jpg', 'c5/img_13773.jpg', 'c5/img_67377.jpg', 'c5/img_52548.jpg', 'c5/img_7024.jpg', 'c5/img_64728.jpg', 'c5/img_7782.jpg', 'c5/img_4041.jpg', 'c5/img_95164.jpg', 'c5/img_36657.jpg', 'c5/img_81143.jpg', 'c5/img_92308.jpg', 'c5/img_99827.jpg', 'c5/img_79836.jpg', 'c5/img_17939.jpg', 'c5/img_7355.jpg', 'c5/img_43043.jpg', 'c5/img_46456.jpg', 'c5/img_16774.jpg', 'c5/img_12829.jpg', 'c5/img_78039.jpg', 'c5/img_78585.jpg', 'c5/img_40790.jpg', 'c5/img_56194.jpg', 'c5/img_49466.jpg', 'c5/img_42692.jpg', 'c5/img_4940.jpg', 'c5/img_9723.jpg', 'c5/img_14125.jpg', 'c5/img_72934.jpg', 'c5/img_83671.jpg', 'c5/img_15638.jpg', 'c5/img_48860.jpg', 'c5/img_1827.jpg', 'c5/img_73562.jpg', 'c5/img_92030.jpg', 'c5/img_90180.jpg', 'c5/img_34935.jpg', 'c5/img_47221.jpg', 'c5/img_1048.jpg', 'c5/img_20358.jpg', 'c5/img_102055.jpg', 'c5/img_69127.jpg', 'c5/img_71391.jpg', 'c5/img_13461.jpg', 'c5/img_61584.jpg', 'c5/img_25844.jpg', 'c5/img_64057.jpg', 'c5/img_49145.jpg', 'c5/img_44464.jpg', 'c5/img_67214.jpg', 'c5/img_37530.jpg', 'c5/img_29805.jpg', 'c5/img_17764.jpg', 'c5/img_33019.jpg', 'c5/img_44350.jpg', 'c5/img_83357.jpg', 'c5/img_52988.jpg', 'c5/img_9355.jpg', 'c5/img_15362.jpg', 'c5/img_14148.jpg', 'c5/img_43443.jpg', 'c5/img_12370.jpg', 'c5/img_34344.jpg', 'c5/img_44367.jpg', 'c5/img_53266.jpg', 'c5/img_3278.jpg', 'c5/img_25157.jpg', 'c5/img_83565.jpg', 'c5/img_68953.jpg', 'c5/img_16858.jpg', 'c5/img_89816.jpg', 'c5/img_32499.jpg', 'c5/img_42793.jpg', 'c5/img_717.jpg', 'c5/img_1304.jpg', 'c5/img_64503.jpg', 'c5/img_118.jpg', 'c5/img_58041.jpg', 'c5/img_15842.jpg', 'c5/img_39891.jpg', 'c5/img_48737.jpg', 'c5/img_9728.jpg', 'c5/img_30554.jpg', 'c5/img_35469.jpg', 'c5/img_14089.jpg', 'c5/img_14801.jpg', 'c5/img_5920.jpg', 'c5/img_92810.jpg', 'c5/img_87881.jpg', 'c5/img_9835.jpg', 'c5/img_275.jpg', 'c5/img_11398.jpg', 'c5/img_53413.jpg', 'c5/img_5969.jpg', 'c5/img_99280.jpg', 'c5/img_457.jpg', 'c5/img_100270.jpg', 'c5/img_33938.jpg', 'c5/img_74882.jpg', 'c5/img_23017.jpg', 'c5/img_573.jpg', 'c5/img_46433.jpg', 'c5/img_65706.jpg', 'c5/img_17305.jpg', 'c5/img_5653.jpg', 'c5/img_79397.jpg', 'c5/img_23077.jpg', 'c5/img_23068.jpg', 'c5/img_18146.jpg', 'c5/img_3442.jpg', 'c5/img_33521.jpg', 'c5/img_27554.jpg', 'c5/img_24514.jpg', 'c5/img_6929.jpg', 'c5/img_48279.jpg', 'c6/img_56673.jpg', 'c6/img_64527.jpg', 'c6/img_37141.jpg', 'c6/img_88416.jpg', 'c6/img_16.jpg', 'c6/img_58037.jpg', 'c6/img_14576.jpg', 'c6/img_50233.jpg', 'c6/img_24503.jpg', 'c6/img_41324.jpg', 'c6/img_39554.jpg', 'c6/img_6334.jpg', 'c6/img_80314.jpg', 'c6/img_91445.jpg', 'c6/img_14529.jpg', 'c6/img_83776.jpg', 'c6/img_49684.jpg', 'c6/img_44916.jpg', 'c6/img_99618.jpg', 'c6/img_23850.jpg', 'c6/img_3240.jpg', 'c6/img_90297.jpg', 'c6/img_46973.jpg', 'c6/img_86190.jpg', 'c6/img_76269.jpg', 'c6/img_4718.jpg', 'c6/img_81133.jpg', 'c6/img_87601.jpg', 'c6/img_52274.jpg', 'c6/img_29126.jpg', 'c6/img_87360.jpg', 'c6/img_4841.jpg', 'c6/img_81432.jpg', 'c6/img_90809.jpg', 'c6/img_67564.jpg', 'c6/img_81351.jpg', 'c6/img_55894.jpg', 'c6/img_35895.jpg', 'c6/img_30502.jpg', 'c6/img_22989.jpg', 'c6/img_51107.jpg', 'c6/img_28431.jpg', 'c6/img_30687.jpg', 'c6/img_81828.jpg', 'c6/img_100640.jpg', 'c6/img_69392.jpg', 'c6/img_56678.jpg', 'c6/img_70808.jpg', 'c6/img_11945.jpg', 'c6/img_17713.jpg', 'c6/img_50886.jpg', 'c6/img_33957.jpg', 'c6/img_52178.jpg', 'c6/img_26250.jpg', 'c6/img_77417.jpg', 'c6/img_37823.jpg', 'c6/img_27887.jpg', 'c6/img_15452.jpg', 'c6/img_76844.jpg', 'c6/img_6821.jpg', 'c6/img_17196.jpg', 'c6/img_43622.jpg', 'c6/img_78812.jpg', 'c6/img_12727.jpg', 'c6/img_84875.jpg', 'c6/img_42894.jpg', 'c6/img_24870.jpg', 'c6/img_37609.jpg', 'c6/img_879.jpg', 'c6/img_12305.jpg', 'c6/img_17321.jpg', 'c6/img_20299.jpg', 'c6/img_58055.jpg', 'c6/img_46968.jpg', 'c6/img_86275.jpg', 'c6/img_10966.jpg', 'c6/img_91546.jpg', 'c6/img_92371.jpg', 'c6/img_45774.jpg', 'c6/img_75931.jpg', 'c6/img_66152.jpg', 'c6/img_46634.jpg', 'c6/img_65836.jpg', 'c6/img_98577.jpg', 'c6/img_42012.jpg', 'c6/img_89661.jpg', 'c6/img_50676.jpg', 'c6/img_61802.jpg', 'c6/img_22541.jpg', 'c6/img_6028.jpg', 'c6/img_11810.jpg', 'c6/img_58664.jpg', 'c6/img_88586.jpg', 'c6/img_47333.jpg', 'c6/img_12866.jpg', 'c6/img_72318.jpg', 'c6/img_12892.jpg', 'c6/img_8779.jpg', 'c6/img_2350.jpg', 'c6/img_51367.jpg', 'c6/img_86579.jpg', 'c6/img_94126.jpg', 'c6/img_20305.jpg', 'c6/img_92413.jpg', 'c6/img_2926.jpg', 'c6/img_23423.jpg', 'c6/img_13900.jpg', 'c6/img_5556.jpg', 'c6/img_13528.jpg', 'c6/img_86249.jpg', 'c6/img_85104.jpg', 'c6/img_7050.jpg', 'c6/img_38773.jpg', 'c6/img_76463.jpg', 'c6/img_51246.jpg', 'c6/img_20204.jpg', 'c6/img_67870.jpg', 'c6/img_69621.jpg', 'c6/img_67859.jpg', 'c6/img_62683.jpg', 'c6/img_83551.jpg', 'c6/img_297.jpg', 'c6/img_69932.jpg', 'c6/img_74633.jpg', 'c6/img_28791.jpg', 'c6/img_30481.jpg', 'c6/img_75120.jpg', 'c6/img_32462.jpg', 'c7/img_35312.jpg', 'c7/img_89918.jpg', 'c7/img_96779.jpg', 'c7/img_2015.jpg', 'c7/img_82451.jpg', 'c7/img_87806.jpg', 'c7/img_95568.jpg', 'c7/img_116.jpg', 'c7/img_89029.jpg', 'c7/img_19947.jpg', 'c7/img_47372.jpg', 'c7/img_41385.jpg', 'c7/img_57137.jpg', 'c7/img_63025.jpg', 'c7/img_50573.jpg', 'c7/img_16777.jpg', 'c7/img_63818.jpg', 'c7/img_36289.jpg', 'c7/img_89206.jpg', 'c7/img_64642.jpg', 'c7/img_14198.jpg', 'c7/img_2434.jpg', 'c7/img_904.jpg', 'c7/img_36717.jpg', 'c7/img_9042.jpg', 'c7/img_11159.jpg', 'c7/img_24270.jpg', 'c7/img_3635.jpg', 'c7/img_91256.jpg', 'c7/img_79738.jpg', 'c7/img_62010.jpg', 'c7/img_3109.jpg', 'c7/img_28339.jpg', 'c7/img_5046.jpg', 'c7/img_76561.jpg', 'c7/img_29767.jpg', 'c7/img_63693.jpg', 'c7/img_29087.jpg', 'c7/img_24583.jpg', 'c7/img_80575.jpg', 'c7/img_36419.jpg', 'c7/img_99288.jpg', 'c7/img_58996.jpg', 'c7/img_101093.jpg', 'c7/img_31510.jpg', 'c7/img_7409.jpg', 'c7/img_98694.jpg', 'c7/img_96319.jpg', 'c7/img_63291.jpg', 'c7/img_86103.jpg', 'c7/img_12744.jpg', 'c7/img_42996.jpg', 'c7/img_45503.jpg', 'c7/img_51072.jpg', 'c7/img_18741.jpg', 'c7/img_40641.jpg', 'c7/img_91263.jpg', 'c7/img_9897.jpg', 'c7/img_3661.jpg', 'c7/img_86086.jpg', 'c7/img_47798.jpg', 'c7/img_95172.jpg', 'c7/img_11121.jpg', 'c7/img_86500.jpg', 'c7/img_11004.jpg', 'c7/img_101850.jpg', 'c7/img_84605.jpg', 'c7/img_49234.jpg', 'c7/img_37951.jpg', 'c7/img_91270.jpg', 'c7/img_79863.jpg', 'c7/img_49139.jpg', 'c7/img_90460.jpg', 'c7/img_74538.jpg', 'c7/img_17746.jpg', 'c7/img_13174.jpg', 'c7/img_87830.jpg', 'c7/img_96760.jpg', 'c7/img_3000.jpg', 'c7/img_22599.jpg', 'c7/img_72708.jpg', 'c7/img_90369.jpg', 'c7/img_90067.jpg', 'c7/img_100408.jpg', 'c7/img_94521.jpg', 'c7/img_100393.jpg', 'c7/img_1019.jpg', 'c7/img_68210.jpg', 'c7/img_21830.jpg', 'c7/img_16435.jpg', 'c7/img_30938.jpg', 'c7/img_81491.jpg', 'c7/img_51697.jpg', 'c7/img_17051.jpg', 'c7/img_23919.jpg', 'c7/img_81914.jpg', 'c7/img_4504.jpg', 'c8/img_56280.jpg', 'c8/img_54016.jpg', 'c8/img_75577.jpg', 'c8/img_38041.jpg', 'c8/img_94576.jpg', 'c8/img_20265.jpg', 'c8/img_100787.jpg', 'c8/img_76236.jpg', 'c8/img_83330.jpg', 'c8/img_24749.jpg', 'c8/img_88675.jpg', 'c8/img_89953.jpg', 'c8/img_97861.jpg', 'c8/img_67168.jpg', 'c8/img_89028.jpg', 'c8/img_14084.jpg', 'c8/img_23170.jpg', 'c8/img_39929.jpg', 'c8/img_29028.jpg', 'c8/img_44131.jpg', 'c8/img_22654.jpg', 'c8/img_37727.jpg', 'c8/img_7932.jpg', 'c8/img_18701.jpg', 'c8/img_31819.jpg', 'c8/img_19974.jpg', 'c8/img_70752.jpg', 'c8/img_83726.jpg', 'c8/img_40578.jpg', 'c8/img_17479.jpg', 'c8/img_68365.jpg', 'c8/img_44469.jpg', 'c8/img_81850.jpg', 'c8/img_72072.jpg', 'c8/img_44858.jpg', 'c8/img_24587.jpg', 'c8/img_4998.jpg', 'c8/img_15381.jpg', 'c8/img_49247.jpg', 'c8/img_19559.jpg', 'c8/img_32296.jpg', 'c8/img_48620.jpg', 'c8/img_26143.jpg', 'c8/img_85996.jpg', 'c8/img_34394.jpg', 'c8/img_32789.jpg', 'c8/img_97558.jpg', 'c8/img_41155.jpg', 'c8/img_48976.jpg', 'c8/img_90949.jpg', 'c8/img_63647.jpg', 'c8/img_78828.jpg', 'c8/img_27146.jpg', 'c8/img_76367.jpg', 'c8/img_86836.jpg', 'c8/img_66573.jpg', 'c8/img_94630.jpg', 'c8/img_43230.jpg', 'c8/img_83931.jpg', 'c8/img_44267.jpg', 'c8/img_37069.jpg', 'c8/img_47128.jpg', 'c8/img_28340.jpg', 'c8/img_15244.jpg', 'c8/img_26115.jpg', 'c8/img_48752.jpg', 'c8/img_82774.jpg', 'c8/img_97665.jpg', 'c8/img_20731.jpg', 'c8/img_87582.jpg', 'c8/img_8652.jpg', 'c8/img_48174.jpg', 'c8/img_99262.jpg', 'c8/img_39968.jpg', 'c8/img_59882.jpg', 'c8/img_88398.jpg', 'c8/img_13129.jpg', 'c8/img_63718.jpg', 'c8/img_54277.jpg', 'c8/img_54657.jpg', 'c8/img_68775.jpg', 'c8/img_100816.jpg', 'c8/img_85957.jpg', 'c8/img_10706.jpg', 'c8/img_18851.jpg', 'c8/img_36947.jpg', 'c8/img_15011.jpg', 'c8/img_44057.jpg', 'c8/img_29031.jpg', 'c8/img_89787.jpg', 'c8/img_40985.jpg', 'c8/img_27889.jpg', 'c8/img_92534.jpg', 'c8/img_67093.jpg', 'c8/img_17167.jpg', 'c8/img_32031.jpg', 'c8/img_12704.jpg', 'c9/img_11964.jpg', 'c9/img_82571.jpg', 'c9/img_73196.jpg', 'c9/img_48817.jpg', 'c9/img_10232.jpg', 'c9/img_51326.jpg', 'c9/img_5361.jpg', 'c9/img_63562.jpg', 'c9/img_91822.jpg', 'c9/img_53518.jpg', 'c9/img_20513.jpg', 'c9/img_95005.jpg', 'c9/img_44215.jpg', 'c9/img_82297.jpg', 'c9/img_54685.jpg', 'c9/img_96266.jpg', 'c9/img_60974.jpg', 'c9/img_28508.jpg', 'c9/img_75671.jpg', 'c9/img_10917.jpg', 'c9/img_9512.jpg', 'c9/img_50520.jpg', 'c9/img_39369.jpg', 'c9/img_67906.jpg', 'c9/img_99295.jpg', 'c9/img_47026.jpg', 'c9/img_35420.jpg', 'c9/img_90370.jpg', 'c9/img_49252.jpg', 'c9/img_63661.jpg', 'c9/img_83320.jpg', 'c9/img_11528.jpg', 'c9/img_9634.jpg', 'c9/img_24747.jpg', 'c9/img_71925.jpg', 'c9/img_81578.jpg', 'c9/img_43423.jpg', 'c9/img_101611.jpg', 'c9/img_28033.jpg', 'c9/img_85817.jpg', 'c9/img_8484.jpg', 'c9/img_74489.jpg', 'c9/img_46424.jpg', 'c9/img_31275.jpg', 'c9/img_52436.jpg', 'c9/img_53672.jpg', 'c9/img_71490.jpg', 'c9/img_71824.jpg', 'c9/img_18444.jpg', 'c9/img_59344.jpg', 'c9/img_91312.jpg', 'c9/img_75061.jpg', 'c9/img_3084.jpg', 'c9/img_23756.jpg', 'c9/img_44747.jpg', 'c9/img_62222.jpg', 'c9/img_47165.jpg', 'c9/img_14315.jpg', 'c9/img_98731.jpg', 'c9/img_1825.jpg', 'c9/img_56371.jpg', 'c9/img_64613.jpg', 'c9/img_51145.jpg', 'c9/img_33005.jpg', 'c9/img_27847.jpg', 'c9/img_37406.jpg', 'c9/img_25887.jpg', 'c9/img_4597.jpg', 'c9/img_49894.jpg', 'c9/img_8601.jpg', 'c9/img_38956.jpg', 'c9/img_12588.jpg', 'c9/img_71469.jpg', 'c9/img_83115.jpg', 'c9/img_21846.jpg', 'c9/img_50788.jpg', 'c9/img_27785.jpg', 'c9/img_83649.jpg', 'c9/img_88722.jpg', 'c9/img_8480.jpg', 'c9/img_88717.jpg', 'c9/img_96054.jpg', 'c9/img_63714.jpg', 'c9/img_36732.jpg', 'c9/img_2370.jpg', 'c9/img_50197.jpg', 'c9/img_47067.jpg', 'c9/img_68625.jpg', 'c9/img_95888.jpg', 'c9/img_42363.jpg', 'c9/img_66437.jpg', 'c9/img_5855.jpg', 'c9/img_46485.jpg', 'c9/img_55120.jpg', 'c9/img_82259.jpg', 'c9/img_34825.jpg', 'c9/img_66427.jpg', 'c9/img_63600.jpg', 'c0/img_66660.jpg', 'c0/img_89362.jpg', 'c0/img_13584.jpg', 'c0/img_4400.jpg', 'c0/img_48340.jpg', 'c0/img_37109.jpg', 'c0/img_48482.jpg', 'c0/img_3509.jpg', 'c0/img_59446.jpg', 'c0/img_42283.jpg', 'c0/img_5869.jpg', 'c0/img_93090.jpg', 'c0/img_55476.jpg', 'c0/img_36549.jpg', 'c0/img_78110.jpg', 'c0/img_99289.jpg', 'c0/img_51076.jpg', 'c0/img_51232.jpg', 'c0/img_11067.jpg', 'c0/img_19302.jpg', 'c0/img_55729.jpg', 'c0/img_76704.jpg', 'c0/img_7044.jpg', 'c0/img_101223.jpg', 'c0/img_34741.jpg', 'c0/img_90390.jpg', 'c0/img_38463.jpg', 'c0/img_62061.jpg', 'c0/img_74744.jpg', 'c0/img_91123.jpg', 'c0/img_70438.jpg', 'c0/img_16033.jpg', 'c0/img_4824.jpg', 'c0/img_3824.jpg', 'c0/img_30360.jpg', 'c0/img_46325.jpg', 'c0/img_7608.jpg', 'c0/img_79839.jpg', 'c0/img_23004.jpg', 'c0/img_7553.jpg', 'c0/img_4013.jpg', 'c0/img_66673.jpg', 'c0/img_30218.jpg', 'c0/img_67320.jpg', 'c0/img_46925.jpg', 'c0/img_53168.jpg', 'c0/img_18267.jpg', 'c0/img_5325.jpg', 'c0/img_38312.jpg', 'c0/img_94155.jpg', 'c0/img_16813.jpg', 'c0/img_16363.jpg', 'c0/img_40141.jpg', 'c0/img_47947.jpg', 'c0/img_65222.jpg', 'c0/img_14779.jpg', 'c0/img_4219.jpg', 'c0/img_32813.jpg', 'c0/img_94809.jpg', 'c0/img_83656.jpg', 'c0/img_60797.jpg', 'c0/img_86894.jpg', 'c0/img_4461.jpg', 'c0/img_68450.jpg', 'c0/img_1197.jpg', 'c0/img_2151.jpg', 'c0/img_89173.jpg', 'c0/img_20144.jpg', 'c0/img_14757.jpg', 'c0/img_41663.jpg', 'c0/img_3975.jpg', 'c0/img_90765.jpg', 'c0/img_38433.jpg', 'c0/img_71915.jpg', 'c0/img_62376.jpg', 'c0/img_19780.jpg', 'c0/img_42698.jpg', 'c0/img_4053.jpg', 'c0/img_101938.jpg', 'c0/img_89942.jpg', 'c0/img_84960.jpg', 'c0/img_36155.jpg', 'c0/img_55813.jpg', 'c0/img_74437.jpg', 'c0/img_50058.jpg', 'c0/img_7373.jpg', 'c0/img_57153.jpg', 'c0/img_17396.jpg', 'c0/img_50998.jpg', 'c0/img_15596.jpg', 'c0/img_97072.jpg', 'c0/img_79759.jpg', 'c0/img_22011.jpg', 'c0/img_20759.jpg', 'c1/img_26100.jpg', 'c1/img_85614.jpg', 'c1/img_9912.jpg', 'c1/img_8943.jpg', 'c1/img_99455.jpg', 'c1/img_64390.jpg', 'c1/img_70198.jpg', 'c1/img_64937.jpg', 'c1/img_47439.jpg', 'c1/img_44204.jpg', 'c1/img_29808.jpg', 'c1/img_17413.jpg', 'c1/img_68592.jpg', 'c1/img_57581.jpg', 'c1/img_34497.jpg', 'c1/img_100230.jpg', 'c1/img_98489.jpg', 'c1/img_58889.jpg', 'c1/img_58963.jpg', 'c1/img_51786.jpg', 'c1/img_5668.jpg', 'c1/img_9743.jpg', 'c1/img_85596.jpg', 'c1/img_81067.jpg', 'c1/img_41262.jpg', 'c1/img_36277.jpg', 'c1/img_85421.jpg', 'c1/img_21469.jpg', 'c1/img_16570.jpg', 'c1/img_58381.jpg', 'c1/img_25771.jpg', 'c1/img_24497.jpg', 'c1/img_29177.jpg', 'c1/img_24344.jpg', 'c1/img_50362.jpg', 'c1/img_26015.jpg', 'c1/img_83550.jpg', 'c1/img_6323.jpg', 'c1/img_38754.jpg', 'c1/img_79974.jpg', 'c1/img_12519.jpg', 'c1/img_42534.jpg', 'c1/img_62814.jpg', 'c1/img_36628.jpg', 'c1/img_76294.jpg', 'c1/img_1950.jpg', 'c1/img_54564.jpg', 'c1/img_46972.jpg', 'c1/img_40515.jpg', 'c1/img_85914.jpg', 'c1/img_3949.jpg', 'c1/img_4177.jpg', 'c1/img_17653.jpg', 'c1/img_69714.jpg', 'c1/img_26334.jpg', 'c1/img_86844.jpg', 'c1/img_96996.jpg', 'c1/img_14655.jpg', 'c1/img_100153.jpg', 'c1/img_34735.jpg', 'c1/img_7152.jpg', 'c1/img_25809.jpg', 'c1/img_45505.jpg', 'c1/img_63248.jpg', 'c1/img_836.jpg', 'c1/img_43819.jpg', 'c1/img_5261.jpg', 'c1/img_77339.jpg', 'c1/img_94216.jpg', 'c1/img_40079.jpg', 'c1/img_12349.jpg', 'c1/img_57540.jpg', 'c1/img_57595.jpg', 'c1/img_15461.jpg', 'c1/img_97423.jpg', 'c1/img_64332.jpg', 'c1/img_10783.jpg', 'c1/img_42558.jpg', 'c1/img_89195.jpg', 'c1/img_25394.jpg', 'c1/img_35342.jpg', 'c2/img_56457.jpg', 'c2/img_42917.jpg', 'c2/img_50686.jpg', 'c2/img_70170.jpg', 'c2/img_26905.jpg', 'c2/img_41872.jpg', 'c2/img_23552.jpg', 'c2/img_56041.jpg', 'c2/img_17025.jpg', 'c2/img_41725.jpg', 'c2/img_88757.jpg', 'c2/img_16318.jpg', 'c2/img_27360.jpg', 'c2/img_5784.jpg', 'c2/img_13764.jpg', 'c2/img_86478.jpg', 'c2/img_43139.jpg', 'c2/img_23445.jpg', 'c2/img_18020.jpg', 'c2/img_6465.jpg', 'c2/img_62883.jpg', 'c2/img_73004.jpg', 'c2/img_11588.jpg', 'c2/img_22992.jpg', 'c2/img_94108.jpg', 'c2/img_14852.jpg', 'c2/img_50893.jpg', 'c2/img_52278.jpg', 'c2/img_11840.jpg', 'c2/img_23922.jpg', 'c2/img_75139.jpg', 'c2/img_24065.jpg', 'c2/img_8807.jpg', 'c2/img_48527.jpg', 'c2/img_64052.jpg', 'c2/img_23878.jpg', 'c2/img_29473.jpg', 'c2/img_31097.jpg', 'c2/img_39829.jpg', 'c2/img_31065.jpg', 'c2/img_53955.jpg', 'c2/img_33898.jpg', 'c2/img_83279.jpg', 'c2/img_58266.jpg', 'c2/img_61445.jpg', 'c2/img_67971.jpg', 'c2/img_35703.jpg', 'c2/img_60427.jpg', 'c2/img_39544.jpg', 'c2/img_51410.jpg', 'c2/img_52457.jpg', 'c2/img_95514.jpg', 'c2/img_78449.jpg', 'c2/img_24319.jpg', 'c2/img_91691.jpg', 'c2/img_916.jpg', 'c2/img_65495.jpg', 'c2/img_53626.jpg', 'c2/img_74531.jpg', 'c2/img_54176.jpg', 'c2/img_46332.jpg', 'c2/img_92363.jpg', 'c2/img_81244.jpg', 'c2/img_74763.jpg', 'c2/img_47179.jpg', 'c2/img_90920.jpg', 'c2/img_17456.jpg', 'c2/img_55857.jpg', 'c2/img_95317.jpg', 'c2/img_89885.jpg', 'c2/img_98287.jpg', 'c2/img_45399.jpg', 'c2/img_28397.jpg', 'c2/img_2568.jpg', 'c2/img_62911.jpg', 'c2/img_69243.jpg', 'c2/img_5040.jpg', 'c2/img_54300.jpg', 'c2/img_49115.jpg', 'c2/img_30812.jpg', 'c2/img_10849.jpg', 'c2/img_11080.jpg', 'c2/img_29811.jpg', 'c2/img_87247.jpg', 'c2/img_36258.jpg', 'c2/img_47981.jpg', 'c2/img_84630.jpg', 'c2/img_48927.jpg', 'c3/img_322.jpg', 'c3/img_16967.jpg', 'c3/img_28704.jpg', 'c3/img_89883.jpg', 'c3/img_65012.jpg', 'c3/img_27385.jpg', 'c3/img_57466.jpg', 'c3/img_5437.jpg', 'c3/img_42146.jpg', 'c3/img_83766.jpg', 'c3/img_81834.jpg', 'c3/img_96786.jpg', 'c3/img_39678.jpg', 'c3/img_81003.jpg', 'c3/img_3392.jpg', 'c3/img_80902.jpg', 'c3/img_49003.jpg', 'c3/img_79164.jpg', 'c3/img_68994.jpg', 'c3/img_49889.jpg', 'c3/img_29092.jpg', 'c3/img_31608.jpg', 'c3/img_44770.jpg', 'c3/img_73396.jpg', 'c3/img_62497.jpg', 'c3/img_80829.jpg', 'c3/img_94752.jpg', 'c3/img_16651.jpg', 'c3/img_83636.jpg', 'c3/img_63175.jpg', 'c3/img_5736.jpg', 'c3/img_2631.jpg', 'c3/img_51403.jpg', 'c3/img_58781.jpg', 'c3/img_97541.jpg', 'c3/img_38470.jpg', 'c3/img_67251.jpg', 'c3/img_98052.jpg', 'c3/img_73781.jpg', 'c3/img_49870.jpg', 'c3/img_25100.jpg', 'c3/img_56292.jpg', 'c3/img_76920.jpg', 'c3/img_70592.jpg', 'c3/img_12316.jpg', 'c3/img_43136.jpg', 'c3/img_34827.jpg', 'c3/img_91604.jpg', 'c3/img_48169.jpg', 'c3/img_23475.jpg', 'c3/img_14597.jpg', 'c3/img_83041.jpg', 'c3/img_40036.jpg', 'c3/img_68507.jpg', 'c3/img_32521.jpg', 'c3/img_84374.jpg', 'c3/img_533.jpg', 'c3/img_99703.jpg', 'c3/img_53611.jpg', 'c3/img_33301.jpg', 'c3/img_39542.jpg', 'c3/img_60854.jpg', 'c3/img_61328.jpg', 'c3/img_31719.jpg', 'c3/img_537.jpg', 'c3/img_57015.jpg', 'c3/img_41086.jpg', 'c3/img_86656.jpg', 'c3/img_11819.jpg', 'c3/img_64814.jpg', 'c3/img_31122.jpg', 'c3/img_71049.jpg', 'c3/img_72663.jpg', 'c3/img_80791.jpg', 'c3/img_2005.jpg', 'c3/img_98206.jpg', 'c3/img_93709.jpg', 'c3/img_92901.jpg', 'c3/img_32926.jpg', 'c3/img_87873.jpg', 'c3/img_52166.jpg', 'c3/img_50308.jpg', 'c3/img_48460.jpg', 'c3/img_56930.jpg', 'c3/img_80287.jpg', 'c3/img_97427.jpg', 'c3/img_96527.jpg', 'c3/img_61136.jpg', 'c3/img_32804.jpg', 'c4/img_11773.jpg', 'c4/img_60379.jpg', 'c4/img_33111.jpg', 'c4/img_19091.jpg', 'c4/img_38694.jpg', 'c4/img_38543.jpg', 'c4/img_33448.jpg', 'c4/img_40743.jpg', 'c4/img_87316.jpg', 'c4/img_38322.jpg', 'c4/img_51183.jpg', 'c4/img_46436.jpg', 'c4/img_71568.jpg', 'c4/img_78372.jpg', 'c4/img_31758.jpg', 'c4/img_80893.jpg', 'c4/img_63482.jpg', 'c4/img_27100.jpg', 'c4/img_70827.jpg', 'c4/img_12616.jpg', 'c4/img_54456.jpg', 'c4/img_23536.jpg', 'c4/img_38297.jpg', 'c4/img_65868.jpg', 'c4/img_36973.jpg', 'c4/img_68594.jpg', 'c4/img_24394.jpg', 'c4/img_98317.jpg', 'c4/img_36320.jpg', 'c4/img_77364.jpg', 'c4/img_63301.jpg', 'c4/img_70635.jpg', 'c4/img_61436.jpg', 'c4/img_84121.jpg', 'c4/img_34230.jpg', 'c4/img_48533.jpg', 'c4/img_55104.jpg', 'c4/img_68409.jpg', 'c4/img_17566.jpg', 'c4/img_8250.jpg', 'c4/img_77199.jpg', 'c4/img_73366.jpg', 'c4/img_91678.jpg', 'c4/img_5513.jpg', 'c4/img_22202.jpg', 'c4/img_34398.jpg', 'c4/img_10902.jpg', 'c4/img_91908.jpg', 'c4/img_88824.jpg', 'c4/img_47815.jpg', 'c4/img_17996.jpg', 'c4/img_69484.jpg', 'c4/img_62615.jpg', 'c4/img_22165.jpg', 'c4/img_32465.jpg', 'c4/img_101957.jpg', 'c4/img_30451.jpg', 'c4/img_9086.jpg', 'c4/img_28423.jpg', 'c4/img_31570.jpg', 'c4/img_12719.jpg', 'c4/img_72376.jpg', 'c4/img_64670.jpg', 'c4/img_84456.jpg', 'c4/img_8574.jpg', 'c4/img_39421.jpg', 'c4/img_8119.jpg', 'c4/img_52001.jpg', 'c4/img_60417.jpg', 'c4/img_52720.jpg', 'c4/img_84074.jpg', 'c4/img_10612.jpg', 'c4/img_96567.jpg', 'c4/img_65637.jpg', 'c4/img_80489.jpg', 'c4/img_3787.jpg', 'c4/img_82799.jpg', 'c4/img_18077.jpg', 'c4/img_60305.jpg', 'c4/img_98579.jpg', 'c4/img_72984.jpg', 'c4/img_31117.jpg', 'c4/img_56731.jpg', 'c4/img_88621.jpg', 'c4/img_72409.jpg', 'c4/img_36903.jpg', 'c4/img_33240.jpg', 'c4/img_66786.jpg', 'c4/img_524.jpg', 'c5/img_99965.jpg', 'c5/img_43081.jpg', 'c5/img_43091.jpg', 'c5/img_14033.jpg', 'c5/img_71930.jpg', 'c5/img_94090.jpg', 'c5/img_89638.jpg', 'c5/img_86683.jpg', 'c5/img_36328.jpg', 'c5/img_68834.jpg', 'c5/img_76436.jpg', 'c5/img_31449.jpg', 'c5/img_67575.jpg', 'c5/img_96813.jpg', 'c5/img_65320.jpg', 'c5/img_39226.jpg', 'c5/img_88945.jpg', 'c5/img_93586.jpg', 'c5/img_68449.jpg', 'c5/img_35332.jpg', 'c5/img_47014.jpg', 'c5/img_62099.jpg', 'c5/img_100472.jpg', 'c5/img_17687.jpg', 'c5/img_50458.jpg', 'c5/img_41501.jpg', 'c5/img_48282.jpg', 'c5/img_47686.jpg', 'c5/img_383.jpg', 'c5/img_93637.jpg', 'c5/img_7648.jpg', 'c5/img_16455.jpg', 'c5/img_5343.jpg', 'c5/img_90878.jpg', 'c5/img_78961.jpg', 'c5/img_82016.jpg', 'c5/img_5153.jpg', 'c5/img_38638.jpg', 'c5/img_87058.jpg', 'c5/img_11136.jpg', 'c5/img_63816.jpg', 'c5/img_41485.jpg', 'c5/img_90062.jpg', 'c5/img_92217.jpg', 'c5/img_86919.jpg', 'c5/img_28341.jpg', 'c5/img_8432.jpg', 'c5/img_10760.jpg', 'c5/img_54013.jpg', 'c5/img_84714.jpg', 'c5/img_8964.jpg', 'c5/img_95487.jpg', 'c5/img_99346.jpg', 'c5/img_84217.jpg', 'c5/img_40961.jpg', 'c5/img_39485.jpg', 'c5/img_92525.jpg', 'c5/img_15112.jpg', 'c5/img_90724.jpg', 'c5/img_4242.jpg', 'c5/img_33033.jpg', 'c5/img_98614.jpg', 'c5/img_88035.jpg', 'c5/img_29521.jpg', 'c5/img_18372.jpg', 'c5/img_100993.jpg', 'c5/img_10000.jpg', 'c5/img_17156.jpg', 'c5/img_48785.jpg', 'c5/img_92746.jpg', 'c5/img_56882.jpg', 'c5/img_39448.jpg', 'c5/img_89679.jpg', 'c5/img_72362.jpg', 'c5/img_90032.jpg', 'c5/img_50043.jpg', 'c5/img_41151.jpg', 'c5/img_34080.jpg', 'c5/img_667.jpg', 'c5/img_49265.jpg', 'c5/img_95144.jpg', 'c5/img_84486.jpg', 'c5/img_8261.jpg', 'c5/img_51074.jpg', 'c5/img_32636.jpg', 'c5/img_23538.jpg', 'c5/img_55809.jpg', 'c5/img_98053.jpg', 'c5/img_17216.jpg', 'c6/img_85731.jpg', 'c6/img_53041.jpg', 'c6/img_71329.jpg', 'c6/img_10986.jpg', 'c6/img_41655.jpg', 'c6/img_86869.jpg', 'c6/img_48928.jpg', 'c6/img_57693.jpg', 'c6/img_73670.jpg', 'c6/img_36230.jpg', 'c6/img_32274.jpg', 'c6/img_63886.jpg', 'c6/img_28781.jpg', 'c6/img_50079.jpg', 'c6/img_30920.jpg', 'c6/img_53347.jpg', 'c6/img_18907.jpg', 'c6/img_58204.jpg', 'c6/img_65809.jpg', 'c6/img_43066.jpg', 'c6/img_92015.jpg', 'c6/img_34771.jpg', 'c6/img_91540.jpg', 'c6/img_75714.jpg', 'c6/img_87168.jpg', 'c6/img_75760.jpg', 'c6/img_232.jpg', 'c6/img_81369.jpg', 'c6/img_91425.jpg', 'c6/img_91854.jpg', 'c6/img_58193.jpg', 'c6/img_22203.jpg', 'c6/img_56627.jpg', 'c6/img_380.jpg', 'c6/img_97620.jpg', 'c6/img_3368.jpg', 'c6/img_41623.jpg', 'c6/img_3004.jpg', 'c6/img_92934.jpg', 'c6/img_73837.jpg', 'c6/img_100065.jpg', 'c6/img_48528.jpg', 'c6/img_59646.jpg', 'c6/img_45313.jpg', 'c6/img_72256.jpg', 'c6/img_68727.jpg', 'c6/img_29323.jpg', 'c6/img_29978.jpg', 'c6/img_89129.jpg', 'c6/img_71905.jpg', 'c6/img_40653.jpg', 'c6/img_23100.jpg', 'c6/img_9741.jpg', 'c6/img_74066.jpg', 'c6/img_101018.jpg', 'c6/img_96145.jpg', 'c6/img_30418.jpg', 'c6/img_30299.jpg', 'c6/img_66303.jpg', 'c6/img_13013.jpg', 'c6/img_39986.jpg', 'c6/img_51827.jpg', 'c6/img_12929.jpg', 'c6/img_39726.jpg', 'c6/img_57907.jpg', 'c6/img_21610.jpg', 'c6/img_12736.jpg', 'c6/img_77311.jpg', 'c6/img_93792.jpg', 'c6/img_38207.jpg', 'c6/img_36575.jpg', 'c6/img_16352.jpg', 'c6/img_70484.jpg', 'c6/img_88304.jpg', 'c6/img_81863.jpg', 'c6/img_7372.jpg', 'c6/img_80564.jpg', 'c6/img_48700.jpg', 'c6/img_81473.jpg', 'c6/img_62801.jpg', 'c6/img_38718.jpg', 'c6/img_72093.jpg', 'c6/img_78847.jpg', 'c6/img_43854.jpg', 'c6/img_91174.jpg', 'c6/img_22245.jpg', 'c6/img_21697.jpg', 'c6/img_24001.jpg', 'c6/img_85762.jpg', 'c6/img_73536.jpg', 'c6/img_35468.jpg', 'c6/img_8947.jpg', 'c6/img_92820.jpg', 'c6/img_95040.jpg', 'c7/img_87980.jpg', 'c7/img_65007.jpg', 'c7/img_3007.jpg', 'c7/img_92433.jpg', 'c7/img_96447.jpg', 'c7/img_48064.jpg', 'c7/img_77968.jpg', 'c7/img_81107.jpg', 'c7/img_29831.jpg', 'c7/img_73740.jpg', 'c7/img_60119.jpg', 'c7/img_11561.jpg', 'c7/img_74834.jpg', 'c7/img_44693.jpg', 'c7/img_41111.jpg', 'c7/img_17358.jpg', 'c7/img_73685.jpg', 'c7/img_47445.jpg', 'c7/img_72650.jpg', 'c7/img_38294.jpg', 'c7/img_947.jpg', 'c7/img_69521.jpg', 'c7/img_52528.jpg', 'c7/img_43019.jpg', 'c7/img_26581.jpg', 'c7/img_82362.jpg', 'c7/img_68024.jpg', 'c7/img_90927.jpg', 'c7/img_61121.jpg', 'c7/img_49849.jpg', 'c7/img_93331.jpg', 'c7/img_66016.jpg', 'c7/img_55128.jpg', 'c7/img_48001.jpg', 'c7/img_15043.jpg', 'c7/img_56204.jpg', 'c7/img_85543.jpg', 'c7/img_60768.jpg', 'c7/img_23950.jpg', 'c7/img_15864.jpg', 'c7/img_59527.jpg', 'c7/img_26505.jpg', 'c7/img_66667.jpg', 'c7/img_53247.jpg', 'c7/img_21748.jpg', 'c7/img_21248.jpg', 'c7/img_30798.jpg', 'c7/img_32736.jpg', 'c7/img_6715.jpg', 'c7/img_2914.jpg', 'c7/img_25990.jpg', 'c7/img_49854.jpg', 'c7/img_7040.jpg', 'c7/img_61150.jpg', 'c7/img_60423.jpg', 'c7/img_78897.jpg', 'c7/img_52505.jpg', 'c7/img_23625.jpg', 'c7/img_77360.jpg', 'c7/img_29555.jpg', 'c7/img_9827.jpg', 'c7/img_55641.jpg', 'c7/img_23441.jpg', 'c7/img_21962.jpg', 'c7/img_72334.jpg', 'c7/img_90678.jpg', 'c7/img_11592.jpg', 'c7/img_28497.jpg', 'c7/img_36431.jpg', 'c7/img_6484.jpg', 'c7/img_61086.jpg', 'c7/img_36985.jpg', 'c7/img_10308.jpg', 'c7/img_33250.jpg', 'c7/img_39834.jpg', 'c7/img_23059.jpg', 'c7/img_5096.jpg', 'c7/img_54076.jpg', 'c7/img_87253.jpg', 'c7/img_87111.jpg', 'c7/img_101197.jpg', 'c7/img_97022.jpg', 'c7/img_78964.jpg', 'c7/img_33058.jpg', 'c7/img_82691.jpg', 'c7/img_6409.jpg', 'c7/img_80460.jpg', 'c8/img_89208.jpg', 'c8/img_48840.jpg', 'c8/img_77403.jpg', 'c8/img_18111.jpg', 'c8/img_59783.jpg', 'c8/img_85511.jpg', 'c8/img_88063.jpg', 'c8/img_77020.jpg', 'c8/img_74071.jpg', 'c8/img_78677.jpg', 'c8/img_27337.jpg', 'c8/img_81180.jpg', 'c8/img_24354.jpg', 'c8/img_56207.jpg', 'c8/img_72701.jpg', 'c8/img_19944.jpg', 'c8/img_8431.jpg', 'c8/img_54199.jpg', 'c8/img_81319.jpg', 'c8/img_89739.jpg', 'c8/img_30792.jpg', 'c8/img_23365.jpg', 'c8/img_64415.jpg', 'c8/img_34176.jpg', 'c8/img_32172.jpg', 'c8/img_74129.jpg', 'c8/img_73393.jpg', 'c8/img_47790.jpg', 'c8/img_89347.jpg', 'c8/img_81654.jpg', 'c8/img_45725.jpg', 'c8/img_30638.jpg', 'c8/img_101470.jpg', 'c8/img_2861.jpg', 'c8/img_9464.jpg', 'c8/img_80074.jpg', 'c8/img_22684.jpg', 'c8/img_85605.jpg', 'c8/img_54471.jpg', 'c8/img_91366.jpg', 'c8/img_9459.jpg', 'c8/img_63759.jpg', 'c8/img_52997.jpg', 'c8/img_57525.jpg', 'c8/img_36658.jpg', 'c8/img_8649.jpg', 'c8/img_39053.jpg', 'c8/img_58392.jpg', 'c8/img_35337.jpg', 'c8/img_47167.jpg', 'c8/img_49335.jpg', 'c8/img_90703.jpg', 'c8/img_25373.jpg', 'c8/img_86829.jpg', 'c8/img_61824.jpg', 'c8/img_36631.jpg', 'c9/img_86602.jpg', 'c9/img_10224.jpg', 'c9/img_3512.jpg', 'c9/img_68143.jpg', 'c9/img_74298.jpg', 'c9/img_67390.jpg', 'c9/img_21500.jpg', 'c9/img_35788.jpg', 'c9/img_51086.jpg', 'c9/img_31786.jpg', 'c9/img_86362.jpg', 'c9/img_51077.jpg', 'c9/img_41050.jpg', 'c9/img_62940.jpg', 'c9/img_47062.jpg', 'c9/img_97177.jpg', 'c9/img_71258.jpg', 'c9/img_25043.jpg', 'c9/img_41804.jpg', 'c9/img_5070.jpg', 'c9/img_39814.jpg', 'c9/img_45141.jpg', 'c9/img_66034.jpg', 'c9/img_87514.jpg', 'c9/img_78318.jpg', 'c9/img_4102.jpg', 'c9/img_47427.jpg', 'c9/img_41950.jpg', 'c9/img_548.jpg', 'c9/img_95469.jpg', 'c9/img_88894.jpg', 'c9/img_18819.jpg', 'c9/img_40174.jpg', 'c9/img_49391.jpg', 'c9/img_71225.jpg', 'c9/img_44345.jpg', 'c9/img_88386.jpg', 'c9/img_12419.jpg', 'c9/img_85851.jpg', 'c9/img_16828.jpg', 'c9/img_64712.jpg', 'c9/img_26134.jpg', 'c9/img_10755.jpg', 'c9/img_33139.jpg', 'c9/img_74922.jpg', 'c9/img_55377.jpg', 'c9/img_46726.jpg', 'c9/img_36468.jpg', 'c9/img_69098.jpg', 'c9/img_63405.jpg', 'c9/img_2588.jpg', 'c9/img_21907.jpg', 'c9/img_30628.jpg', 'c9/img_68901.jpg', 'c9/img_101293.jpg', 'c9/img_45315.jpg', 'c9/img_30328.jpg', 'c9/img_95560.jpg', 'c9/img_1761.jpg', 'c9/img_32318.jpg', 'c9/img_97868.jpg', 'c9/img_98678.jpg', 'c9/img_66761.jpg', 'c9/img_84171.jpg', 'c9/img_14288.jpg', 'c9/img_78967.jpg', 'c9/img_42779.jpg', 'c9/img_29386.jpg', 'c9/img_31868.jpg', 'c9/img_61562.jpg', 'c9/img_91787.jpg', 'c9/img_24413.jpg', 'c9/img_69103.jpg', 'c9/img_76401.jpg', 'c9/img_47109.jpg', 'c9/img_93238.jpg', 'c9/img_59769.jpg', 'c9/img_41168.jpg', 'c9/img_38864.jpg', 'c9/img_49202.jpg', 'c9/img_32538.jpg', 'c0/img_25317.jpg', 'c0/img_18802.jpg', 'c0/img_101159.jpg', 'c0/img_19863.jpg', 'c0/img_34553.jpg', 'c0/img_85138.jpg', 'c0/img_66375.jpg', 'c0/img_63126.jpg', 'c0/img_50896.jpg', 'c0/img_56494.jpg', 'c0/img_83251.jpg', 'c0/img_13938.jpg', 'c0/img_71818.jpg', 'c0/img_33494.jpg', 'c0/img_22974.jpg', 'c0/img_71078.jpg', 'c0/img_56093.jpg', 'c0/img_89586.jpg', 'c0/img_25612.jpg', 'c0/img_21618.jpg', 'c0/img_83187.jpg', 'c0/img_41715.jpg', 'c0/img_91271.jpg', 'c0/img_18959.jpg', 'c0/img_37462.jpg', 'c0/img_6481.jpg', 'c0/img_82321.jpg', 'c0/img_45609.jpg', 'c0/img_6874.jpg', 'c0/img_10167.jpg', 'c0/img_41628.jpg', 'c0/img_98143.jpg', 'c0/img_14410.jpg', 'c0/img_93094.jpg', 'c0/img_57780.jpg', 'c0/img_61366.jpg', 'c0/img_2575.jpg', 'c0/img_22590.jpg', 'c0/img_79142.jpg', 'c0/img_71538.jpg', 'c0/img_47295.jpg', 'c0/img_75944.jpg', 'c0/img_33537.jpg', 'c0/img_55325.jpg', 'c0/img_65602.jpg', 'c0/img_63077.jpg', 'c0/img_97084.jpg', 'c0/img_45994.jpg', 'c0/img_75064.jpg', 'c0/img_4854.jpg', 'c0/img_46234.jpg', 'c0/img_21301.jpg', 'c0/img_81943.jpg', 'c0/img_34146.jpg', 'c0/img_40328.jpg', 'c0/img_49906.jpg', 'c0/img_22712.jpg', 'c0/img_56734.jpg', 'c0/img_12378.jpg', 'c0/img_62698.jpg', 'c0/img_84424.jpg', 'c0/img_82721.jpg', 'c0/img_35845.jpg', 'c0/img_33009.jpg', 'c0/img_95630.jpg', 'c1/img_17218.jpg', 'c1/img_24170.jpg', 'c1/img_64419.jpg', 'c1/img_68267.jpg', 'c1/img_65676.jpg', 'c1/img_29105.jpg', 'c1/img_2928.jpg', 'c1/img_64486.jpg', 'c1/img_92374.jpg', 'c1/img_4434.jpg', 'c1/img_37978.jpg', 'c1/img_2531.jpg', 'c1/img_85958.jpg', 'c1/img_86171.jpg', 'c1/img_10871.jpg', 'c1/img_8305.jpg', 'c1/img_22273.jpg', 'c1/img_79327.jpg', 'c1/img_6482.jpg', 'c1/img_21773.jpg', 'c1/img_63062.jpg', 'c1/img_96129.jpg', 'c1/img_6.jpg', 'c1/img_51578.jpg', 'c1/img_44673.jpg', 'c1/img_29658.jpg', 'c1/img_90272.jpg', 'c1/img_70622.jpg', 'c1/img_58145.jpg', 'c1/img_23911.jpg', 'c1/img_40199.jpg', 'c1/img_32876.jpg', 'c1/img_3196.jpg', 'c1/img_5593.jpg', 'c1/img_761.jpg', 'c1/img_100365.jpg', 'c1/img_67951.jpg', 'c1/img_27535.jpg', 'c1/img_47993.jpg', 'c1/img_65098.jpg', 'c1/img_74900.jpg', 'c1/img_63522.jpg', 'c1/img_69828.jpg', 'c1/img_18323.jpg', 'c1/img_75260.jpg', 'c1/img_6402.jpg', 'c1/img_51416.jpg', 'c1/img_46589.jpg', 'c1/img_85811.jpg', 'c1/img_24690.jpg', 'c1/img_55461.jpg', 'c1/img_14118.jpg', 'c1/img_66072.jpg', 'c1/img_84934.jpg', 'c1/img_15052.jpg', 'c1/img_84731.jpg', 'c1/img_69211.jpg', 'c1/img_64318.jpg', 'c1/img_15557.jpg', 'c1/img_97577.jpg', 'c1/img_97906.jpg', 'c1/img_82120.jpg', 'c1/img_45599.jpg', 'c2/img_35658.jpg', 'c2/img_16255.jpg', 'c2/img_71104.jpg', 'c2/img_68280.jpg', 'c2/img_53252.jpg', 'c2/img_71811.jpg', 'c2/img_63649.jpg', 'c2/img_5984.jpg', 'c2/img_37557.jpg', 'c2/img_73420.jpg', 'c2/img_49364.jpg', 'c2/img_66396.jpg', 'c2/img_42731.jpg', 'c2/img_29483.jpg', 'c2/img_99489.jpg', 'c2/img_53384.jpg', 'c2/img_26379.jpg', 'c2/img_61631.jpg', 'c2/img_65505.jpg', 'c2/img_88896.jpg', 'c2/img_58452.jpg', 'c2/img_89779.jpg', 'c2/img_53014.jpg', 'c2/img_20000.jpg', 'c2/img_34038.jpg', 'c2/img_81603.jpg', 'c2/img_47368.jpg', 'c2/img_86648.jpg', 'c2/img_51750.jpg', 'c2/img_62022.jpg', 'c2/img_41781.jpg', 'c2/img_32542.jpg', 'c2/img_100168.jpg', 'c2/img_44242.jpg', 'c2/img_21772.jpg', 'c2/img_60235.jpg', 'c2/img_70753.jpg', 'c2/img_31714.jpg', 'c2/img_92701.jpg', 'c2/img_7516.jpg', 'c2/img_22473.jpg', 'c2/img_98482.jpg', 'c2/img_98148.jpg', 'c2/img_65312.jpg', 'c2/img_83488.jpg', 'c2/img_75559.jpg', 'c2/img_77948.jpg', 'c2/img_31888.jpg', 'c2/img_39776.jpg', 'c2/img_41704.jpg', 'c2/img_82525.jpg', 'c2/img_46650.jpg', 'c2/img_41592.jpg', 'c2/img_5288.jpg', 'c2/img_16218.jpg', 'c2/img_70729.jpg', 'c2/img_90620.jpg', 'c2/img_46409.jpg', 'c2/img_11257.jpg', 'c2/img_66549.jpg', 'c2/img_19136.jpg', 'c2/img_11018.jpg', 'c2/img_19267.jpg', 'c2/img_35202.jpg', 'c2/img_32614.jpg', 'c2/img_562.jpg', 'c2/img_91875.jpg', 'c2/img_1138.jpg', 'c2/img_37525.jpg', 'c2/img_74288.jpg', 'c3/img_612.jpg', 'c3/img_41432.jpg', 'c3/img_55997.jpg', 'c3/img_14169.jpg', 'c3/img_80688.jpg', 'c3/img_25460.jpg', 'c3/img_25072.jpg', 'c3/img_32553.jpg', 'c3/img_16935.jpg', 'c3/img_25235.jpg', 'c3/img_4578.jpg', 'c3/img_72363.jpg', 'c3/img_60735.jpg', 'c3/img_50814.jpg', 'c3/img_47284.jpg', 'c3/img_5250.jpg', 'c3/img_71150.jpg', 'c3/img_82783.jpg', 'c3/img_39940.jpg', 'c3/img_48397.jpg', 'c3/img_81076.jpg', 'c3/img_84735.jpg', 'c3/img_90442.jpg', 'c3/img_83718.jpg', 'c3/img_101921.jpg', 'c3/img_100545.jpg', 'c3/img_63135.jpg', 'c3/img_96346.jpg', 'c3/img_39268.jpg', 'c3/img_37991.jpg', 'c3/img_14320.jpg', 'c3/img_32391.jpg', 'c3/img_81826.jpg', 'c3/img_68642.jpg', 'c3/img_54285.jpg', 'c3/img_30491.jpg', 'c3/img_41584.jpg', 'c3/img_82333.jpg', 'c3/img_14671.jpg', 'c3/img_15263.jpg', 'c3/img_65237.jpg', 'c3/img_41648.jpg', 'c3/img_26231.jpg', 'c3/img_35808.jpg', 'c3/img_18969.jpg', 'c3/img_38735.jpg', 'c3/img_68699.jpg', 'c3/img_39110.jpg', 'c3/img_93663.jpg', 'c3/img_40799.jpg', 'c3/img_18931.jpg', 'c3/img_57996.jpg', 'c3/img_23042.jpg', 'c3/img_26392.jpg', 'c3/img_77309.jpg', 'c3/img_46497.jpg', 'c3/img_96465.jpg', 'c3/img_53788.jpg', 'c3/img_91804.jpg', 'c3/img_92483.jpg', 'c3/img_12848.jpg', 'c3/img_89562.jpg', 'c3/img_50393.jpg', 'c3/img_3825.jpg', 'c3/img_58834.jpg', 'c4/img_57908.jpg', 'c4/img_6725.jpg', 'c4/img_20497.jpg', 'c4/img_32925.jpg', 'c4/img_28891.jpg', 'c4/img_34127.jpg', 'c4/img_64192.jpg', 'c4/img_89406.jpg', 'c4/img_42523.jpg', 'c4/img_73878.jpg', 'c4/img_94226.jpg', 'c4/img_36224.jpg', 'c4/img_11937.jpg', 'c4/img_12716.jpg', 'c4/img_77266.jpg', 'c4/img_68873.jpg', 'c4/img_70471.jpg', 'c4/img_30929.jpg', 'c4/img_19008.jpg', 'c4/img_50408.jpg', 'c4/img_93005.jpg', 'c4/img_60935.jpg', 'c4/img_88197.jpg', 'c4/img_84680.jpg', 'c4/img_90284.jpg', 'c4/img_50781.jpg', 'c4/img_74732.jpg', 'c4/img_62804.jpg', 'c4/img_96347.jpg', 'c4/img_78405.jpg', 'c4/img_60376.jpg', 'c4/img_83269.jpg', 'c4/img_72907.jpg', 'c4/img_51660.jpg', 'c4/img_33451.jpg', 'c4/img_69790.jpg', 'c4/img_3417.jpg', 'c4/img_85546.jpg', 'c4/img_14873.jpg', 'c4/img_41044.jpg', 'c4/img_97695.jpg', 'c4/img_49490.jpg', 'c4/img_39059.jpg', 'c4/img_56244.jpg', 'c4/img_16385.jpg', 'c4/img_6785.jpg', 'c4/img_52529.jpg', 'c4/img_95437.jpg', 'c4/img_28828.jpg', 'c4/img_28935.jpg', 'c4/img_64320.jpg', 'c4/img_93285.jpg', 'c4/img_58895.jpg', 'c4/img_6211.jpg', 'c4/img_87829.jpg', 'c4/img_90158.jpg', 'c4/img_56830.jpg', 'c4/img_29070.jpg', 'c4/img_10844.jpg', 'c4/img_34757.jpg', 'c4/img_59016.jpg', 'c4/img_55176.jpg', 'c5/img_34182.jpg', 'c5/img_33007.jpg', 'c5/img_4371.jpg', 'c5/img_22514.jpg', 'c5/img_14460.jpg', 'c5/img_56937.jpg', 'c5/img_29136.jpg', 'c5/img_80618.jpg', 'c5/img_58506.jpg', 'c5/img_97526.jpg', 'c5/img_38080.jpg', 'c5/img_70478.jpg', 'c5/img_85346.jpg', 'c5/img_85672.jpg', 'c5/img_71463.jpg', 'c5/img_33189.jpg', 'c5/img_72414.jpg', 'c5/img_7440.jpg', 'c5/img_90142.jpg', 'c5/img_72355.jpg', 'c5/img_20662.jpg', 'c5/img_39373.jpg', 'c5/img_11197.jpg', 'c5/img_100913.jpg', 'c5/img_56674.jpg', 'c5/img_48631.jpg', 'c5/img_52617.jpg', 'c5/img_44549.jpg', 'c5/img_64625.jpg', 'c5/img_35194.jpg', 'c5/img_60404.jpg', 'c5/img_46735.jpg', 'c5/img_69551.jpg', 'c5/img_10620.jpg', 'c5/img_17571.jpg', 'c5/img_86233.jpg', 'c5/img_33567.jpg', 'c5/img_20583.jpg', 'c5/img_26061.jpg', 'c5/img_46525.jpg', 'c5/img_42939.jpg', 'c5/img_34479.jpg', 'c5/img_22639.jpg', 'c5/img_4369.jpg', 'c5/img_51117.jpg', 'c5/img_4959.jpg', 'c5/img_43895.jpg', 'c5/img_48698.jpg', 'c5/img_24022.jpg', 'c5/img_94304.jpg', 'c5/img_23680.jpg', 'c5/img_1016.jpg', 'c5/img_3400.jpg', 'c5/img_24315.jpg', 'c5/img_77139.jpg', 'c5/img_12293.jpg', 'c5/img_61515.jpg', 'c5/img_26226.jpg', 'c5/img_2398.jpg', 'c5/img_18424.jpg', 'c5/img_41824.jpg', 'c5/img_34306.jpg', 'c5/img_87183.jpg', 'c5/img_29409.jpg', 'c6/img_75070.jpg', 'c6/img_35633.jpg', 'c6/img_68703.jpg', 'c6/img_3813.jpg', 'c6/img_86383.jpg', 'c6/img_67586.jpg', 'c6/img_8737.jpg', 'c6/img_24368.jpg', 'c6/img_39154.jpg', 'c6/img_66199.jpg', 'c6/img_99682.jpg', 'c6/img_4198.jpg', 'c6/img_20035.jpg', 'c6/img_61663.jpg', 'c6/img_17990.jpg', 'c6/img_77547.jpg', 'c6/img_72.jpg', 'c6/img_8412.jpg', 'c6/img_92225.jpg', 'c6/img_43834.jpg', 'c6/img_27077.jpg', 'c6/img_81129.jpg', 'c6/img_555.jpg', 'c6/img_76008.jpg', 'c6/img_4033.jpg', 'c6/img_63599.jpg', 'c6/img_47226.jpg', 'c6/img_55050.jpg', 'c6/img_44537.jpg', 'c6/img_40050.jpg', 'c6/img_3758.jpg', 'c6/img_29261.jpg', 'c6/img_58845.jpg', 'c6/img_1875.jpg', 'c6/img_84546.jpg', 'c6/img_4158.jpg', 'c6/img_101575.jpg', 'c6/img_33786.jpg', 'c6/img_66740.jpg', 'c6/img_100232.jpg', 'c6/img_81286.jpg', 'c6/img_94836.jpg', 'c6/img_88359.jpg', 'c6/img_8482.jpg', 'c6/img_91793.jpg', 'c6/img_72872.jpg', 'c6/img_75778.jpg', 'c6/img_53621.jpg', 'c6/img_96430.jpg', 'c6/img_60080.jpg', 'c6/img_5849.jpg', 'c6/img_23459.jpg', 'c6/img_52788.jpg', 'c6/img_85169.jpg', 'c6/img_10473.jpg', 'c6/img_94730.jpg', 'c6/img_37042.jpg', 'c6/img_99964.jpg', 'c6/img_37392.jpg', 'c6/img_62842.jpg', 'c6/img_91042.jpg', 'c6/img_90117.jpg', 'c6/img_42010.jpg', 'c7/img_59449.jpg', 'c7/img_11416.jpg', 'c7/img_85321.jpg', 'c7/img_87797.jpg', 'c7/img_20544.jpg', 'c7/img_84984.jpg', 'c7/img_78058.jpg', 'c7/img_27259.jpg', 'c7/img_47191.jpg', 'c7/img_11237.jpg', 'c7/img_18697.jpg', 'c7/img_5627.jpg', 'c7/img_41498.jpg', 'c7/img_37335.jpg', 'c7/img_8771.jpg', 'c7/img_32983.jpg', 'c7/img_43516.jpg', 'c7/img_3906.jpg', 'c7/img_9082.jpg', 'c7/img_21452.jpg', 'c7/img_26767.jpg', 'c7/img_82756.jpg', 'c7/img_23309.jpg', 'c7/img_52060.jpg', 'c7/img_79771.jpg', 'c7/img_41206.jpg', 'c7/img_95354.jpg', 'c7/img_74454.jpg', 'c7/img_55264.jpg', 'c7/img_27608.jpg', 'c7/img_79406.jpg', 'c7/img_92692.jpg', 'c7/img_34589.jpg', 'c7/img_88806.jpg', 'c7/img_48451.jpg', 'c7/img_73056.jpg', 'c7/img_77499.jpg', 'c7/img_12283.jpg', 'c7/img_84624.jpg', 'c7/img_51811.jpg', 'c7/img_94054.jpg', 'c7/img_4511.jpg', 'c7/img_59170.jpg', 'c7/img_41961.jpg', 'c7/img_30445.jpg', 'c7/img_55214.jpg', 'c7/img_1974.jpg', 'c7/img_73360.jpg', 'c7/img_33777.jpg', 'c7/img_45560.jpg', 'c7/img_4505.jpg', 'c7/img_7566.jpg', 'c7/img_1498.jpg', 'c7/img_95855.jpg', 'c7/img_31676.jpg', 'c7/img_76565.jpg', 'c7/img_63035.jpg', 'c7/img_37956.jpg', 'c7/img_13022.jpg', 'c7/img_85880.jpg', 'c7/img_43482.jpg', 'c7/img_76133.jpg', 'c7/img_56581.jpg', 'c7/img_76458.jpg', 'c8/img_77167.jpg', 'c8/img_34184.jpg', 'c8/img_56698.jpg', 'c8/img_78034.jpg', 'c8/img_12294.jpg', 'c8/img_68389.jpg', 'c8/img_11769.jpg', 'c8/img_26130.jpg', 'c8/img_64028.jpg', 'c8/img_94081.jpg', 'c8/img_34783.jpg', 'c8/img_91141.jpg', 'c8/img_44369.jpg', 'c8/img_70997.jpg', 'c8/img_37254.jpg', 'c8/img_4664.jpg', 'c8/img_3395.jpg', 'c8/img_41149.jpg', 'c8/img_71059.jpg', 'c8/img_69590.jpg', 'c8/img_5978.jpg', 'c8/img_49593.jpg', 'c8/img_23932.jpg', 'c8/img_50660.jpg', 'c8/img_48387.jpg', 'c8/img_94544.jpg', 'c8/img_20788.jpg', 'c8/img_45844.jpg', 'c8/img_10199.jpg', 'c8/img_21087.jpg', 'c8/img_1554.jpg', 'c8/img_33258.jpg', 'c8/img_99432.jpg', 'c8/img_22129.jpg', 'c8/img_99945.jpg', 'c8/img_15878.jpg', 'c8/img_4365.jpg', 'c8/img_18583.jpg', 'c8/img_19769.jpg', 'c8/img_37289.jpg', 'c8/img_27307.jpg', 'c8/img_98077.jpg', 'c8/img_98838.jpg', 'c8/img_62011.jpg', 'c8/img_34361.jpg', 'c8/img_94386.jpg', 'c8/img_16138.jpg', 'c8/img_59810.jpg', 'c8/img_24927.jpg', 'c8/img_2116.jpg', 'c8/img_38121.jpg', 'c8/img_23655.jpg', 'c8/img_30935.jpg', 'c8/img_65754.jpg', 'c8/img_80864.jpg', 'c8/img_48403.jpg', 'c8/img_4809.jpg', 'c8/img_41917.jpg', 'c8/img_63317.jpg', 'c8/img_67095.jpg', 'c8/img_85440.jpg', 'c8/img_19651.jpg', 'c8/img_81963.jpg', 'c8/img_78438.jpg', 'c8/img_20537.jpg', 'c8/img_7203.jpg', 'c8/img_23591.jpg', 'c8/img_28909.jpg', 'c8/img_11896.jpg', 'c8/img_37528.jpg', 'c9/img_99601.jpg', 'c9/img_60822.jpg', 'c9/img_35846.jpg', 'c9/img_91182.jpg', 'c9/img_91129.jpg', 'c9/img_24474.jpg', 'c9/img_90680.jpg', 'c9/img_66616.jpg', 'c9/img_67845.jpg', 'c9/img_35155.jpg', 'c9/img_48828.jpg', 'c9/img_67813.jpg', 'c9/img_92250.jpg', 'c9/img_69710.jpg', 'c9/img_42325.jpg', 'c9/img_77209.jpg', 'c9/img_88790.jpg', 'c9/img_74805.jpg', 'c9/img_100912.jpg', 'c9/img_92790.jpg', 'c9/img_3965.jpg', 'c9/img_1671.jpg', 'c9/img_95839.jpg', 'c9/img_96613.jpg', 'c9/img_65181.jpg', 'c9/img_56058.jpg', 'c9/img_14991.jpg', 'c9/img_46008.jpg', 'c9/img_84188.jpg', 'c9/img_25818.jpg', 'c9/img_33896.jpg', 'c9/img_63029.jpg', 'c9/img_88012.jpg', 'c9/img_30421.jpg', 'c9/img_10090.jpg', 'c9/img_7254.jpg', 'c9/img_90127.jpg', 'c9/img_47885.jpg', 'c9/img_39114.jpg', 'c9/img_79463.jpg', 'c9/img_84648.jpg', 'c9/img_69477.jpg', 'c9/img_9057.jpg', 'c9/img_92079.jpg', 'c9/img_73981.jpg', 'c9/img_79.jpg', 'c9/img_12001.jpg', 'c9/img_17948.jpg', 'c9/img_64433.jpg', 'c9/img_21310.jpg', 'c9/img_78561.jpg', 'c9/img_96297.jpg', 'c9/img_63234.jpg', 'c9/img_88494.jpg', 'c9/img_52781.jpg', 'c9/img_50806.jpg', 'c9/img_36746.jpg', 'c9/img_27287.jpg', 'c9/img_83460.jpg', 'c9/img_31081.jpg', 'c9/img_8749.jpg', 'c9/img_25712.jpg', 'c9/img_56116.jpg', 'c9/img_88183.jpg', 'c9/img_73663.jpg', 'c0/img_32662.jpg', 'c0/img_88177.jpg', 'c0/img_27382.jpg', 'c0/img_80986.jpg', 'c0/img_3902.jpg', 'c0/img_96741.jpg', 'c0/img_38025.jpg', 'c0/img_43274.jpg', 'c0/img_63097.jpg', 'c0/img_59342.jpg', 'c0/img_38305.jpg', 'c0/img_25578.jpg', 'c0/img_47778.jpg', 'c0/img_48499.jpg', 'c0/img_76171.jpg', 'c0/img_13950.jpg', 'c0/img_99194.jpg', 'c0/img_64151.jpg', 'c0/img_45486.jpg', 'c0/img_58598.jpg', 'c0/img_3873.jpg', 'c0/img_67757.jpg', 'c0/img_47044.jpg', 'c0/img_18121.jpg', 'c0/img_15470.jpg', 'c0/img_65561.jpg', 'c0/img_17591.jpg', 'c0/img_63882.jpg', 'c0/img_89613.jpg', 'c0/img_78874.jpg', 'c0/img_44227.jpg', 'c0/img_65827.jpg', 'c0/img_39565.jpg', 'c0/img_59943.jpg', 'c0/img_41417.jpg', 'c0/img_20790.jpg', 'c0/img_5785.jpg', 'c0/img_70820.jpg', 'c0/img_20638.jpg', 'c0/img_56773.jpg', 'c0/img_78742.jpg', 'c0/img_16980.jpg', 'c0/img_79806.jpg', 'c0/img_80269.jpg', 'c0/img_80773.jpg', 'c0/img_28167.jpg', 'c0/img_25865.jpg', 'c0/img_78165.jpg', 'c0/img_66605.jpg', 'c0/img_36593.jpg', 'c0/img_46746.jpg', 'c0/img_7604.jpg', 'c0/img_42637.jpg', 'c0/img_65313.jpg', 'c0/img_9907.jpg', 'c0/img_82800.jpg', 'c0/img_54851.jpg', 'c0/img_80676.jpg', 'c0/img_78233.jpg', 'c0/img_84279.jpg', 'c0/img_63398.jpg', 'c0/img_84072.jpg', 'c0/img_27041.jpg', 'c0/img_70727.jpg', 'c0/img_79760.jpg', 'c0/img_26185.jpg', 'c0/img_75497.jpg', 'c0/img_37953.jpg', 'c0/img_21744.jpg', 'c0/img_37413.jpg', 'c0/img_97780.jpg', 'c0/img_13852.jpg', 'c0/img_37644.jpg', 'c0/img_73376.jpg', 'c0/img_75704.jpg', 'c0/img_63833.jpg', 'c0/img_36260.jpg', 'c0/img_83829.jpg', 'c0/img_80365.jpg', 'c0/img_35549.jpg', 'c0/img_66900.jpg', 'c1/img_62771.jpg', 'c1/img_52434.jpg', 'c1/img_98059.jpg', 'c1/img_86816.jpg', 'c1/img_18808.jpg', 'c1/img_10425.jpg', 'c1/img_4765.jpg', 'c1/img_53023.jpg', 'c1/img_88982.jpg', 'c1/img_96369.jpg', 'c1/img_71665.jpg', 'c1/img_75438.jpg', 'c1/img_40654.jpg', 'c1/img_43522.jpg', 'c1/img_47138.jpg', 'c1/img_29257.jpg', 'c1/img_16677.jpg', 'c1/img_81254.jpg', 'c1/img_101520.jpg', 'c1/img_43562.jpg', 'c1/img_35110.jpg', 'c1/img_98787.jpg', 'c1/img_64319.jpg', 'c1/img_12297.jpg', 'c1/img_7680.jpg', 'c1/img_51649.jpg', 'c1/img_3205.jpg', 'c1/img_39511.jpg', 'c1/img_33156.jpg', 'c1/img_59688.jpg', 'c1/img_59890.jpg', 'c1/img_79028.jpg', 'c1/img_55071.jpg', 'c1/img_41731.jpg', 'c1/img_84832.jpg', 'c1/img_69762.jpg', 'c1/img_54166.jpg', 'c1/img_16267.jpg', 'c1/img_2618.jpg', 'c1/img_98924.jpg', 'c1/img_30452.jpg', 'c1/img_26011.jpg', 'c1/img_94284.jpg', 'c1/img_70214.jpg', 'c1/img_95967.jpg', 'c1/img_71200.jpg', 'c1/img_75181.jpg', 'c1/img_61777.jpg', 'c1/img_84470.jpg', 'c1/img_86068.jpg', 'c1/img_75212.jpg', 'c1/img_47196.jpg', 'c1/img_40616.jpg', 'c1/img_13428.jpg', 'c1/img_74985.jpg', 'c1/img_52608.jpg', 'c1/img_89880.jpg', 'c1/img_11316.jpg', 'c1/img_37597.jpg', 'c1/img_96908.jpg', 'c1/img_8776.jpg', 'c1/img_15644.jpg', 'c1/img_39643.jpg', 'c1/img_19736.jpg', 'c1/img_69250.jpg', 'c1/img_11249.jpg', 'c1/img_8043.jpg', 'c1/img_93236.jpg', 'c1/img_37430.jpg', 'c1/img_54072.jpg', 'c1/img_75822.jpg', 'c1/img_27560.jpg', 'c1/img_49556.jpg', 'c1/img_79713.jpg', 'c1/img_16317.jpg', 'c1/img_100126.jpg', 'c1/img_5067.jpg', 'c1/img_17819.jpg', 'c1/img_84136.jpg', 'c1/img_31296.jpg', 'c2/img_101123.jpg', 'c2/img_57028.jpg', 'c2/img_87149.jpg', 'c2/img_34538.jpg', 'c2/img_73730.jpg', 'c2/img_27071.jpg', 'c2/img_28012.jpg', 'c2/img_56368.jpg', 'c2/img_53367.jpg', 'c2/img_93839.jpg', 'c2/img_20857.jpg', 'c2/img_30291.jpg', 'c2/img_96924.jpg', 'c2/img_29301.jpg', 'c2/img_25722.jpg', 'c2/img_15269.jpg', 'c2/img_91529.jpg', 'c2/img_31930.jpg', 'c2/img_34321.jpg', 'c2/img_92802.jpg', 'c2/img_58158.jpg', 'c2/img_50145.jpg', 'c2/img_86850.jpg', 'c2/img_32535.jpg', 'c2/img_36811.jpg', 'c2/img_24559.jpg', 'c2/img_39895.jpg', 'c2/img_36745.jpg', 'c2/img_1713.jpg', 'c2/img_97326.jpg', 'c2/img_42448.jpg', 'c2/img_88342.jpg', 'c2/img_47288.jpg', 'c2/img_40981.jpg', 'c2/img_13889.jpg', 'c2/img_86796.jpg', 'c2/img_64533.jpg', 'c2/img_3960.jpg', 'c2/img_42822.jpg', 'c2/img_25270.jpg', 'c2/img_21958.jpg', 'c2/img_45931.jpg', 'c2/img_19581.jpg', 'c2/img_75501.jpg', 'c2/img_80335.jpg', 'c2/img_42454.jpg', 'c2/img_30122.jpg', 'c2/img_31855.jpg', 'c2/img_3541.jpg', 'c2/img_13108.jpg', 'c2/img_34625.jpg', 'c2/img_15300.jpg', 'c2/img_90751.jpg', 'c2/img_6782.jpg', 'c2/img_99686.jpg', 'c2/img_93486.jpg', 'c2/img_86510.jpg', 'c2/img_67496.jpg', 'c2/img_70227.jpg', 'c2/img_77181.jpg', 'c2/img_37194.jpg', 'c2/img_25681.jpg', 'c2/img_51809.jpg', 'c2/img_49634.jpg', 'c2/img_9978.jpg', 'c2/img_78352.jpg', 'c2/img_4100.jpg', 'c2/img_52239.jpg', 'c2/img_86771.jpg', 'c2/img_88457.jpg', 'c2/img_97629.jpg', 'c2/img_46700.jpg', 'c2/img_36606.jpg', 'c2/img_4565.jpg', 'c2/img_30480.jpg', 'c2/img_79658.jpg', 'c2/img_499.jpg', 'c2/img_38000.jpg', 'c2/img_50558.jpg', 'c2/img_30524.jpg', 'c3/img_87304.jpg', 'c3/img_49283.jpg', 'c3/img_1900.jpg', 'c3/img_19908.jpg', 'c3/img_95358.jpg', 'c3/img_36640.jpg', 'c3/img_52357.jpg', 'c3/img_71325.jpg', 'c3/img_65727.jpg', 'c3/img_27571.jpg', 'c3/img_91724.jpg', 'c3/img_70695.jpg', 'c3/img_97271.jpg', 'c3/img_57773.jpg', 'c3/img_20113.jpg', 'c3/img_95248.jpg', 'c3/img_73171.jpg', 'c3/img_53216.jpg', 'c3/img_76438.jpg', 'c3/img_15737.jpg', 'c3/img_101741.jpg', 'c3/img_29491.jpg', 'c3/img_58687.jpg', 'c3/img_13555.jpg', 'c3/img_100139.jpg', 'c3/img_7093.jpg', 'c3/img_40875.jpg', 'c3/img_72416.jpg', 'c3/img_14421.jpg', 'c3/img_60352.jpg', 'c3/img_80739.jpg', 'c3/img_34233.jpg', 'c3/img_61332.jpg', 'c3/img_34672.jpg', 'c3/img_101216.jpg', 'c3/img_68595.jpg', 'c3/img_5289.jpg', 'c3/img_85189.jpg', 'c3/img_75233.jpg', 'c3/img_13910.jpg', 'c3/img_97284.jpg', 'c3/img_88056.jpg', 'c3/img_10254.jpg', 'c3/img_65005.jpg', 'c3/img_36971.jpg', 'c3/img_48657.jpg', 'c3/img_49942.jpg', 'c3/img_23206.jpg', 'c3/img_78856.jpg', 'c3/img_51894.jpg', 'c3/img_19813.jpg', 'c3/img_47198.jpg', 'c3/img_87014.jpg', 'c3/img_4727.jpg', 'c3/img_75917.jpg', 'c3/img_37874.jpg', 'c3/img_59789.jpg', 'c3/img_8084.jpg', 'c3/img_7600.jpg', 'c3/img_92990.jpg', 'c3/img_84629.jpg', 'c3/img_101341.jpg', 'c3/img_9266.jpg', 'c3/img_85928.jpg', 'c3/img_423.jpg', 'c3/img_86863.jpg', 'c3/img_6132.jpg', 'c3/img_9604.jpg', 'c3/img_18194.jpg', 'c3/img_30431.jpg', 'c3/img_35905.jpg', 'c3/img_54817.jpg', 'c3/img_21286.jpg', 'c3/img_14822.jpg', 'c3/img_69197.jpg', 'c3/img_74749.jpg', 'c3/img_65086.jpg', 'c3/img_55424.jpg', 'c4/img_51590.jpg', 'c4/img_88159.jpg', 'c4/img_73459.jpg', 'c4/img_32885.jpg', 'c4/img_83403.jpg', 'c4/img_85780.jpg', 'c4/img_29299.jpg', 'c4/img_14287.jpg', 'c4/img_82202.jpg', 'c4/img_50221.jpg', 'c4/img_38196.jpg', 'c4/img_20679.jpg', 'c4/img_89747.jpg', 'c4/img_76259.jpg', 'c4/img_64336.jpg', 'c4/img_63303.jpg', 'c4/img_56922.jpg', 'c4/img_42321.jpg', 'c4/img_31612.jpg', 'c4/img_28570.jpg', 'c4/img_61376.jpg', 'c4/img_38413.jpg', 'c4/img_14057.jpg', 'c4/img_80115.jpg', 'c4/img_30266.jpg', 'c4/img_59012.jpg', 'c4/img_27861.jpg', 'c4/img_79953.jpg', 'c4/img_72465.jpg', 'c4/img_40106.jpg', 'c4/img_12891.jpg', 'c4/img_73410.jpg', 'c4/img_74515.jpg', 'c4/img_58735.jpg', 'c4/img_37476.jpg', 'c4/img_33510.jpg', 'c4/img_66287.jpg', 'c4/img_30305.jpg', 'c4/img_67961.jpg', 'c4/img_32254.jpg', 'c4/img_36978.jpg', 'c4/img_7004.jpg', 'c4/img_38155.jpg', 'c4/img_56024.jpg', 'c4/img_29514.jpg', 'c4/img_31675.jpg', 'c4/img_1408.jpg', 'c4/img_34792.jpg', 'c4/img_79567.jpg', 'c4/img_77933.jpg', 'c4/img_16093.jpg', 'c4/img_28041.jpg', 'c4/img_75108.jpg', 'c4/img_4154.jpg', 'c4/img_23482.jpg', 'c4/img_75896.jpg', 'c4/img_89789.jpg', 'c4/img_12160.jpg', 'c4/img_9832.jpg', 'c4/img_37714.jpg', 'c4/img_93846.jpg', 'c4/img_75239.jpg', 'c4/img_40589.jpg', 'c4/img_5539.jpg', 'c4/img_78018.jpg', 'c4/img_89227.jpg', 'c4/img_82318.jpg', 'c4/img_19783.jpg', 'c4/img_49689.jpg', 'c4/img_57654.jpg', 'c4/img_54091.jpg', 'c4/img_48663.jpg', 'c4/img_16554.jpg', 'c4/img_89899.jpg', 'c4/img_51792.jpg', 'c4/img_49513.jpg', 'c4/img_33539.jpg', 'c4/img_39916.jpg', 'c4/img_73989.jpg', 'c4/img_84210.jpg', 'c4/img_27857.jpg', 'c4/img_102060.jpg', 'c5/img_94594.jpg', 'c5/img_46091.jpg', 'c5/img_23201.jpg', 'c5/img_17839.jpg', 'c5/img_83064.jpg', 'c5/img_53117.jpg', 'c5/img_86151.jpg', 'c5/img_1797.jpg', 'c5/img_27635.jpg', 'c5/img_14060.jpg', 'c5/img_27143.jpg', 'c5/img_17975.jpg', 'c5/img_100797.jpg', 'c5/img_6644.jpg', 'c5/img_8011.jpg', 'c5/img_81599.jpg', 'c5/img_79967.jpg', 'c5/img_63733.jpg', 'c5/img_34810.jpg', 'c5/img_89466.jpg', 'c5/img_5316.jpg', 'c5/img_61293.jpg', 'c5/img_7779.jpg', 'c5/img_98457.jpg', 'c5/img_6675.jpg', 'c5/img_56428.jpg', 'c5/img_67107.jpg', 'c5/img_84878.jpg', 'c5/img_58442.jpg', 'c5/img_67676.jpg', 'c5/img_19279.jpg', 'c5/img_40117.jpg', 'c5/img_66438.jpg', 'c5/img_8780.jpg', 'c5/img_11360.jpg', 'c5/img_27727.jpg', 'c5/img_17356.jpg', 'c5/img_73044.jpg', 'c5/img_54283.jpg', 'c5/img_49504.jpg', 'c5/img_8521.jpg', 'c5/img_8838.jpg', 'c5/img_6861.jpg', 'c5/img_92002.jpg', 'c5/img_100469.jpg', 'c5/img_49927.jpg', 'c5/img_50614.jpg', 'c5/img_58496.jpg', 'c5/img_11309.jpg', 'c5/img_65673.jpg', 'c5/img_38089.jpg', 'c5/img_46152.jpg', 'c5/img_13214.jpg', 'c5/img_78284.jpg', 'c5/img_63265.jpg', 'c5/img_66622.jpg', 'c5/img_53814.jpg', 'c5/img_79090.jpg', 'c5/img_55811.jpg', 'c5/img_71899.jpg', 'c5/img_73158.jpg', 'c5/img_100636.jpg', 'c5/img_32163.jpg', 'c5/img_66432.jpg', 'c5/img_69409.jpg', 'c5/img_48723.jpg', 'c5/img_25777.jpg', 'c5/img_20454.jpg', 'c5/img_27118.jpg', 'c5/img_24968.jpg', 'c5/img_73199.jpg', 'c5/img_9563.jpg', 'c5/img_60193.jpg', 'c5/img_44863.jpg', 'c5/img_44161.jpg', 'c5/img_29022.jpg', 'c5/img_34464.jpg', 'c5/img_97799.jpg', 'c5/img_5836.jpg', 'c5/img_78695.jpg', 'c5/img_92024.jpg', 'c6/img_101144.jpg', 'c6/img_14189.jpg', 'c6/img_100811.jpg', 'c6/img_678.jpg', 'c6/img_77818.jpg', 'c6/img_78891.jpg', 'c6/img_67073.jpg', 'c6/img_91719.jpg', 'c6/img_51962.jpg', 'c6/img_23460.jpg', 'c6/img_93836.jpg', 'c6/img_590.jpg', 'c6/img_63338.jpg', 'c6/img_95092.jpg', 'c6/img_46007.jpg', 'c6/img_43086.jpg', 'c6/img_88432.jpg', 'c6/img_74455.jpg', 'c6/img_80076.jpg', 'c6/img_76768.jpg', 'c6/img_88695.jpg', 'c6/img_13092.jpg', 'c6/img_14351.jpg', 'c6/img_19238.jpg', 'c6/img_24951.jpg', 'c6/img_35075.jpg', 'c6/img_50085.jpg', 'c6/img_64446.jpg', 'c6/img_101187.jpg', 'c6/img_19986.jpg', 'c6/img_44705.jpg', 'c6/img_43493.jpg', 'c6/img_79544.jpg', 'c6/img_52892.jpg', 'c6/img_68604.jpg', 'c6/img_97160.jpg', 'c6/img_56735.jpg', 'c6/img_13481.jpg', 'c6/img_44187.jpg', 'c6/img_4846.jpg', 'c6/img_92957.jpg', 'c6/img_82521.jpg', 'c6/img_83526.jpg', 'c6/img_71713.jpg', 'c6/img_82465.jpg', 'c6/img_24338.jpg', 'c6/img_100565.jpg', 'c6/img_69879.jpg', 'c6/img_23145.jpg', 'c6/img_16719.jpg', 'c6/img_68382.jpg', 'c6/img_33859.jpg', 'c6/img_78788.jpg', 'c6/img_68712.jpg', 'c6/img_26104.jpg', 'c6/img_63239.jpg', 'c6/img_62050.jpg', 'c6/img_42542.jpg', 'c6/img_93480.jpg', 'c6/img_45898.jpg', 'c6/img_94378.jpg', 'c6/img_97428.jpg', 'c6/img_28842.jpg', 'c6/img_38200.jpg', 'c6/img_16683.jpg', 'c6/img_84037.jpg', 'c6/img_25461.jpg', 'c6/img_50130.jpg', 'c6/img_5881.jpg', 'c6/img_65282.jpg', 'c6/img_50744.jpg', 'c6/img_37276.jpg', 'c6/img_73826.jpg', 'c6/img_8637.jpg', 'c6/img_11132.jpg', 'c6/img_11685.jpg', 'c6/img_72202.jpg', 'c6/img_56557.jpg', 'c6/img_19198.jpg', 'c6/img_9316.jpg', 'c7/img_3382.jpg', 'c7/img_421.jpg', 'c7/img_70037.jpg', 'c7/img_87728.jpg', 'c7/img_53284.jpg', 'c7/img_11192.jpg', 'c7/img_6939.jpg', 'c7/img_39761.jpg', 'c7/img_39832.jpg', 'c7/img_15974.jpg', 'c7/img_60070.jpg', 'c7/img_99683.jpg', 'c7/img_96341.jpg', 'c7/img_30378.jpg', 'c7/img_74667.jpg', 'c7/img_14430.jpg', 'c7/img_26294.jpg', 'c7/img_24260.jpg', 'c7/img_71360.jpg', 'c7/img_23676.jpg', 'c7/img_23020.jpg', 'c7/img_97818.jpg', 'c7/img_19203.jpg', 'c7/img_90609.jpg', 'c7/img_82172.jpg', 'c7/img_64401.jpg', 'c7/img_10733.jpg', 'c7/img_101378.jpg', 'c7/img_99784.jpg', 'c7/img_56205.jpg', 'c7/img_23970.jpg', 'c7/img_74416.jpg', 'c7/img_79488.jpg', 'c7/img_21066.jpg', 'c7/img_81075.jpg', 'c7/img_33320.jpg', 'c7/img_16947.jpg', 'c7/img_84469.jpg', 'c7/img_45351.jpg', 'c7/img_31727.jpg', 'c7/img_47102.jpg', 'c7/img_44850.jpg', 'c7/img_8851.jpg', 'c7/img_68990.jpg', 'c7/img_91235.jpg', 'c7/img_91746.jpg', 'c7/img_5241.jpg', 'c7/img_28757.jpg', 'c7/img_76522.jpg', 'c7/img_10039.jpg', 'c7/img_84715.jpg', 'c7/img_68405.jpg', 'c7/img_46492.jpg', 'c7/img_41313.jpg', 'c7/img_22134.jpg', 'c7/img_39285.jpg', 'c7/img_54226.jpg', 'c7/img_47130.jpg', 'c7/img_101504.jpg', 'c7/img_27619.jpg', 'c7/img_24520.jpg', 'c7/img_51728.jpg', 'c7/img_29164.jpg', 'c7/img_85843.jpg', 'c7/img_40687.jpg', 'c7/img_5175.jpg', 'c7/img_72620.jpg', 'c7/img_64571.jpg', 'c7/img_22678.jpg', 'c7/img_36704.jpg', 'c7/img_38616.jpg', 'c7/img_96584.jpg', 'c7/img_43712.jpg', 'c7/img_52127.jpg', 'c8/img_12025.jpg', 'c8/img_61353.jpg', 'c8/img_93848.jpg', 'c8/img_98846.jpg', 'c8/img_78799.jpg', 'c8/img_72287.jpg', 'c8/img_20728.jpg', 'c8/img_36411.jpg', 'c8/img_70488.jpg', 'c8/img_100976.jpg', 'c8/img_48710.jpg', 'c8/img_97488.jpg', 'c8/img_9471.jpg', 'c8/img_69954.jpg', 'c8/img_51986.jpg', 'c8/img_67941.jpg', 'c8/img_70228.jpg', 'c8/img_39803.jpg', 'c8/img_86037.jpg', 'c8/img_26400.jpg', 'c8/img_10580.jpg', 'c8/img_47652.jpg', 'c8/img_84959.jpg', 'c8/img_99796.jpg', 'c8/img_37864.jpg', 'c8/img_97733.jpg', 'c8/img_98501.jpg', 'c8/img_32145.jpg', 'c8/img_91810.jpg', 'c8/img_62578.jpg', 'c8/img_44407.jpg', 'c8/img_82366.jpg', 'c8/img_30318.jpg', 'c8/img_17534.jpg', 'c8/img_100688.jpg', 'c8/img_96565.jpg', 'c8/img_83735.jpg', 'c8/img_46359.jpg', 'c8/img_27131.jpg', 'c8/img_80930.jpg', 'c8/img_75937.jpg', 'c8/img_87932.jpg', 'c8/img_92151.jpg', 'c8/img_101814.jpg', 'c8/img_28077.jpg', 'c8/img_65519.jpg', 'c8/img_71055.jpg', 'c8/img_25530.jpg', 'c8/img_58907.jpg', 'c8/img_71630.jpg', 'c8/img_31519.jpg', 'c8/img_35144.jpg', 'c8/img_10658.jpg', 'c8/img_93006.jpg', 'c8/img_18454.jpg', 'c8/img_29836.jpg', 'c8/img_5160.jpg', 'c8/img_4384.jpg', 'c8/img_68726.jpg', 'c8/img_47390.jpg', 'c8/img_68682.jpg', 'c8/img_85744.jpg', 'c8/img_35083.jpg', 'c8/img_76882.jpg', 'c8/img_64159.jpg', 'c8/img_17006.jpg', 'c8/img_85467.jpg', 'c8/img_24816.jpg', 'c8/img_1973.jpg', 'c8/img_88877.jpg', 'c8/img_58793.jpg', 'c8/img_49179.jpg', 'c8/img_16028.jpg', 'c8/img_47709.jpg', 'c8/img_64987.jpg', 'c8/img_75427.jpg', 'c8/img_11990.jpg', 'c8/img_98292.jpg', 'c8/img_41153.jpg', 'c8/img_9282.jpg', 'c8/img_58983.jpg', 'c8/img_1540.jpg', 'c8/img_6996.jpg', 'c9/img_39184.jpg', 'c9/img_26105.jpg', 'c9/img_81693.jpg', 'c9/img_90247.jpg', 'c9/img_1254.jpg', 'c9/img_69765.jpg', 'c9/img_86909.jpg', 'c9/img_8572.jpg', 'c9/img_89225.jpg', 'c9/img_5624.jpg', 'c9/img_21829.jpg', 'c9/img_55014.jpg', 'c9/img_20408.jpg', 'c9/img_66278.jpg', 'c9/img_52861.jpg', 'c9/img_62845.jpg', 'c9/img_17339.jpg', 'c9/img_4275.jpg', 'c9/img_42227.jpg', 'c9/img_97943.jpg', 'c9/img_38290.jpg', 'c9/img_62015.jpg', 'c9/img_38232.jpg', 'c9/img_28181.jpg', 'c9/img_13396.jpg', 'c9/img_17355.jpg', 'c9/img_84693.jpg', 'c9/img_86000.jpg', 'c9/img_34653.jpg', 'c9/img_22453.jpg', 'c9/img_85260.jpg', 'c9/img_73705.jpg', 'c9/img_53683.jpg', 'c9/img_82377.jpg', 'c9/img_10102.jpg', 'c9/img_32125.jpg', 'c9/img_90785.jpg', 'c9/img_45885.jpg', 'c9/img_35073.jpg', 'c9/img_12780.jpg', 'c9/img_8885.jpg', 'c9/img_88789.jpg', 'c9/img_44117.jpg', 'c9/img_37417.jpg', 'c9/img_13253.jpg', 'c9/img_35890.jpg', 'c9/img_81338.jpg', 'c9/img_58132.jpg', 'c9/img_9098.jpg', 'c9/img_4530.jpg', 'c9/img_28054.jpg', 'c9/img_92567.jpg', 'c9/img_8197.jpg', 'c9/img_91207.jpg', 'c9/img_59576.jpg', 'c9/img_10841.jpg', 'c9/img_55000.jpg', 'c9/img_79074.jpg', 'c9/img_27342.jpg', 'c9/img_25178.jpg', 'c9/img_33534.jpg', 'c9/img_44926.jpg', 'c9/img_67477.jpg', 'c9/img_70817.jpg', 'c9/img_62511.jpg', 'c9/img_95508.jpg', 'c9/img_41942.jpg', 'c9/img_99505.jpg', 'c9/img_4884.jpg', 'c9/img_28690.jpg', 'c9/img_2091.jpg', 'c9/img_85422.jpg', 'c9/img_97981.jpg', 'c9/img_76406.jpg', 'c9/img_70647.jpg', 'c0/img_73734.jpg', 'c0/img_91414.jpg', 'c0/img_60226.jpg', 'c0/img_71483.jpg', 'c0/img_35809.jpg', 'c0/img_90273.jpg', 'c0/img_68246.jpg', 'c0/img_68266.jpg', 'c0/img_23142.jpg', 'c0/img_29357.jpg', 'c0/img_88930.jpg', 'c0/img_86913.jpg', 'c0/img_87060.jpg', 'c0/img_10514.jpg', 'c0/img_45571.jpg', 'c0/img_28578.jpg', 'c0/img_87245.jpg', 'c0/img_81035.jpg', 'c0/img_54712.jpg', 'c0/img_63318.jpg', 'c0/img_74632.jpg', 'c0/img_13907.jpg', 'c0/img_38288.jpg', 'c0/img_59868.jpg', 'c0/img_61865.jpg', 'c0/img_71240.jpg', 'c0/img_32990.jpg', 'c0/img_84376.jpg', 'c0/img_82453.jpg', 'c0/img_58013.jpg', 'c0/img_10141.jpg', 'c0/img_59709.jpg', 'c0/img_75764.jpg', 'c0/img_2076.jpg', 'c0/img_9648.jpg', 'c0/img_16714.jpg', 'c0/img_40733.jpg', 'c0/img_47558.jpg', 'c0/img_41894.jpg', 'c0/img_22143.jpg', 'c0/img_53356.jpg', 'c0/img_9520.jpg', 'c0/img_54086.jpg', 'c0/img_34092.jpg', 'c0/img_47385.jpg', 'c0/img_27728.jpg', 'c0/img_31076.jpg', 'c0/img_99342.jpg', 'c0/img_23298.jpg', 'c0/img_90865.jpg', 'c0/img_51985.jpg', 'c0/img_91777.jpg', 'c0/img_139.jpg', 'c0/img_4335.jpg', 'c0/img_39787.jpg', 'c0/img_92814.jpg', 'c0/img_81340.jpg', 'c0/img_82267.jpg', 'c0/img_97265.jpg', 'c0/img_82353.jpg', 'c0/img_56251.jpg', 'c0/img_62383.jpg', 'c0/img_36854.jpg', 'c0/img_73825.jpg', 'c0/img_3349.jpg', 'c0/img_8222.jpg', 'c0/img_71478.jpg', 'c0/img_70795.jpg', 'c0/img_57739.jpg', 'c0/img_32714.jpg', 'c0/img_68629.jpg', 'c0/img_47447.jpg', 'c0/img_21699.jpg', 'c0/img_37676.jpg', 'c0/img_50942.jpg', 'c0/img_7549.jpg', 'c0/img_49150.jpg', 'c0/img_35189.jpg', 'c0/img_94437.jpg', 'c0/img_84899.jpg', 'c0/img_55683.jpg', 'c0/img_5963.jpg', 'c0/img_6002.jpg', 'c0/img_27760.jpg', 'c0/img_58551.jpg', 'c0/img_73392.jpg', 'c0/img_49161.jpg', 'c0/img_53288.jpg', 'c0/img_55583.jpg', 'c0/img_41089.jpg', 'c0/img_95596.jpg', 'c0/img_101668.jpg', 'c0/img_14552.jpg', 'c0/img_94842.jpg', 'c0/img_29918.jpg', 'c0/img_83134.jpg', 'c0/img_88085.jpg', 'c0/img_96916.jpg', 'c0/img_90159.jpg', 'c0/img_80531.jpg', 'c1/img_79419.jpg', 'c1/img_42979.jpg', 'c1/img_42624.jpg', 'c1/img_8465.jpg', 'c1/img_26592.jpg', 'c1/img_49070.jpg', 'c1/img_46867.jpg', 'c1/img_77489.jpg', 'c1/img_27204.jpg', 'c1/img_69061.jpg', 'c1/img_92935.jpg', 'c1/img_98085.jpg', 'c1/img_7301.jpg', 'c1/img_44314.jpg', 'c1/img_3879.jpg', 'c1/img_55482.jpg', 'c1/img_81494.jpg', 'c1/img_5796.jpg', 'c1/img_87887.jpg', 'c1/img_81045.jpg', 'c1/img_70907.jpg', 'c1/img_57621.jpg', 'c1/img_36088.jpg', 'c1/img_53777.jpg', 'c1/img_74517.jpg', 'c1/img_55432.jpg', 'c1/img_62069.jpg', 'c1/img_17871.jpg', 'c1/img_7380.jpg', 'c1/img_49094.jpg', 'c1/img_87799.jpg', 'c1/img_74326.jpg', 'c1/img_99479.jpg', 'c1/img_86967.jpg', 'c1/img_35964.jpg', 'c1/img_73034.jpg', 'c1/img_33173.jpg', 'c1/img_95090.jpg', 'c1/img_6347.jpg', 'c1/img_74573.jpg', 'c1/img_95820.jpg', 'c1/img_68893.jpg', 'c1/img_29400.jpg', 'c1/img_67327.jpg', 'c1/img_72447.jpg', 'c1/img_26914.jpg', 'c1/img_86992.jpg', 'c1/img_95566.jpg', 'c1/img_61485.jpg', 'c1/img_21385.jpg', 'c1/img_74308.jpg', 'c1/img_41665.jpg', 'c1/img_56869.jpg', 'c1/img_66053.jpg', 'c1/img_73485.jpg', 'c1/img_87958.jpg', 'c1/img_42169.jpg', 'c1/img_14428.jpg', 'c1/img_2298.jpg', 'c1/img_56524.jpg', 'c1/img_2217.jpg', 'c1/img_7368.jpg', 'c1/img_91135.jpg', 'c1/img_38696.jpg', 'c1/img_41412.jpg', 'c1/img_26944.jpg', 'c1/img_2975.jpg', 'c1/img_7227.jpg', 'c1/img_7317.jpg', 'c1/img_32209.jpg', 'c1/img_9061.jpg', 'c1/img_80211.jpg', 'c1/img_24255.jpg', 'c1/img_5242.jpg', 'c1/img_63233.jpg', 'c1/img_86495.jpg', 'c1/img_85165.jpg', 'c1/img_6300.jpg', 'c1/img_53728.jpg', 'c1/img_49027.jpg', 'c1/img_63037.jpg', 'c1/img_19099.jpg', 'c1/img_37460.jpg', 'c1/img_93879.jpg', 'c1/img_6212.jpg', 'c1/img_68842.jpg', 'c1/img_66222.jpg', 'c1/img_79000.jpg', 'c1/img_21305.jpg', 'c1/img_35302.jpg', 'c2/img_24508.jpg', 'c2/img_47662.jpg', 'c2/img_24023.jpg', 'c2/img_84503.jpg', 'c2/img_71726.jpg', 'c2/img_56804.jpg', 'c2/img_63662.jpg', 'c2/img_32687.jpg', 'c2/img_49445.jpg', 'c2/img_2967.jpg', 'c2/img_41728.jpg', 'c2/img_15756.jpg', 'c2/img_55338.jpg', 'c2/img_51781.jpg', 'c2/img_97226.jpg', 'c2/img_31406.jpg', 'c2/img_55152.jpg', 'c2/img_16853.jpg', 'c2/img_93382.jpg', 'c2/img_67369.jpg', 'c2/img_15659.jpg', 'c2/img_46160.jpg', 'c2/img_15219.jpg', 'c2/img_82776.jpg', 'c2/img_90732.jpg', 'c2/img_48977.jpg', 'c2/img_4721.jpg', 'c2/img_15520.jpg', 'c2/img_34451.jpg', 'c2/img_57036.jpg', 'c2/img_100458.jpg', 'c2/img_51235.jpg', 'c2/img_78315.jpg', 'c2/img_16831.jpg', 'c2/img_90344.jpg', 'c2/img_13188.jpg', 'c2/img_85296.jpg', 'c2/img_11744.jpg', 'c2/img_16231.jpg', 'c2/img_83976.jpg', 'c2/img_94192.jpg', 'c2/img_20114.jpg', 'c2/img_93725.jpg', 'c2/img_97064.jpg', 'c2/img_35305.jpg', 'c2/img_66384.jpg', 'c2/img_6346.jpg', 'c2/img_16635.jpg', 'c2/img_51247.jpg', 'c2/img_20214.jpg', 'c2/img_20223.jpg', 'c2/img_61122.jpg', 'c2/img_32165.jpg', 'c2/img_34920.jpg', 'c2/img_23794.jpg', 'c2/img_44274.jpg', 'c2/img_27484.jpg', 'c2/img_87286.jpg', 'c2/img_89455.jpg', 'c2/img_43132.jpg', 'c2/img_29170.jpg', 'c2/img_79318.jpg', 'c2/img_96719.jpg', 'c2/img_77950.jpg', 'c2/img_96245.jpg', 'c2/img_5362.jpg', 'c2/img_26768.jpg', 'c2/img_100738.jpg', 'c2/img_94933.jpg', 'c2/img_5465.jpg', 'c2/img_31569.jpg', 'c2/img_46217.jpg', 'c2/img_13221.jpg', 'c2/img_38037.jpg', 'c2/img_86211.jpg', 'c2/img_87387.jpg', 'c2/img_30690.jpg', 'c2/img_71589.jpg', 'c2/img_68333.jpg', 'c2/img_100108.jpg', 'c2/img_61253.jpg', 'c2/img_9779.jpg', 'c2/img_95501.jpg', 'c2/img_10607.jpg', 'c2/img_52577.jpg', 'c2/img_74571.jpg', 'c2/img_75158.jpg', 'c2/img_37438.jpg', 'c2/img_62656.jpg', 'c2/img_69088.jpg', 'c2/img_93872.jpg', 'c2/img_90583.jpg', 'c2/img_15905.jpg', 'c2/img_81361.jpg', 'c2/img_38337.jpg', 'c2/img_82253.jpg', 'c3/img_89165.jpg', 'c3/img_2114.jpg', 'c3/img_13326.jpg', 'c3/img_33011.jpg', 'c3/img_64792.jpg', 'c3/img_50977.jpg', 'c3/img_27867.jpg', 'c3/img_84460.jpg', 'c3/img_17998.jpg', 'c3/img_93704.jpg', 'c3/img_19220.jpg', 'c3/img_82742.jpg', 'c3/img_40557.jpg', 'c3/img_33972.jpg', 'c3/img_62800.jpg', 'c3/img_50125.jpg', 'c3/img_28942.jpg', 'c3/img_4863.jpg', 'c3/img_73586.jpg', 'c3/img_63976.jpg', 'c3/img_84256.jpg', 'c3/img_12185.jpg', 'c3/img_98784.jpg', 'c3/img_69971.jpg', 'c3/img_54898.jpg', 'c3/img_44716.jpg', 'c3/img_29284.jpg', 'c3/img_75477.jpg', 'c3/img_84810.jpg', 'c3/img_4640.jpg', 'c3/img_87470.jpg', 'c3/img_35269.jpg', 'c3/img_43348.jpg', 'c3/img_98876.jpg', 'c3/img_65100.jpg', 'c3/img_45785.jpg', 'c3/img_89257.jpg', 'c3/img_9682.jpg', 'c3/img_83354.jpg', 'c3/img_51491.jpg', 'c3/img_90603.jpg', 'c3/img_36761.jpg', 'c3/img_12537.jpg', 'c3/img_42039.jpg', 'c3/img_26519.jpg', 'c3/img_44440.jpg', 'c3/img_63572.jpg', 'c3/img_90911.jpg', 'c3/img_83425.jpg', 'c3/img_25363.jpg', 'c3/img_13389.jpg', 'c3/img_93142.jpg', 'c3/img_35732.jpg', 'c3/img_73295.jpg', 'c3/img_6811.jpg', 'c3/img_41984.jpg', 'c3/img_44260.jpg', 'c3/img_33228.jpg', 'c3/img_91761.jpg', 'c3/img_58543.jpg', 'c3/img_54238.jpg', 'c3/img_96628.jpg', 'c3/img_86250.jpg', 'c3/img_84290.jpg', 'c3/img_51623.jpg', 'c3/img_88690.jpg', 'c3/img_25815.jpg', 'c3/img_43859.jpg', 'c3/img_58816.jpg', 'c3/img_40931.jpg', 'c3/img_17682.jpg', 'c3/img_88859.jpg', 'c3/img_67193.jpg', 'c3/img_11144.jpg', 'c3/img_59908.jpg', 'c3/img_58961.jpg', 'c3/img_72310.jpg', 'c3/img_68390.jpg', 'c3/img_37063.jpg', 'c3/img_69083.jpg', 'c3/img_88875.jpg', 'c3/img_4401.jpg', 'c4/img_6648.jpg', 'c4/img_14792.jpg', 'c4/img_48252.jpg', 'c4/img_58467.jpg', 'c4/img_47321.jpg', 'c4/img_9572.jpg', 'c4/img_77586.jpg', 'c4/img_18155.jpg', 'c4/img_21800.jpg', 'c4/img_89213.jpg', 'c4/img_13973.jpg', 'c4/img_2499.jpg', 'c4/img_87520.jpg', 'c4/img_47177.jpg', 'c4/img_32186.jpg', 'c4/img_452.jpg', 'c4/img_74289.jpg', 'c4/img_99821.jpg', 'c4/img_39670.jpg', 'c4/img_78271.jpg', 'c4/img_45833.jpg', 'c4/img_58743.jpg', 'c4/img_76277.jpg', 'c4/img_79820.jpg', 'c4/img_29971.jpg', 'c4/img_34946.jpg', 'c4/img_88761.jpg', 'c4/img_13613.jpg', 'c4/img_52391.jpg', 'c4/img_16270.jpg', 'c4/img_50793.jpg', 'c4/img_63401.jpg', 'c4/img_21764.jpg', 'c4/img_101029.jpg', 'c4/img_60290.jpg', 'c4/img_51903.jpg', 'c4/img_35072.jpg', 'c4/img_78827.jpg', 'c4/img_4440.jpg', 'c4/img_36078.jpg', 'c4/img_70033.jpg', 'c4/img_52951.jpg', 'c4/img_13422.jpg', 'c4/img_86549.jpg', 'c4/img_95985.jpg', 'c4/img_92625.jpg', 'c4/img_37538.jpg', 'c4/img_53259.jpg', 'c4/img_89746.jpg', 'c4/img_92385.jpg', 'c4/img_68224.jpg', 'c4/img_42125.jpg', 'c4/img_775.jpg', 'c4/img_9448.jpg', 'c4/img_2910.jpg', 'c4/img_11052.jpg', 'c4/img_38490.jpg', 'c4/img_72432.jpg', 'c4/img_49658.jpg', 'c4/img_22314.jpg', 'c4/img_61941.jpg', 'c4/img_11976.jpg', 'c4/img_36844.jpg', 'c4/img_92488.jpg', 'c4/img_54158.jpg', 'c4/img_22886.jpg', 'c4/img_23812.jpg', 'c4/img_90874.jpg', 'c4/img_68118.jpg', 'c4/img_63638.jpg', 'c4/img_24247.jpg', 'c4/img_29229.jpg', 'c4/img_67543.jpg', 'c4/img_37053.jpg', 'c4/img_31474.jpg', 'c4/img_3345.jpg', 'c4/img_33888.jpg', 'c5/img_75175.jpg', 'c5/img_2645.jpg', 'c5/img_70328.jpg', 'c5/img_50186.jpg', 'c5/img_54207.jpg', 'c5/img_70946.jpg', 'c5/img_76359.jpg', 'c5/img_78744.jpg', 'c5/img_97725.jpg', 'c5/img_88956.jpg', 'c5/img_12644.jpg', 'c5/img_56202.jpg', 'c5/img_85173.jpg', 'c5/img_69602.jpg', 'c5/img_33804.jpg', 'c5/img_87588.jpg', 'c5/img_63190.jpg', 'c5/img_96233.jpg', 'c5/img_38976.jpg', 'c5/img_18114.jpg', 'c5/img_83648.jpg', 'c5/img_71388.jpg', 'c5/img_86184.jpg', 'c5/img_71103.jpg', 'c5/img_77159.jpg', 'c5/img_46440.jpg', 'c5/img_19563.jpg', 'c5/img_36886.jpg', 'c5/img_72777.jpg', 'c5/img_44429.jpg', 'c5/img_45097.jpg', 'c5/img_19873.jpg', 'c5/img_15566.jpg', 'c5/img_44634.jpg', 'c5/img_28146.jpg', 'c5/img_93036.jpg', 'c5/img_82115.jpg', 'c5/img_18866.jpg', 'c5/img_33184.jpg', 'c5/img_96678.jpg', 'c5/img_84162.jpg', 'c5/img_82704.jpg', 'c5/img_68590.jpg', 'c5/img_95740.jpg', 'c5/img_49803.jpg', 'c5/img_69726.jpg', 'c5/img_44540.jpg', 'c5/img_1605.jpg', 'c5/img_74424.jpg', 'c5/img_67163.jpg', 'c5/img_80300.jpg', 'c5/img_32012.jpg', 'c5/img_34549.jpg', 'c5/img_58311.jpg', 'c5/img_56467.jpg', 'c5/img_20012.jpg', 'c5/img_58123.jpg', 'c5/img_64242.jpg', 'c5/img_52574.jpg', 'c5/img_30493.jpg', 'c5/img_53853.jpg', 'c5/img_43997.jpg', 'c5/img_23085.jpg', 'c5/img_28524.jpg', 'c5/img_66884.jpg', 'c5/img_71906.jpg', 'c5/img_59390.jpg', 'c5/img_38316.jpg', 'c5/img_56602.jpg', 'c5/img_58135.jpg', 'c5/img_16245.jpg', 'c5/img_64726.jpg', 'c5/img_93740.jpg', 'c5/img_2772.jpg', 'c5/img_52751.jpg', 'c5/img_96629.jpg', 'c5/img_53824.jpg', 'c5/img_12289.jpg', 'c5/img_28576.jpg', 'c5/img_69565.jpg', 'c5/img_8576.jpg', 'c6/img_58448.jpg', 'c6/img_88603.jpg', 'c6/img_102138.jpg', 'c6/img_92108.jpg', 'c6/img_48587.jpg', 'c6/img_36906.jpg', 'c6/img_63863.jpg', 'c6/img_92704.jpg', 'c6/img_95605.jpg', 'c6/img_15201.jpg', 'c6/img_7910.jpg', 'c6/img_7101.jpg', 'c6/img_64794.jpg', 'c6/img_20687.jpg', 'c6/img_34180.jpg', 'c6/img_93138.jpg', 'c6/img_93544.jpg', 'c6/img_30310.jpg', 'c6/img_47259.jpg', 'c6/img_39796.jpg', 'c6/img_32973.jpg', 'c6/img_3488.jpg', 'c6/img_43511.jpg', 'c6/img_55578.jpg', 'c6/img_14167.jpg', 'c6/img_44028.jpg', 'c6/img_6784.jpg', 'c6/img_2539.jpg', 'c6/img_92329.jpg', 'c6/img_29776.jpg', 'c6/img_32524.jpg', 'c6/img_77409.jpg', 'c6/img_4004.jpg', 'c6/img_57002.jpg', 'c6/img_25851.jpg', 'c6/img_77443.jpg', 'c6/img_49636.jpg', 'c6/img_52150.jpg', 'c6/img_16886.jpg', 'c6/img_90006.jpg', 'c6/img_14851.jpg', 'c6/img_22023.jpg', 'c6/img_12978.jpg', 'c6/img_80635.jpg', 'c6/img_85765.jpg', 'c6/img_38974.jpg', 'c6/img_84165.jpg', 'c6/img_64875.jpg', 'c6/img_64751.jpg', 'c6/img_5749.jpg', 'c6/img_2998.jpg', 'c6/img_9675.jpg', 'c6/img_26293.jpg', 'c6/img_3263.jpg', 'c6/img_1399.jpg', 'c6/img_44157.jpg', 'c6/img_71504.jpg', 'c6/img_24905.jpg', 'c6/img_91606.jpg', 'c6/img_101776.jpg', 'c6/img_29342.jpg', 'c6/img_64917.jpg', 'c6/img_73578.jpg', 'c6/img_62671.jpg', 'c6/img_4239.jpg', 'c6/img_77184.jpg', 'c6/img_15215.jpg', 'c6/img_99891.jpg', 'c6/img_23112.jpg', 'c6/img_1907.jpg', 'c6/img_94319.jpg', 'c6/img_99261.jpg', 'c6/img_101195.jpg', 'c6/img_31303.jpg', 'c6/img_41856.jpg', 'c6/img_28639.jpg', 'c6/img_90556.jpg', 'c6/img_44758.jpg', 'c6/img_24306.jpg', 'c7/img_4921.jpg', 'c7/img_93865.jpg', 'c7/img_6679.jpg', 'c7/img_75294.jpg', 'c7/img_30892.jpg', 'c7/img_72819.jpg', 'c7/img_36303.jpg', 'c7/img_79763.jpg', 'c7/img_18056.jpg', 'c7/img_1752.jpg', 'c7/img_74902.jpg', 'c7/img_96227.jpg', 'c7/img_9253.jpg', 'c7/img_35626.jpg', 'c7/img_12163.jpg', 'c7/img_10922.jpg', 'c7/img_59880.jpg', 'c7/img_36834.jpg', 'c7/img_86251.jpg', 'c7/img_17132.jpg', 'c7/img_21178.jpg', 'c7/img_59499.jpg', 'c7/img_80006.jpg', 'c7/img_29911.jpg', 'c7/img_60469.jpg', 'c7/img_40633.jpg', 'c7/img_17239.jpg', 'c7/img_79322.jpg', 'c7/img_49369.jpg', 'c7/img_63506.jpg', 'c7/img_76278.jpg', 'c7/img_85586.jpg', 'c7/img_87929.jpg', 'c7/img_35261.jpg', 'c7/img_38970.jpg', 'c7/img_71032.jpg', 'c7/img_133.jpg', 'c7/img_42024.jpg', 'c7/img_79027.jpg', 'c7/img_100201.jpg', 'c7/img_41406.jpg', 'c7/img_63015.jpg', 'c7/img_21784.jpg', 'c7/img_77735.jpg', 'c7/img_1104.jpg', 'c7/img_1881.jpg', 'c7/img_50420.jpg', 'c7/img_17002.jpg', 'c7/img_56717.jpg', 'c7/img_9144.jpg', 'c7/img_89886.jpg', 'c7/img_30031.jpg', 'c7/img_91566.jpg', 'c7/img_18765.jpg', 'c7/img_55938.jpg', 'c7/img_14783.jpg', 'c7/img_27707.jpg', 'c7/img_86005.jpg', 'c7/img_80085.jpg', 'c7/img_23543.jpg', 'c7/img_19281.jpg', 'c7/img_56274.jpg', 'c7/img_94182.jpg', 'c7/img_53036.jpg', 'c7/img_68974.jpg', 'c7/img_61378.jpg', 'c7/img_61313.jpg', 'c7/img_6552.jpg', 'c7/img_652.jpg', 'c7/img_23155.jpg', 'c7/img_29368.jpg', 'c7/img_92816.jpg', 'c7/img_33152.jpg', 'c7/img_71990.jpg', 'c7/img_99844.jpg', 'c7/img_5208.jpg', 'c7/img_19521.jpg', 'c8/img_80919.jpg', 'c8/img_99869.jpg', 'c8/img_85127.jpg', 'c8/img_90621.jpg', 'c8/img_84602.jpg', 'c8/img_91620.jpg', 'c8/img_50570.jpg', 'c8/img_71404.jpg', 'c8/img_7590.jpg', 'c8/img_25482.jpg', 'c8/img_77599.jpg', 'c8/img_18910.jpg', 'c8/img_67820.jpg', 'c8/img_94975.jpg', 'c8/img_74065.jpg', 'c8/img_76573.jpg', 'c8/img_54829.jpg', 'c8/img_85299.jpg', 'c8/img_88803.jpg', 'c8/img_31617.jpg', 'c8/img_60585.jpg', 'c8/img_42736.jpg', 'c8/img_77515.jpg', 'c8/img_60927.jpg', 'c8/img_69578.jpg', 'c8/img_40778.jpg', 'c8/img_20676.jpg', 'c8/img_48712.jpg', 'c8/img_44870.jpg', 'c8/img_59474.jpg', 'c8/img_24378.jpg', 'c8/img_46117.jpg', 'c8/img_94297.jpg', 'c8/img_65016.jpg', 'c8/img_53920.jpg', 'c8/img_82784.jpg', 'c8/img_63438.jpg', 'c8/img_82658.jpg', 'c8/img_29988.jpg', 'c8/img_40554.jpg', 'c8/img_2409.jpg', 'c8/img_62176.jpg', 'c8/img_21258.jpg', 'c8/img_57030.jpg', 'c8/img_94215.jpg', 'c8/img_95038.jpg', 'c8/img_62110.jpg', 'c8/img_7935.jpg', 'c8/img_50198.jpg', 'c8/img_75269.jpg', 'c8/img_94715.jpg', 'c8/img_102095.jpg', 'c8/img_22171.jpg', 'c8/img_77484.jpg', 'c8/img_25470.jpg', 'c8/img_89556.jpg', 'c8/img_90109.jpg', 'c8/img_89462.jpg', 'c8/img_35212.jpg', 'c8/img_1282.jpg', 'c8/img_46040.jpg', 'c9/img_34622.jpg', 'c9/img_87534.jpg', 'c9/img_11328.jpg', 'c9/img_56568.jpg', 'c9/img_20278.jpg', 'c9/img_65915.jpg', 'c9/img_12633.jpg', 'c9/img_100299.jpg', 'c9/img_65923.jpg', 'c9/img_78966.jpg', 'c9/img_4541.jpg', 'c9/img_66747.jpg', 'c9/img_32081.jpg', 'c9/img_39577.jpg', 'c9/img_54961.jpg', 'c9/img_78032.jpg', 'c9/img_30190.jpg', 'c9/img_64666.jpg', 'c9/img_78858.jpg', 'c9/img_74819.jpg', 'c9/img_95966.jpg', 'c9/img_64417.jpg', 'c9/img_38701.jpg', 'c9/img_52686.jpg', 'c9/img_18191.jpg', 'c9/img_76926.jpg', 'c9/img_39821.jpg', 'c9/img_20023.jpg', 'c9/img_57777.jpg', 'c9/img_24715.jpg', 'c9/img_61578.jpg', 'c9/img_67072.jpg', 'c9/img_34925.jpg', 'c9/img_24621.jpg', 'c9/img_63984.jpg', 'c9/img_31681.jpg', 'c9/img_13664.jpg', 'c9/img_51187.jpg', 'c9/img_63373.jpg', 'c9/img_51765.jpg', 'c9/img_67155.jpg', 'c9/img_10550.jpg', 'c9/img_14162.jpg', 'c9/img_3717.jpg', 'c9/img_21654.jpg', 'c9/img_80529.jpg', 'c9/img_77127.jpg', 'c9/img_55043.jpg', 'c9/img_45245.jpg', 'c9/img_12338.jpg', 'c9/img_77168.jpg', 'c9/img_13314.jpg', 'c9/img_65995.jpg', 'c9/img_32115.jpg', 'c9/img_20671.jpg', 'c9/img_13398.jpg', 'c9/img_39400.jpg', 'c9/img_22164.jpg', 'c9/img_16586.jpg', 'c9/img_22871.jpg', 'c9/img_18412.jpg', 'c9/img_8283.jpg', 'c9/img_16606.jpg', 'c9/img_83838.jpg', 'c9/img_17513.jpg', 'c9/img_96574.jpg', 'c9/img_49316.jpg', 'c9/img_30765.jpg', 'c9/img_50.jpg', 'c9/img_24944.jpg', 'c9/img_4162.jpg', 'c9/img_23818.jpg', 'c9/img_82653.jpg', 'c9/img_36140.jpg', 'c9/img_70718.jpg', 'c9/img_56936.jpg', 'c9/img_46218.jpg', 'c9/img_25946.jpg', 'c9/img_67850.jpg', 'c9/img_9684.jpg']\n"
     ]
    }
   ],
   "source": [
    "columns = [\"subject\", \"classname\", \"img\"]\n",
    "same_guys_valid_imgs = []\n",
    "\n",
    "with open (driver_list, \"r\") as f:\n",
    "    csv_dict = csv.DictReader(f, fieldnames=columns)\n",
    "    \n",
    "    # skip header\n",
    "    csv_dict.next()\n",
    "    \n",
    "    # if id matches, add the img\n",
    "    for row in csv_dict:\n",
    "        new_driver_id = row[\"subject\"]\n",
    "        \n",
    "        if new_driver_id in valid_ids:\n",
    "            same_guys_valid_imgs.append(row[\"classname\"] + \"/\" + row[\"img\"])\n",
    "\n",
    "print(len(same_guys_valid_imgs))\n",
    "print(same_guys_valid_imgs)"
   ]
  },
  {
   "cell_type": "code",
   "execution_count": 53,
   "metadata": {
    "collapsed": true
   },
   "outputs": [],
   "source": [
    "# actually MOVE the imgs\n",
    "for img in same_guys_valid_imgs:\n",
    "    os.rename(path_to_data + \"/train/\" + img, path_to_data + \"/valid/\" + img)"
   ]
  },
  {
   "cell_type": "markdown",
   "metadata": {},
   "source": [
    "## Now actual machine learning :)"
   ]
  },
  {
   "cell_type": "code",
   "execution_count": 3,
   "metadata": {
    "collapsed": false
   },
   "outputs": [
    {
     "name": "stderr",
     "output_type": "stream",
     "text": [
      "Using gpu device 0: Tesla K80 (CNMeM is disabled, cuDNN 5103)\n",
      "/home/ubuntu/anaconda2/lib/python2.7/site-packages/theano/sandbox/cuda/__init__.py:600: UserWarning: Your cuDNN version is more recent than the one Theano officially supports. If you see any problems, try updating Theano or downgrading cuDNN to version 5.\n",
      "  warnings.warn(warn)\n",
      "WARNING (theano.sandbox.cuda): Ignoring call to use(1), GPU number 0 is already in use.\n"
     ]
    }
   ],
   "source": [
    "from theano.sandbox import cuda\n",
    "cuda.use('gpu1')"
   ]
  },
  {
   "cell_type": "code",
   "execution_count": 4,
   "metadata": {
    "collapsed": false
   },
   "outputs": [
    {
     "name": "stderr",
     "output_type": "stream",
     "text": [
      "Using Theano backend.\n"
     ]
    }
   ],
   "source": [
    "%matplotlib inline\n",
    "from __future__ import print_function, division\n",
    "#path = \"data/state/\"\n",
    "path = \"data/state/sample/\"\n",
    "import utils; reload(utils)\n",
    "from utils import *\n",
    "from IPython.display import FileLink"
   ]
  },
  {
   "cell_type": "code",
   "execution_count": 5,
   "metadata": {
    "collapsed": true
   },
   "outputs": [],
   "source": [
    "s_batch_size = 64"
   ]
  },
  {
   "cell_type": "code",
   "execution_count": 6,
   "metadata": {
    "collapsed": false
   },
   "outputs": [
    {
     "name": "stdout",
     "output_type": "stream",
     "text": [
      "Found 250 images belonging to 10 classes.\n",
      "Found 725 images belonging to 10 classes.\n"
     ]
    }
   ],
   "source": [
    "s_t_batches = get_batches(path_to_sample + \"/train/\", batch_size=s_batch_size)\n",
    "s_v_batches = get_batches(path_to_sample + \"/valid/\", batch_size=s_batch_size)"
   ]
  },
  {
   "cell_type": "code",
   "execution_count": 7,
   "metadata": {
    "collapsed": false
   },
   "outputs": [
    {
     "name": "stdout",
     "output_type": "stream",
     "text": [
      "Found 250 images belonging to 10 classes.\n",
      "Found 725 images belonging to 10 classes.\n",
      "Found 0 images belonging to 1 classes.\n"
     ]
    }
   ],
   "source": [
    "(s_v_classes, s_t_classes, s_v_labels, s_t_labels, s_v_filenames, s_t_filenames,\n",
    "    s_test_filename) = get_classes(path_to_sample + \"/\")"
   ]
  },
  {
   "cell_type": "code",
   "execution_count": 68,
   "metadata": {
    "collapsed": false
   },
   "outputs": [
    {
     "name": "stdout",
     "output_type": "stream",
     "text": [
      "[]\n",
      "0\n"
     ]
    }
   ],
   "source": [
    "print(s_test_filename)\n",
    "print(len(s_test_filename))"
   ]
  },
  {
   "cell_type": "markdown",
   "metadata": {},
   "source": [
    "## Basic models\n",
    "Let's try the linear model first, to obtain a benchmark.\n",
    "\n",
    "### Linear model\n",
    "We create a single dense (fully connected) layer and add batchnorm to it, so that we don't have to worry about normalizing the input"
   ]
  },
  {
   "cell_type": "code",
   "execution_count": 69,
   "metadata": {
    "collapsed": true
   },
   "outputs": [],
   "source": [
    "lm = Sequential([\n",
    "        BatchNormalization(axis=1, input_shape=(3, 224, 224)),\n",
    "        Flatten(),\n",
    "        Dense(10, activation=\"softmax\")\n",
    "    ])"
   ]
  },
  {
   "cell_type": "code",
   "execution_count": 70,
   "metadata": {
    "collapsed": true
   },
   "outputs": [],
   "source": [
    "lm.compile(Adam(), loss=\"categorical_crossentropy\", metrics=[\"accuracy\"])"
   ]
  },
  {
   "cell_type": "code",
   "execution_count": 71,
   "metadata": {
    "collapsed": false
   },
   "outputs": [
    {
     "data": {
      "text/plain": [
       "250"
      ]
     },
     "execution_count": 71,
     "metadata": {},
     "output_type": "execute_result"
    }
   ],
   "source": [
    "s_t_batches.nb_sample"
   ]
  },
  {
   "cell_type": "code",
   "execution_count": 73,
   "metadata": {
    "collapsed": false
   },
   "outputs": [
    {
     "name": "stdout",
     "output_type": "stream",
     "text": [
      "Epoch 1/2\n",
      "250/250 [==============================] - 13s - loss: 11.1370 - acc: 0.0920 - val_loss: 14.1618 - val_acc: 0.1214\n",
      "Epoch 2/2\n",
      "250/250 [==============================] - 10s - loss: 13.8603 - acc: 0.1320 - val_loss: 14.1879 - val_acc: 0.1186\n"
     ]
    },
    {
     "data": {
      "text/plain": [
       "<keras.callbacks.History at 0x7f79079d8910>"
      ]
     },
     "execution_count": 73,
     "metadata": {},
     "output_type": "execute_result"
    }
   ],
   "source": [
    "lm.fit_generator(s_t_batches, s_t_batches.nb_sample, nb_epoch=2, validation_data=s_v_batches, nb_val_samples=s_v_batches.nb_sample)"
   ]
  },
  {
   "cell_type": "code",
   "execution_count": 74,
   "metadata": {
    "collapsed": false
   },
   "outputs": [
    {
     "name": "stdout",
     "output_type": "stream",
     "text": [
      "____________________________________________________________________________________________________\n",
      "Layer (type)                     Output Shape          Param #     Connected to                     \n",
      "====================================================================================================\n",
      "batchnormalization_1 (BatchNormal(None, 3, 224, 224)   6           batchnormalization_input_1[0][0] \n",
      "____________________________________________________________________________________________________\n",
      "flatten_1 (Flatten)              (None, 150528)        0           batchnormalization_1[0][0]       \n",
      "____________________________________________________________________________________________________\n",
      "dense_1 (Dense)                  (None, 10)            1505290     flatten_1[0][0]                  \n",
      "====================================================================================================\n",
      "Total params: 1505296\n",
      "____________________________________________________________________________________________________\n"
     ]
    }
   ],
   "source": [
    "lm.summary()"
   ]
  },
  {
   "cell_type": "code",
   "execution_count": 78,
   "metadata": {
    "collapsed": false
   },
   "outputs": [
    {
     "name": "stdout",
     "output_type": "stream",
     "text": [
      "725\n"
     ]
    },
    {
     "data": {
      "text/plain": [
       "725"
      ]
     },
     "execution_count": 78,
     "metadata": {},
     "output_type": "execute_result"
    }
   ],
   "source": [
    "# we have a lot of parameters (>150K) so we should have enough to get overfitting (since we have 0 regularization).\n",
    "# this could mean that our learning rate is too high and we've fallen to a solution that predicts just a couple categories well.\n",
    "\n",
    "# as a side note, both batches.nb_sample and batches.N seem to return the number of images in that batch\n",
    "print(s_v_batches.nb_sample)\n",
    "s_v_batches.N"
   ]
  },
  {
   "cell_type": "code",
   "execution_count": 83,
   "metadata": {
    "collapsed": false
   },
   "outputs": [
    {
     "data": {
      "text/plain": [
       "array([[ 0.,  0.,  0.,  0.,  0.,  0.,  0.,  1.,  0.,  0.],\n",
       "       [ 0.,  0.,  1.,  0.,  0.,  0.,  0.,  0.,  0.,  0.],\n",
       "       [ 0.,  0.,  1.,  0.,  0.,  0.,  0.,  0.,  0.,  0.],\n",
       "       [ 0.,  0.,  0.,  0.,  0.,  0.,  0.,  1.,  0.,  0.],\n",
       "       [ 0.,  0.,  0.,  0.,  0.,  0.,  0.,  1.,  0.,  0.],\n",
       "       [ 0.,  0.,  0.,  0.,  0.,  0.,  0.,  1.,  0.,  0.],\n",
       "       [ 0.,  0.,  0.,  0.,  0.,  0.,  0.,  1.,  0.,  0.],\n",
       "       [ 0.,  0.,  1.,  0.,  0.,  0.,  0.,  0.,  0.,  0.],\n",
       "       [ 0.,  0.,  0.,  0.,  0.,  0.,  0.,  1.,  0.,  0.],\n",
       "       [ 0.,  0.,  1.,  0.,  0.,  0.,  0.,  0.,  0.,  0.],\n",
       "       [ 0.,  0.,  1.,  0.,  0.,  0.,  0.,  0.,  0.,  0.],\n",
       "       [ 0.,  0.,  0.,  0.,  0.,  0.,  0.,  1.,  0.,  0.],\n",
       "       [ 0.,  0.,  0.,  0.,  0.,  0.,  0.,  1.,  0.,  0.],\n",
       "       [ 0.,  0.,  0.,  0.,  0.,  0.,  0.,  1.,  0.,  0.],\n",
       "       [ 0.,  0.,  0.,  0.,  0.,  0.,  0.,  1.,  0.,  0.],\n",
       "       [ 0.,  0.,  1.,  0.,  0.,  0.,  0.,  0.,  0.,  0.],\n",
       "       [ 0.,  0.,  0.,  0.,  0.,  0.,  0.,  1.,  0.,  0.],\n",
       "       [ 0.,  0.,  0.,  0.,  0.,  0.,  0.,  1.,  0.,  0.],\n",
       "       [ 0.,  0.,  1.,  0.,  0.,  0.,  0.,  0.,  0.,  0.],\n",
       "       [ 0.,  0.,  0.,  0.,  0.,  0.,  0.,  1.,  0.,  0.]], dtype=float32)"
      ]
     },
     "execution_count": 83,
     "metadata": {},
     "output_type": "execute_result"
    }
   ],
   "source": [
    "np.round(lm.predict_generator(s_t_batches, s_t_batches.N)[:20], 2)"
   ]
  },
  {
   "cell_type": "code",
   "execution_count": 82,
   "metadata": {
    "collapsed": true
   },
   "outputs": [],
   "source": [
    "# yep, it's only predicting classes c2 and c7."
   ]
  },
  {
   "cell_type": "code",
   "execution_count": 89,
   "metadata": {
    "collapsed": false
   },
   "outputs": [
    {
     "name": "stdout",
     "output_type": "stream",
     "text": [
      "Epoch 1/5\n",
      "250/250 [==============================] - 12s - loss: 10.4297 - acc: 0.1360 - val_loss: 13.6325 - val_acc: 0.1517\n",
      "Epoch 2/5\n",
      "250/250 [==============================] - 9s - loss: 13.2149 - acc: 0.1480 - val_loss: 13.2861 - val_acc: 0.1710\n",
      "Epoch 3/5\n",
      "250/250 [==============================] - 9s - loss: 13.4158 - acc: 0.1360 - val_loss: 13.6244 - val_acc: 0.1490\n",
      "Epoch 4/5\n",
      "250/250 [==============================] - 10s - loss: 13.6101 - acc: 0.1480 - val_loss: 13.7627 - val_acc: 0.1131\n",
      "Epoch 5/5\n",
      "250/250 [==============================] - 9s - loss: 13.6558 - acc: 0.1440 - val_loss: 13.9604 - val_acc: 0.1297\n"
     ]
    },
    {
     "data": {
      "text/plain": [
       "<keras.callbacks.History at 0x7f78fda68a10>"
      ]
     },
     "execution_count": 89,
     "metadata": {},
     "output_type": "execute_result"
    }
   ],
   "source": [
    "# let's try the same model but with a lower learning rate\n",
    "lm2 = Sequential([\n",
    "        BatchNormalization(axis=1, input_shape=(3,224,224)),\n",
    "        Flatten(),\n",
    "        Dense(10, activation=\"softmax\")\n",
    "    ])\n",
    "lm2.compile(Adam(lr=0.001), loss=\"categorical_crossentropy\", metrics=[\"accuracy\"])\n",
    "lm2.fit_generator(s_t_batches, s_t_batches.nb_sample, nb_epoch=5, validation_data=s_v_batches, nb_val_samples=s_v_batches.nb_sample)"
   ]
  },
  {
   "cell_type": "code",
   "execution_count": 86,
   "metadata": {
    "collapsed": false
   },
   "outputs": [
    {
     "data": {
      "text/plain": [
       "array([[ 0.01,  0.  ,  0.  ,  0.  ,  0.  ,  0.  ,  0.  ,  0.01,  0.  ,  0.99],\n",
       "       [ 0.  ,  0.  ,  0.  ,  0.  ,  0.  ,  0.  ,  0.  ,  0.91,  0.  ,  0.08],\n",
       "       [ 0.01,  0.  ,  0.  ,  0.  ,  0.  ,  0.  ,  0.  ,  0.77,  0.  ,  0.22],\n",
       "       [ 0.01,  0.  ,  0.  ,  0.  ,  0.  ,  0.  ,  0.  ,  0.5 ,  0.  ,  0.49],\n",
       "       [ 0.06,  0.  ,  0.  ,  0.  ,  0.  ,  0.  ,  0.  ,  0.01,  0.  ,  0.92],\n",
       "       [ 0.  ,  0.  ,  0.  ,  0.  ,  0.  ,  0.  ,  0.  ,  0.23,  0.  ,  0.77],\n",
       "       [ 0.  ,  0.  ,  0.01,  0.  ,  0.  ,  0.  ,  0.  ,  0.82,  0.  ,  0.16],\n",
       "       [ 0.02,  0.01,  0.  ,  0.  ,  0.01,  0.  ,  0.  ,  0.  ,  0.  ,  0.94],\n",
       "       [ 0.06,  0.  ,  0.  ,  0.  ,  0.  ,  0.  ,  0.  ,  0.29,  0.  ,  0.65],\n",
       "       [ 0.  ,  0.  ,  0.  ,  0.  ,  0.  ,  0.  ,  0.  ,  0.02,  0.  ,  0.98],\n",
       "       [ 0.  ,  0.  ,  0.  ,  0.  ,  0.  ,  0.  ,  0.  ,  0.  ,  0.  ,  0.99],\n",
       "       [ 0.05,  0.  ,  0.  ,  0.  ,  0.  ,  0.  ,  0.  ,  0.52,  0.  ,  0.43],\n",
       "       [ 0.12,  0.  ,  0.  ,  0.  ,  0.  ,  0.  ,  0.  ,  0.32,  0.  ,  0.55],\n",
       "       [ 0.03,  0.  ,  0.  ,  0.  ,  0.  ,  0.  ,  0.  ,  0.  ,  0.  ,  0.96],\n",
       "       [ 0.  ,  0.  ,  0.  ,  0.  ,  0.  ,  0.01,  0.  ,  0.  ,  0.  ,  0.98],\n",
       "       [ 0.01,  0.03,  0.01,  0.06,  0.  ,  0.  ,  0.03,  0.07,  0.  ,  0.8 ],\n",
       "       [ 0.  ,  0.  ,  0.  ,  0.  ,  0.  ,  0.  ,  0.  ,  0.02,  0.  ,  0.97],\n",
       "       [ 0.05,  0.  ,  0.01,  0.01,  0.  ,  0.02,  0.03,  0.32,  0.  ,  0.55],\n",
       "       [ 0.02,  0.  ,  0.  ,  0.  ,  0.  ,  0.01,  0.  ,  0.04,  0.  ,  0.93],\n",
       "       [ 0.02,  0.  ,  0.02,  0.  ,  0.  ,  0.  ,  0.  ,  0.23,  0.  ,  0.74]], dtype=float32)"
      ]
     },
     "execution_count": 86,
     "metadata": {},
     "output_type": "execute_result"
    }
   ],
   "source": [
    "np.round(lm2.predict_generator(s_t_batches, s_t_batches.N)[:20], 2)"
   ]
  },
  {
   "cell_type": "code",
   "execution_count": 88,
   "metadata": {
    "collapsed": false
   },
   "outputs": [
    {
     "name": "stdout",
     "output_type": "stream",
     "text": [
      "Epoch 1/5\n",
      "250/250 [==============================] - 12s - loss: 1.7775 - acc: 0.4120 - val_loss: 7.1809 - val_acc: 0.0607\n",
      "Epoch 2/5\n",
      "250/250 [==============================] - 9s - loss: 1.7996 - acc: 0.4400 - val_loss: 6.6620 - val_acc: 0.0897\n",
      "Epoch 3/5\n",
      "250/250 [==============================] - 9s - loss: 1.5857 - acc: 0.5120 - val_loss: 6.3385 - val_acc: 0.0676\n",
      "Epoch 4/5\n",
      "250/250 [==============================] - 10s - loss: 1.5011 - acc: 0.5880 - val_loss: 5.5617 - val_acc: 0.0690\n",
      "Epoch 5/5\n",
      "250/250 [==============================] - 9s - loss: 1.3736 - acc: 0.6320 - val_loss: 5.2116 - val_acc: 0.0800\n"
     ]
    },
    {
     "data": {
      "text/plain": [
       "<keras.callbacks.History at 0x7f7904ab1890>"
      ]
     },
     "execution_count": 88,
     "metadata": {},
     "output_type": "execute_result"
    }
   ],
   "source": [
    "# well, me seem to be predicting other classes too now, so at least that's a bit better.\n",
    "# let's try a smaller learning rate.\n",
    "lm2.optimizer.lr = 0.001\n",
    "lm2.fit_generator(s_t_batches, s_t_batches.nb_sample, nb_epoch=5, validation_data=s_v_batches, nb_val_samples=s_v_batches.nb_sample)"
   ]
  },
  {
   "cell_type": "code",
   "execution_count": 90,
   "metadata": {
    "collapsed": true
   },
   "outputs": [],
   "source": [
    "# well, in Jeremy's case the accuracy on validation did get better, but not so much on mine."
   ]
  },
  {
   "cell_type": "code",
   "execution_count": 96,
   "metadata": {
    "collapsed": false
   },
   "outputs": [
    {
     "name": "stdout",
     "output_type": "stream",
     "text": [
      "Found 725 images belonging to 10 classes.\n"
     ]
    },
    {
     "data": {
      "text/plain": [
       "array([[ 14.01,   0.13],\n",
       "       [ 14.05,   0.12],\n",
       "       [ 14.12,   0.12]])"
      ]
     },
     "execution_count": 96,
     "metadata": {},
     "output_type": "execute_result"
    }
   ],
   "source": [
    "# he has another method:\n",
    "rnd_batches = get_batches(path_to_sample +'/valid', batch_size=s_batch_size, shuffle=True)\n",
    "s_val_results = [lm2.evaluate_generator(rnd_batches, rnd_batches.nb_sample) for i in range(3)]\n",
    "np.round(s_val_results, 2)"
   ]
  },
  {
   "cell_type": "code",
   "execution_count": null,
   "metadata": {
    "collapsed": true
   },
   "outputs": [],
   "source": [
    "# the above returns loss and accuracy (because we specified that as metric for the model lm2 in compile(metrics=[\"accuracy\"]))"
   ]
  },
  {
   "cell_type": "markdown",
   "metadata": {},
   "source": [
    "### Regularized lm\n",
    "We cannot use dropout in a model with just one layer really. We'd be losing our parameters.\n",
    "But we can use sth called l2 regularization (which will add the sum of squares of the weights to our loss function)."
   ]
  },
  {
   "cell_type": "code",
   "execution_count": 97,
   "metadata": {
    "collapsed": false
   },
   "outputs": [
    {
     "name": "stderr",
     "output_type": "stream",
     "text": [
      "INFO (theano.gof.compilelock): Refreshing lock /home/ubuntu/.theano/compiledir_Linux-4.4--generic-x86_64-with-debian-stretch-sid-x86_64-2.7.12-64/lock_dir/lock\n"
     ]
    },
    {
     "name": "stdout",
     "output_type": "stream",
     "text": [
      "Epoch 1/2\n",
      "250/250 [==============================] - 12s - loss: 7.8151 - acc: 0.0880 - val_loss: 14.1839 - val_acc: 0.1200\n",
      "Epoch 2/2\n",
      "250/250 [==============================] - 10s - loss: 7.1718 - acc: 0.2160 - val_loss: 14.5174 - val_acc: 0.0993\n"
     ]
    },
    {
     "data": {
      "text/plain": [
       "<keras.callbacks.History at 0x7f78fcb710d0>"
      ]
     },
     "execution_count": 97,
     "metadata": {},
     "output_type": "execute_result"
    }
   ],
   "source": [
    "lm2_regularized = Sequential([\n",
    "        BatchNormalization(axis=1, input_shape=(3, 224, 224)),\n",
    "        Flatten(),\n",
    "        Dense(10, activation=\"softmax\", W_regularizer=l2(0.01))\n",
    "    ])\n",
    "\n",
    "lm2_regularized.compile(Adam(lr=10e-5), loss=\"categorical_crossentropy\", metrics=[\"accuracy\"])\n",
    "lm2_regularized.fit_generator(s_t_batches, s_t_batches.nb_sample, nb_epoch=2, validation_data=s_v_batches, nb_val_samples=s_v_batches.nb_sample)"
   ]
  },
  {
   "cell_type": "code",
   "execution_count": 98,
   "metadata": {
    "collapsed": true
   },
   "outputs": [],
   "source": [
    "# let's try to decrease the learning rate\n",
    "lm2_regularized.optimizer.lr=0.001"
   ]
  },
  {
   "cell_type": "code",
   "execution_count": 100,
   "metadata": {
    "collapsed": false
   },
   "outputs": [
    {
     "name": "stdout",
     "output_type": "stream",
     "text": [
      "Epoch 1/5\n",
      "250/250 [==============================] - 12s - loss: 2.2828 - acc: 0.7280 - val_loss: 12.5882 - val_acc: 0.1186\n",
      "Epoch 2/5\n",
      "250/250 [==============================] - 9s - loss: 1.6228 - acc: 0.8000 - val_loss: 9.4586 - val_acc: 0.1145\n",
      "Epoch 3/5\n",
      "250/250 [==============================] - 9s - loss: 1.6613 - acc: 0.8320 - val_loss: 8.3525 - val_acc: 0.1807\n",
      "Epoch 4/5\n",
      "250/250 [==============================] - 9s - loss: 1.7613 - acc: 0.8280 - val_loss: 9.5670 - val_acc: 0.1269\n",
      "Epoch 5/5\n",
      "250/250 [==============================] - 9s - loss: 1.3652 - acc: 0.9040 - val_loss: 7.2485 - val_acc: 0.1807\n"
     ]
    },
    {
     "data": {
      "text/plain": [
       "<keras.callbacks.History at 0x7f78fda75e90>"
      ]
     },
     "execution_count": 100,
     "metadata": {},
     "output_type": "execute_result"
    }
   ],
   "source": [
    "lm2_regularized.fit_generator(s_t_batches, s_t_batches.nb_sample, nb_epoch=5, validation_data=s_v_batches, nb_val_samples=s_v_batches.nb_sample)"
   ]
  },
  {
   "cell_type": "markdown",
   "metadata": {},
   "source": [
    "## Single Hidden Layer Model\n",
    "Next up we can try a model with a single hidden layer. We'll start with a small hidden layer for a couple of epochs and then increase it."
   ]
  },
  {
   "cell_type": "code",
   "execution_count": 102,
   "metadata": {
    "collapsed": false
   },
   "outputs": [
    {
     "name": "stderr",
     "output_type": "stream",
     "text": [
      "INFO (theano.gof.compilelock): Refreshing lock /home/ubuntu/.theano/compiledir_Linux-4.4--generic-x86_64-with-debian-stretch-sid-x86_64-2.7.12-64/lock_dir/lock\n"
     ]
    },
    {
     "name": "stdout",
     "output_type": "stream",
     "text": [
      "Epoch 1/5\n",
      "250/250 [==============================] - 12s - loss: 2.5674 - acc: 0.2360 - val_loss: 11.9416 - val_acc: 0.0800\n",
      "Epoch 2/5\n",
      "250/250 [==============================] - 9s - loss: 1.9673 - acc: 0.3520 - val_loss: 10.1469 - val_acc: 0.1172\n",
      "Epoch 3/5\n",
      "250/250 [==============================] - 9s - loss: 1.4647 - acc: 0.5800 - val_loss: 8.0268 - val_acc: 0.1531\n",
      "Epoch 4/5\n",
      "250/250 [==============================] - 9s - loss: 1.1470 - acc: 0.7520 - val_loss: 7.6219 - val_acc: 0.1200\n",
      "Epoch 5/5\n",
      "250/250 [==============================] - 10s - loss: 0.9722 - acc: 0.7560 - val_loss: 8.0459 - val_acc: 0.1186\n",
      "Epoch 1/5\n",
      "250/250 [==============================] - 13s - loss: 0.7477 - acc: 0.8760 - val_loss: 7.2552 - val_acc: 0.1145\n",
      "Epoch 2/5\n",
      "250/250 [==============================] - 10s - loss: 0.6017 - acc: 0.9080 - val_loss: 6.3376 - val_acc: 0.1517\n",
      "Epoch 3/5\n",
      "250/250 [==============================] - 12s - loss: 0.4847 - acc: 0.9680 - val_loss: 5.8508 - val_acc: 0.1655\n",
      "Epoch 4/5\n",
      "250/250 [==============================] - 10s - loss: 0.3782 - acc: 0.9840 - val_loss: 5.5219 - val_acc: 0.1545\n",
      "Epoch 5/5\n",
      "250/250 [==============================] - 9s - loss: 0.3047 - acc: 1.0000 - val_loss: 5.3546 - val_acc: 0.0924\n"
     ]
    },
    {
     "data": {
      "text/plain": [
       "<keras.callbacks.History at 0x7f78f6df1050>"
      ]
     },
     "execution_count": 102,
     "metadata": {},
     "output_type": "execute_result"
    }
   ],
   "source": [
    "shl_model = Sequential([\n",
    "        BatchNormalization(axis=1, input_shape=(3, 224, 224)),\n",
    "        Flatten(),\n",
    "        Dense(100, activation=\"relu\"),\n",
    "        BatchNormalization(),\n",
    "        Dense(10, activation=\"softmax\")\n",
    "    ])\n",
    "\n",
    "shl_model.compile(Adam(lr=1e5), loss=\"categorical_crossentropy\", metrics=[\"accuracy\"])\n",
    "shl_model.fit_generator(s_t_batches, s_t_batches.nb_sample, nb_epoch=5, validation_data=s_v_batches, nb_val_samples=s_v_batches.nb_sample)\n",
    "\n",
    "shl_model.optimizer.lr = 0.001\n",
    "shl_model.fit_generator(s_t_batches, s_t_batches.nb_sample, nb_epoch=5, validation_data=s_v_batches, nb_val_samples=s_v_batches.nb_sample)"
   ]
  },
  {
   "cell_type": "code",
   "execution_count": 103,
   "metadata": {
    "collapsed": true
   },
   "outputs": [],
   "source": [
    "# we know that this is a cv (computer vision) problem, where convolution layers are useful, so that's what we'll try next."
   ]
  },
  {
   "cell_type": "markdown",
   "metadata": {},
   "source": [
    "### Single Hidden Convolutional Layer\n",
    "Like I said. Although Jeremy is using two from the start, despite title.\n",
    "Note that we start with Convolutions towards 32 3x3 filters (using relu) and follow each convo by batchnorm, where we have to specify the axis! And also maxpooling.\n",
    "\n",
    "So it's convo + batchnorm with axis + maxpool."
   ]
  },
  {
   "cell_type": "code",
   "execution_count": 107,
   "metadata": {
    "collapsed": false
   },
   "outputs": [
    {
     "name": "stdout",
     "output_type": "stream",
     "text": [
      "Epoch 1/2\n",
      "250/250 [==============================] - 19s - loss: 2.7812 - acc: 0.1880 - val_loss: 3.5109 - val_acc: 0.1586\n",
      "Epoch 2/2\n",
      "250/250 [==============================] - 14s - loss: 1.3454 - acc: 0.6120 - val_loss: 2.9665 - val_acc: 0.1600\n",
      "Epoch 1/4\n",
      "250/250 [==============================] - 20s - loss: 0.5587 - acc: 0.8800 - val_loss: 2.8243 - val_acc: 0.0883\n",
      "Epoch 2/4\n",
      "250/250 [==============================] - 14s - loss: 0.2791 - acc: 0.9640 - val_loss: 2.6975 - val_acc: 0.0828\n",
      "Epoch 3/4\n",
      "250/250 [==============================] - 14s - loss: 0.1560 - acc: 1.0000 - val_loss: 2.6151 - val_acc: 0.0676\n",
      "Epoch 4/4\n",
      "250/250 [==============================] - 14s - loss: 0.0879 - acc: 1.0000 - val_loss: 2.4902 - val_acc: 0.0869\n"
     ]
    },
    {
     "data": {
      "text/plain": [
       "<keras.callbacks.History at 0x7f78d8d7c650>"
      ]
     },
     "execution_count": 107,
     "metadata": {},
     "output_type": "execute_result"
    }
   ],
   "source": [
    "shc_model = Sequential([\n",
    "        BatchNormalization(axis=1, input_shape=(3, 224, 224)),\n",
    "        Convolution2D(32, 3, 3, activation=\"relu\"),\n",
    "        BatchNormalization(axis=1),\n",
    "        MaxPooling2D((3,3)),\n",
    "        Convolution2D(64, 3, 3, activation=\"relu\"),\n",
    "        BatchNormalization(axis=1),\n",
    "        MaxPooling2D((3,3)),\n",
    "        Flatten(),\n",
    "        Dense(200, activation=\"relu\"),\n",
    "        BatchNormalization(),\n",
    "        Dense(10, activation=\"softmax\")\n",
    "    ])\n",
    "shc_model.compile(Adam(lr=1e-4), loss=\"categorical_crossentropy\", metrics=[\"accuracy\"])\n",
    "shc_model.fit_generator(s_t_batches, s_t_batches.nb_sample, nb_epoch=2, validation_data=s_v_batches, nb_val_samples=s_v_batches.nb_sample)\n",
    "\n",
    "shc_model.optimizer.lr = 0.001\n",
    "shc_model.fit_generator(s_t_batches, s_t_batches.nb_sample, nb_epoch=4, validation_data=s_v_batches, nb_val_samples=s_v_batches.nb_sample)"
   ]
  },
  {
   "cell_type": "code",
   "execution_count": 108,
   "metadata": {
    "collapsed": true
   },
   "outputs": [],
   "source": [
    "# we can see that the accuracy on train set is rapdily increasing so regularization seems like a natural next step."
   ]
  },
  {
   "cell_type": "code",
   "execution_count": null,
   "metadata": {
    "collapsed": true
   },
   "outputs": [],
   "source": [
    "# let's define this as a function"
   ]
  },
  {
   "cell_type": "code",
   "execution_count": 34,
   "metadata": {
    "collapsed": true
   },
   "outputs": [],
   "source": [
    "def conv2(passed_batches):\n",
    "    model = Sequential([\n",
    "        BatchNormalization(axis=1, input_shape=(3, 224, 224)),\n",
    "        Convolution2D(32, 3, 3, activation=\"relu\"),\n",
    "        BatchNormalization(axis=1),\n",
    "        MaxPooling2D((3,3)),\n",
    "        Convolution2D(64, 3, 3, activation=\"relu\"),\n",
    "        BatchNormalization(axis=1),\n",
    "        MaxPooling2D((3,3)),\n",
    "        Flatten(),\n",
    "        Dense(200, activation=\"relu\"),\n",
    "        BatchNormalization(),\n",
    "        Dense(10, activation=\"softmax\")\n",
    "    ])\n",
    "    model.compile(Adam(lr=0.01), loss=\"categorical_crossentropy\", metrics=[\"accuracy\"])\n",
    "    model.fit_generator(passed_batches, passed_batches.nb_sample, nb_epoch=2, validation_data=s_v_batches, nb_val_samples=s_v_batches.nb_sample)\n",
    "\n",
    "    model.optimizer.lr = 0.001\n",
    "    model.fit_generator(passed_batches, passed_batches.nb_sample, nb_epoch=4, validation_data=s_v_batches, nb_val_samples=s_v_batches.nb_sample)\n",
    "    \n",
    "    return model"
   ]
  },
  {
   "cell_type": "code",
   "execution_count": 13,
   "metadata": {
    "collapsed": false
   },
   "outputs": [
    {
     "name": "stdout",
     "output_type": "stream",
     "text": [
      "Epoch 1/2\n",
      "250/250 [==============================] - 16s - loss: 3.1304 - acc: 0.0920 - val_loss: 3.2710 - val_acc: 0.0124\n",
      "Epoch 2/2\n",
      "250/250 [==============================] - 14s - loss: 2.3842 - acc: 0.2160 - val_loss: 2.7392 - val_acc: 0.0359\n",
      "Epoch 1/4\n",
      "250/250 [==============================] - 17s - loss: 1.8909 - acc: 0.3360 - val_loss: 2.5692 - val_acc: 0.0593\n",
      "Epoch 2/4\n",
      "250/250 [==============================] - 14s - loss: 1.5782 - acc: 0.4880 - val_loss: 2.4672 - val_acc: 0.0855\n",
      "Epoch 3/4\n",
      "250/250 [==============================] - 14s - loss: 1.2757 - acc: 0.6920 - val_loss: 2.4474 - val_acc: 0.0759\n",
      "Epoch 4/4\n",
      "250/250 [==============================] - 14s - loss: 1.0766 - acc: 0.7720 - val_loss: 2.3994 - val_acc: 0.0634\n"
     ]
    },
    {
     "data": {
      "text/plain": [
       "<keras.models.Sequential at 0x7ff7eadc0690>"
      ]
     },
     "execution_count": 13,
     "metadata": {},
     "output_type": "execute_result"
    }
   ],
   "source": [
    "conv2(s_t_batches)"
   ]
  },
  {
   "cell_type": "markdown",
   "metadata": {
    "collapsed": true
   },
   "source": [
    "## Regularization 1 - Data Augmentation\n",
    "We seem to be overfitting, so let's see what we can do (we're essentially getting more data with data augmentation)."
   ]
  },
  {
   "cell_type": "markdown",
   "metadata": {},
   "source": [
    "1. Width shift - move the image left and right"
   ]
  },
  {
   "cell_type": "code",
   "execution_count": 21,
   "metadata": {
    "collapsed": false
   },
   "outputs": [
    {
     "name": "stdout",
     "output_type": "stream",
     "text": [
      "Found 250 images belonging to 10 classes.\n"
     ]
    }
   ],
   "source": [
    "from keras.preprocessing import image\n",
    "gen_t = image.ImageDataGenerator(width_shift_range=0.01)\n",
    "batches = get_batches(path_to_sample + \"/train/\", gen_t, batch_size=32)"
   ]
  },
  {
   "cell_type": "code",
   "execution_count": 24,
   "metadata": {
    "collapsed": false
   },
   "outputs": [
    {
     "name": "stdout",
     "output_type": "stream",
     "text": [
      "Epoch 1/2\n",
      "250/250 [==============================] - 15s - loss: 3.0576 - acc: 0.1000 - val_loss: 2.4552 - val_acc: 0.0662\n",
      "Epoch 2/2\n",
      "250/250 [==============================] - 14s - loss: 2.3556 - acc: 0.1840 - val_loss: 2.3393 - val_acc: 0.1172\n",
      "Epoch 1/4\n",
      "250/250 [==============================] - 16s - loss: 1.9377 - acc: 0.3440 - val_loss: 2.3311 - val_acc: 0.0966\n",
      "Epoch 2/4\n",
      "250/250 [==============================] - 14s - loss: 1.6763 - acc: 0.4360 - val_loss: 2.3158 - val_acc: 0.1076\n",
      "Epoch 3/4\n",
      "250/250 [==============================] - 14s - loss: 1.3889 - acc: 0.5880 - val_loss: 2.3295 - val_acc: 0.1186\n",
      "Epoch 4/4\n",
      "250/250 [==============================] - 14s - loss: 1.2027 - acc: 0.6680 - val_loss: 2.3418 - val_acc: 0.1200\n"
     ]
    },
    {
     "data": {
      "text/plain": [
       "<keras.models.Sequential at 0x7ff7e7469990>"
      ]
     },
     "execution_count": 24,
     "metadata": {},
     "output_type": "execute_result"
    }
   ],
   "source": [
    "conv2(batches)"
   ]
  },
  {
   "cell_type": "markdown",
   "metadata": {},
   "source": [
    "2. Height shift - move it a bit up and down"
   ]
  },
  {
   "cell_type": "code",
   "execution_count": 27,
   "metadata": {
    "collapsed": false
   },
   "outputs": [
    {
     "name": "stdout",
     "output_type": "stream",
     "text": [
      "Found 250 images belonging to 10 classes.\n",
      "Epoch 1/2\n",
      "250/250 [==============================] - 15s - loss: 3.0881 - acc: 0.1160 - val_loss: 7.4642 - val_acc: 0.0703\n",
      "Epoch 2/2\n",
      "250/250 [==============================] - 15s - loss: 1.7044 - acc: 0.4280 - val_loss: 4.9200 - val_acc: 0.0676\n",
      "Epoch 1/4\n",
      "250/250 [==============================] - 16s - loss: 1.2255 - acc: 0.6080 - val_loss: 3.6304 - val_acc: 0.0786\n",
      "Epoch 2/4\n",
      "250/250 [==============================] - 14s - loss: 0.9719 - acc: 0.7360 - val_loss: 3.0129 - val_acc: 0.0690\n",
      "Epoch 3/4\n",
      "250/250 [==============================] - 14s - loss: 0.7033 - acc: 0.8280 - val_loss: 2.9113 - val_acc: 0.0745\n",
      "Epoch 4/4\n",
      "250/250 [==============================] - 14s - loss: 0.6371 - acc: 0.8360 - val_loss: 2.7653 - val_acc: 0.0745\n"
     ]
    }
   ],
   "source": [
    "gen_t = image.ImageDataGenerator(height_shift_range=0.05)\n",
    "batches = get_batches(path_to_sample + \"/train/\", gen_t, batch_size=32)\n",
    "model = conv2(batches)"
   ]
  },
  {
   "cell_type": "markdown",
   "metadata": {},
   "source": [
    "3. random sheer (sharp) angles"
   ]
  },
  {
   "cell_type": "code",
   "execution_count": 29,
   "metadata": {
    "collapsed": false
   },
   "outputs": [
    {
     "name": "stdout",
     "output_type": "stream",
     "text": [
      "Found 250 images belonging to 10 classes.\n",
      "Epoch 1/2\n",
      "250/250 [==============================] - 16s - loss: 3.2528 - acc: 0.0840 - val_loss: 5.5879 - val_acc: 0.1172\n",
      "Epoch 2/2\n",
      "250/250 [==============================] - 14s - loss: 1.4095 - acc: 0.5440 - val_loss: 3.8847 - val_acc: 0.1476\n",
      "Epoch 1/4\n",
      "250/250 [==============================] - 16s - loss: 0.7440 - acc: 0.8360 - val_loss: 3.2791 - val_acc: 0.2303\n",
      "Epoch 2/4\n",
      "250/250 [==============================] - 14s - loss: 0.5123 - acc: 0.9120 - val_loss: 2.7758 - val_acc: 0.1117\n",
      "Epoch 3/4\n",
      "250/250 [==============================] - 14s - loss: 0.3417 - acc: 0.9720 - val_loss: 2.5400 - val_acc: 0.1062\n",
      "Epoch 4/4\n",
      "250/250 [==============================] - 14s - loss: 0.2185 - acc: 0.9880 - val_loss: 2.5333 - val_acc: 0.1007\n"
     ]
    }
   ],
   "source": [
    "gen_t = image.ImageDataGenerator(shear_range=0.1)\n",
    "batches = get_batches(path_to_sample + \"/train/\", gen_t, batch_size=32)\n",
    "model = conv2(batches)"
   ]
  },
  {
   "cell_type": "markdown",
   "metadata": {},
   "source": [
    "X. Rotation"
   ]
  },
  {
   "cell_type": "code",
   "execution_count": 31,
   "metadata": {
    "collapsed": false
   },
   "outputs": [
    {
     "name": "stdout",
     "output_type": "stream",
     "text": [
      "Found 250 images belonging to 10 classes.\n",
      "Epoch 1/2\n",
      "250/250 [==============================] - 15s - loss: 3.2503 - acc: 0.1160 - val_loss: 6.0140 - val_acc: 0.0703\n",
      "Epoch 2/2\n",
      "250/250 [==============================] - 14s - loss: 1.9994 - acc: 0.3800 - val_loss: 5.9959 - val_acc: 0.0731\n",
      "Epoch 1/4\n",
      "250/250 [==============================] - 18s - loss: 1.3176 - acc: 0.5520 - val_loss: 4.0547 - val_acc: 0.0634\n",
      "Epoch 2/4\n",
      "250/250 [==============================] - 15s - loss: 1.2255 - acc: 0.6160 - val_loss: 3.6461 - val_acc: 0.0786\n",
      "Epoch 3/4\n",
      "250/250 [==============================] - 14s - loss: 0.9726 - acc: 0.7160 - val_loss: 3.1261 - val_acc: 0.0952\n",
      "Epoch 4/4\n",
      "250/250 [==============================] - 15s - loss: 0.9076 - acc: 0.7600 - val_loss: 2.7249 - val_acc: 0.1172\n"
     ]
    }
   ],
   "source": [
    "gen_t = image.ImageDataGenerator(rotation_range=15)\n",
    "batches = get_batches(path_to_sample + \"/train/\", gen_t, batch_size=32)\n",
    "model = conv2(batches)"
   ]
  },
  {
   "cell_type": "markdown",
   "metadata": {},
   "source": [
    "X. Channel shift - randomly changing the RGB colors"
   ]
  },
  {
   "cell_type": "code",
   "execution_count": 33,
   "metadata": {
    "collapsed": false
   },
   "outputs": [
    {
     "name": "stdout",
     "output_type": "stream",
     "text": [
      "Found 250 images belonging to 10 classes.\n",
      "Epoch 1/2\n",
      "250/250 [==============================] - 16s - loss: 3.9169 - acc: 0.0720 - val_loss: 10.0542 - val_acc: 0.1048\n",
      "Epoch 2/2\n",
      "250/250 [==============================] - 14s - loss: 1.5967 - acc: 0.5320 - val_loss: 6.5283 - val_acc: 0.1090\n",
      "Epoch 1/4\n",
      "250/250 [==============================] - 17s - loss: 1.0342 - acc: 0.7480 - val_loss: 3.9331 - val_acc: 0.0938\n",
      "Epoch 2/4\n",
      "250/250 [==============================] - 14s - loss: 0.7304 - acc: 0.8840 - val_loss: 3.0507 - val_acc: 0.0786\n",
      "Epoch 3/4\n",
      "250/250 [==============================] - 14s - loss: 0.4039 - acc: 0.9600 - val_loss: 2.7657 - val_acc: 0.0717\n",
      "Epoch 4/4\n",
      "250/250 [==============================] - 14s - loss: 0.1886 - acc: 0.9880 - val_loss: 2.7100 - val_acc: 0.0690\n"
     ]
    }
   ],
   "source": [
    "gen_t = image.ImageDataGenerator(channel_shift_range=20)\n",
    "batches = get_batches(path_to_sample + \"/train/\", gen_t, batch_size=32)\n",
    "model = conv2(batches)"
   ]
  },
  {
   "cell_type": "markdown",
   "metadata": {},
   "source": [
    "### All data aug together"
   ]
  },
  {
   "cell_type": "raw",
   "metadata": {},
   "source": [
    "gen_t = image.ImageDataGenerator(width_range=0.01, height_range=0.05, )"
   ]
  }
 ],
 "metadata": {
  "anaconda-cloud": {},
  "kernelspec": {
   "display_name": "Python [conda root]",
   "language": "python",
   "name": "conda-root-py"
  },
  "language_info": {
   "codemirror_mode": {
    "name": "ipython",
    "version": 2
   },
   "file_extension": ".py",
   "mimetype": "text/x-python",
   "name": "python",
   "nbconvert_exporter": "python",
   "pygments_lexer": "ipython2",
   "version": "2.7.12"
  }
 },
 "nbformat": 4,
 "nbformat_minor": 1
}
