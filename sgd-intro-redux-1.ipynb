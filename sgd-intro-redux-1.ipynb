{
 "cells": [
  {
   "cell_type": "code",
   "execution_count": 83,
   "metadata": {
    "collapsed": true
   },
   "outputs": [],
   "source": [
    "# imports\n",
    "%matplotlib inline\n",
    "import numpy as np\n",
    "from matplotlib import pyplot as plt, rcParams\n",
    "rcParams[\"figure.figsize\"] = (3,3)"
   ]
  },
  {
   "cell_type": "code",
   "execution_count": 84,
   "metadata": {
    "collapsed": true
   },
   "outputs": [],
   "source": [
    "def lin(a,b,x): return a * x + b"
   ]
  },
  {
   "cell_type": "code",
   "execution_count": 85,
   "metadata": {
    "collapsed": true
   },
   "outputs": [],
   "source": [
    "a = 3.\n",
    "b = 8."
   ]
  },
  {
   "cell_type": "code",
   "execution_count": 86,
   "metadata": {
    "collapsed": false,
    "scrolled": true
   },
   "outputs": [
    {
     "data": {
      "text/plain": [
       "array([ 0.78012414,  0.85887815,  0.51787591,  0.41671056,  0.33345014,\n",
       "        0.02455603,  0.08764376,  0.88509984,  0.34435894,  0.04759173,\n",
       "        0.58259378,  0.38301022,  0.00459535,  0.69509752,  0.05558978,\n",
       "        0.18654615,  0.22557207,  0.36640208,  0.39798153,  0.45996376,\n",
       "        0.17626481,  0.31765654,  0.89889119,  0.00248082,  0.79328683,\n",
       "        0.66920971,  0.72579393,  0.64602684,  0.09333299,  0.50052711,\n",
       "        0.46520539,  0.29340628,  0.29866714,  0.3980652 ,  0.51654873,\n",
       "        0.86819112,  0.53174586,  0.18122468,  0.82512349,  0.38108934])"
      ]
     },
     "execution_count": 86,
     "metadata": {},
     "output_type": "execute_result"
    }
   ],
   "source": [
    "n = 40\n",
    "x = np.random.random(n)\n",
    "x"
   ]
  },
  {
   "cell_type": "code",
   "execution_count": 87,
   "metadata": {
    "collapsed": false
   },
   "outputs": [
    {
     "data": {
      "text/plain": [
       "array([ 10.34037241,  10.57663446,   9.55362773,   9.25013167,\n",
       "         9.00035042,   8.07366808,   8.26293127,  10.65529953,\n",
       "         9.03307683,   8.1427752 ,   9.74778135,   9.14903065,\n",
       "         8.01378604,  10.08529256,   8.16676934,   8.55963845,\n",
       "         8.67671621,   9.09920625,   9.19394459,   9.37989128,\n",
       "         8.52879442,   8.95296961,  10.69667356,   8.00744246,\n",
       "        10.37986048,  10.00762914,  10.17738178,   9.93808052,\n",
       "         8.27999897,   9.50158133,   9.39561616,   8.88021884,\n",
       "         8.89600141,   9.19419559,   9.54964619,  10.60457336,\n",
       "         9.59523757,   8.54367404,  10.47537048,   9.14326802])"
      ]
     },
     "execution_count": 87,
     "metadata": {},
     "output_type": "execute_result"
    }
   ],
   "source": [
    "y = lin(a, b, x)\n",
    "y"
   ]
  },
  {
   "cell_type": "code",
   "execution_count": 88,
   "metadata": {
    "collapsed": false
   },
   "outputs": [
    {
     "data": {
      "text/plain": [
       "<matplotlib.collections.PathCollection at 0x7f5c6e02c190>"
      ]
     },
     "execution_count": 88,
     "metadata": {},
     "output_type": "execute_result"
    },
    {
     "data": {
      "image/png": "[encoded data removed]",
      "text/plain": [
       "<matplotlib.figure.Figure at 0x7f5c6e0fc510>"
      ]
     },
     "metadata": {},
     "output_type": "display_data"
    }
   ],
   "source": [
    "plt.scatter(x,y)"
   ]
  },
  {
   "cell_type": "code",
   "execution_count": 89,
   "metadata": {
    "collapsed": true
   },
   "outputs": [],
   "source": [
    "def sse(y,y_pred): return ((y-y_pred)**2).sum()\n",
    "def loss(y,a,b,x): return sse(y, lin(a,b,x))\n",
    "def avg_loss(y,a,b,x): return np.sqrt(loss(y,a,b,x)/n)"
   ]
  },
  {
   "cell_type": "code",
   "execution_count": 90,
   "metadata": {
    "collapsed": false
   },
   "outputs": [
    {
     "data": {
      "text/plain": [
       "8.7894100862815581"
      ]
     },
     "execution_count": 90,
     "metadata": {},
     "output_type": "execute_result"
    }
   ],
   "source": [
    "a_guess = -1\n",
    "b_guess = 1\n",
    "avg_loss(y, a_guess, b_guess, x)"
   ]
  },
  {
   "cell_type": "code",
   "execution_count": 91,
   "metadata": {
    "collapsed": true
   },
   "outputs": [],
   "source": [
    "lr=0.1\n",
    "# d[(y-(a*x+b))**2,b] = 2 (b + a x - y)      = 2 (y_pred - y)\n",
    "# d[(y-(a*x+b))**2,a] = 2 x (b + a x - y)    = x * dy/db"
   ]
  },
  {
   "cell_type": "code",
   "execution_count": 94,
   "metadata": {
    "collapsed": false
   },
   "outputs": [
    {
     "name": "stdout",
     "output_type": "stream",
     "text": [
      "[-1.47138415 -1.44103558 -1.57244387 -1.61142885 -1.643514   -1.76254914\n",
      " -1.73823771 -1.43093081 -1.6393102  -1.75367212 -1.54750425 -1.62441558\n",
      " -1.77024117 -1.50414992 -1.75059    -1.70012478 -1.68508579 -1.63081568\n",
      " -1.61864625 -1.59476084 -1.70408679 -1.64960021 -1.42561619 -1.77105602\n",
      " -1.46631179 -1.51412602 -1.49232078 -1.52305975 -1.73604532 -1.57912939\n",
      " -1.59274093 -1.65894527 -1.65691795 -1.61861401 -1.57295531 -1.43744674\n",
      " -1.56709896 -1.70217546 -1.45404324 -1.62515581]\n",
      "0.617683345109\n",
      "3.25910745746 7.27458970381\n",
      "[-1.04654863 -1.00573712 -1.18244957 -1.23487497 -1.27802176 -1.43809529\n",
      " -1.40540229 -0.99214865 -1.27236865 -1.42615785 -1.1489118  -1.25233899\n",
      " -1.44843922 -1.09061069 -1.42201314 -1.3541496  -1.33392578 -1.26094557\n",
      " -1.24458063 -1.21246051 -1.35947754 -1.28620624 -0.98500177 -1.44953499\n",
      " -1.03972753 -1.10402614 -1.07470335 -1.11603985 -1.40245404 -1.19143998\n",
      " -1.20974422 -1.29877308 -1.29604683 -1.24453727 -1.18313734 -1.000911\n",
      " -1.17526196 -1.35690726 -1.02322929 -1.25333441]\n",
      "0.477046843431\n",
      "3.30827159499 7.39734139082\n",
      "[-0.72433699 -0.67578174 -0.88602435 -0.94839716 -0.99973081 -1.19017737\n",
      " -1.15128106 -0.65961494 -0.99300506 -1.17597486 -0.84612299 -0.96917488\n",
      " -1.20248399 -0.77675958 -1.17104372 -1.09030346 -1.0662423  -0.97941451\n",
      " -0.95994442 -0.9217297  -1.09664235 -1.00946824 -0.65111198 -1.20378769\n",
      " -0.71622163 -0.79272053 -0.75783391 -0.80701377 -1.1477734  -0.89672064\n",
      " -0.918498   -1.02441957 -1.02117603 -0.95989283 -0.88684262 -0.6700399\n",
      " -0.87747293 -1.09358438 -0.69659295 -0.97035918]\n",
      "0.371977631949\n",
      "3.34432308635 7.4913056818\n",
      "[-0.48015914 -0.42592548 -0.66075537 -0.73042251 -0.78775947 -1.00047822\n",
      " -0.9570331  -0.40786802 -0.78024717 -0.98461477 -0.61618766 -0.75363012\n",
      " -1.01422407 -0.53871239 -0.97910695 -0.88892434 -0.86204929 -0.76506724\n",
      " -0.74332018 -0.70063635 -0.89600455 -0.79863568 -0.39837066 -1.01568023\n",
      " -0.4710947  -0.55653993 -0.51757343 -0.57250472 -0.95311523 -0.67270256\n",
      " -0.69702673 -0.81533552 -0.81171266 -0.74326256 -0.66166933 -0.41951214\n",
      " -0.65120389 -0.89258895 -0.4491705  -0.75495292]\n",
      "0.294302891274\n",
      "3.37041864394 7.56337012866\n",
      "[-0.29531469 -0.23697078 -0.48959796 -0.56454502 -0.62622745 -0.85506772\n",
      " -0.80832998 -0.21754478 -0.6181458  -0.83800201 -0.44165254 -0.58951149\n",
      " -0.86985534 -0.35830558 -0.83207676 -0.7350594  -0.70614754 -0.60181542\n",
      " -0.57842019 -0.53250144 -0.7426762  -0.63792794 -0.20732763 -0.87142186\n",
      " -0.28556328 -0.37748423 -0.33556454 -0.39465897 -0.80411518 -0.5024506\n",
      " -0.52861824 -0.65589343 -0.65199599 -0.5783582  -0.49058118 -0.23007139\n",
      " -0.47932258 -0.73900174 -0.26197749 -0.59093455]\n",
      "0.237751188961\n",
      "3.38895871672 7.61877272149\n",
      "[-0.15558239 -0.09431827 -0.35958986 -0.43828815 -0.50305788 -0.74335199\n",
      " -0.69427495 -0.07391996 -0.49457173 -0.72543212 -0.3092447  -0.46450423\n",
      " -0.75887976 -0.22172608 -0.7192103  -0.61733706 -0.58697811 -0.47742399\n",
      " -0.45285779 -0.40464073 -0.62533509 -0.515344   -0.06319143 -0.76052468\n",
      " -0.14534291 -0.24186465 -0.19784681 -0.25989901 -0.6898492  -0.37308579\n",
      " -0.40056318 -0.5342087  -0.53011619 -0.4527927  -0.36062229 -0.08707355\n",
      " -0.34880018 -0.62147672 -0.12057661 -0.46599852]\n",
      "0.197409176208\n",
      "3.40176862665 7.66149697712\n",
      "[-0.05014724  0.01313455 -0.26087346 -0.34216359 -0.40906644 -0.65727436\n",
      " -0.60658102  0.03420465 -0.40030081 -0.63876432 -0.20887024 -0.36924307\n",
      " -0.67331351 -0.11846929 -0.63233759 -0.52710927 -0.49575048 -0.38258832\n",
      " -0.35721306 -0.30740803 -0.53537071 -0.42175718  0.04528651 -0.67501261\n",
      " -0.03957053 -0.13927111 -0.09380359 -0.15789941 -0.60200951 -0.27481387\n",
      " -0.30319619 -0.44124317 -0.43701588 -0.35714583 -0.2619399   0.02061786\n",
      " -0.24972844 -0.53138527 -0.01398858 -0.37078657]\n",
      "0.169314382353\n",
      "3.41023632071 7.69457239928\n",
      "[ 0.02921531  0.09383082 -0.18595219 -0.26895559 -0.33726848 -0.59070765\n",
      " -0.5389459   0.115345   -0.32831811 -0.57180749 -0.13285294 -0.2966058\n",
      " -0.60708485 -0.0405467  -0.56524531 -0.45779919 -0.42577949 -0.31023232\n",
      " -0.28432224 -0.23346752 -0.46623475 -0.3502267   0.12666042 -0.60881976\n",
      "  0.04001494 -0.06178694 -0.01536114 -0.08080785 -0.53427804 -0.2001864\n",
      " -0.22916691 -0.37012338 -0.36580699 -0.2842536  -0.1870411   0.10147186\n",
      " -0.17457227 -0.46216531  0.06613605 -0.29818183]\n",
      "0.150207159034\n",
      "3.41541712969 7.72030297507\n",
      "[ 0.08875981  0.15419134 -0.129125   -0.21317664 -0.28235225 -0.53899206\n",
      " -0.48657661  0.17597722 -0.27328884 -0.51985321 -0.07535518 -0.24117604\n",
      " -0.55557608  0.01811678 -0.51320816 -0.40440512 -0.37198105 -0.25497465\n",
      " -0.22873736 -0.1772404  -0.41294721 -0.29547412  0.18743554 -0.5573329\n",
      "  0.09969582 -0.00339169  0.04362041 -0.02265282 -0.4818498  -0.14353898\n",
      " -0.17288548 -0.31562206 -0.31125116 -0.22866785 -0.13022767  0.16192888\n",
      " -0.11760137 -0.40882638  0.12614682 -0.24277197]\n",
      "0.137434778637\n",
      "3.41811343595 7.74044094375\n",
      "[ 0.13324265  0.19909888 -0.08605636 -0.17065355 -0.24027815 -0.4985837\n",
      " -0.44582805  0.22102616 -0.23115591 -0.47932063 -0.03193754 -0.19883468\n",
      " -0.51527536  0.06214111 -0.47263245 -0.36312321 -0.33048869 -0.21272284\n",
      " -0.18631526 -0.13448406 -0.37172074 -0.25348518  0.23255885 -0.51704358\n",
      "  0.14424965  0.04049303  0.08781027  0.02110689 -0.44107056 -0.10056389\n",
      " -0.13010087 -0.2737639  -0.26936463 -0.1862453  -0.08716618  0.20688663\n",
      " -0.07445794 -0.36757317  0.17087233 -0.20044097]\n",
      "0.128934036239\n",
      "3.41893525976 7.75631894591\n"
     ]
    }
   ],
   "source": [
    "def update():\n",
    "    global a_guess, b_guess\n",
    "    y_pred = lin(a_guess, b_guess, x)\n",
    "    dydb = 2 * (y_pred - y)\n",
    "    dyda = x * dydb\n",
    "    a_guess -= lr * dyda.mean()\n",
    "    b_guess -= lr * dydb.mean()\n",
    "    print avg_loss(y, a_guess, b_guess, x)\n",
    "    print a_guess, b_guess\n",
    "\n",
    "for i in range(10):\n",
    "          update()"
   ]
  },
  {
   "cell_type": "code",
   "execution_count": null,
   "metadata": {
    "collapsed": true
   },
   "outputs": [],
   "source": []
  }
 ],
 "metadata": {
  "anaconda-cloud": {},
  "kernelspec": {
   "display_name": "Python [conda root]",
   "language": "python",
   "name": "conda-root-py"
  },
  "language_info": {
   "codemirror_mode": {
    "name": "ipython",
    "version": 2
   },
   "file_extension": ".py",
   "mimetype": "text/x-python",
   "name": "python",
   "nbconvert_exporter": "python",
   "pygments_lexer": "ipython2",
   "version": "2.7.12"
  }
 },
 "nbformat": 4,
 "nbformat_minor": 1
}
